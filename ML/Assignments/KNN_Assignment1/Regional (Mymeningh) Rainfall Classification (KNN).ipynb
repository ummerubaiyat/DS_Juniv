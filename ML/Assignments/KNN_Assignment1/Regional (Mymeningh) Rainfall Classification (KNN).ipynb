{
 "cells": [
  {
   "cell_type": "code",
   "execution_count": 1,
   "id": "7ba455f5",
   "metadata": {},
   "outputs": [],
   "source": [
    "\"\"\"\n",
    "@author: Umme Rubaiyat Chowdhury, ID: 20216021\"\"\"\n",
    "\n",
    "import numpy as np\n",
    "import matplotlib.pyplot as plt\n",
    "import pandas as pd\n",
    "from sklearn.model_selection import train_test_split \n",
    "from sklearn.neighbors import KNeighborsClassifier\n",
    "from sklearn.metrics import accuracy_score\n",
    "from sklearn.metrics import classification_report, confusion_matrix"
   ]
  },
  {
   "cell_type": "code",
   "execution_count": 2,
   "id": "0dca0a83",
   "metadata": {},
   "outputs": [
    {
     "data": {
      "text/html": [
       "<div>\n",
       "<style scoped>\n",
       "    .dataframe tbody tr th:only-of-type {\n",
       "        vertical-align: middle;\n",
       "    }\n",
       "\n",
       "    .dataframe tbody tr th {\n",
       "        vertical-align: top;\n",
       "    }\n",
       "\n",
       "    .dataframe thead th {\n",
       "        text-align: right;\n",
       "    }\n",
       "</style>\n",
       "<table border=\"1\" class=\"dataframe\">\n",
       "  <thead>\n",
       "    <tr style=\"text-align: right;\">\n",
       "      <th></th>\n",
       "      <th>ID</th>\n",
       "      <th>Station</th>\n",
       "      <th>Year</th>\n",
       "      <th>Month</th>\n",
       "      <th>TEM</th>\n",
       "      <th>DPT</th>\n",
       "      <th>WIS</th>\n",
       "      <th>HUM</th>\n",
       "      <th>SLP</th>\n",
       "      <th>T_RAN</th>\n",
       "      <th>A_RAIN</th>\n",
       "      <th>RAN</th>\n",
       "    </tr>\n",
       "  </thead>\n",
       "  <tbody>\n",
       "    <tr>\n",
       "      <th>0</th>\n",
       "      <td>1</td>\n",
       "      <td>Mymensingh</td>\n",
       "      <td>1960</td>\n",
       "      <td>1</td>\n",
       "      <td>16.9</td>\n",
       "      <td>11.3</td>\n",
       "      <td>2.0</td>\n",
       "      <td>73.39</td>\n",
       "      <td>1016.0</td>\n",
       "      <td>15</td>\n",
       "      <td>0.48</td>\n",
       "      <td>NRT</td>\n",
       "    </tr>\n",
       "    <tr>\n",
       "      <th>1</th>\n",
       "      <td>2</td>\n",
       "      <td>Mymensingh</td>\n",
       "      <td>1960</td>\n",
       "      <td>2</td>\n",
       "      <td>21.4</td>\n",
       "      <td>12.6</td>\n",
       "      <td>1.7</td>\n",
       "      <td>66.34</td>\n",
       "      <td>1013.0</td>\n",
       "      <td>0</td>\n",
       "      <td>0.00</td>\n",
       "      <td>NRT</td>\n",
       "    </tr>\n",
       "    <tr>\n",
       "      <th>2</th>\n",
       "      <td>3</td>\n",
       "      <td>Mymensingh</td>\n",
       "      <td>1960</td>\n",
       "      <td>3</td>\n",
       "      <td>24.1</td>\n",
       "      <td>14.9</td>\n",
       "      <td>2.3</td>\n",
       "      <td>64.13</td>\n",
       "      <td>1011.4</td>\n",
       "      <td>69</td>\n",
       "      <td>2.23</td>\n",
       "      <td>LTR</td>\n",
       "    </tr>\n",
       "    <tr>\n",
       "      <th>3</th>\n",
       "      <td>4</td>\n",
       "      <td>Mymensingh</td>\n",
       "      <td>1960</td>\n",
       "      <td>4</td>\n",
       "      <td>29.9</td>\n",
       "      <td>17.6</td>\n",
       "      <td>2.2</td>\n",
       "      <td>59.03</td>\n",
       "      <td>1007.1</td>\n",
       "      <td>27</td>\n",
       "      <td>0.90</td>\n",
       "      <td>NRT</td>\n",
       "    </tr>\n",
       "    <tr>\n",
       "      <th>4</th>\n",
       "      <td>5</td>\n",
       "      <td>Mymensingh</td>\n",
       "      <td>1960</td>\n",
       "      <td>5</td>\n",
       "      <td>29.6</td>\n",
       "      <td>23.2</td>\n",
       "      <td>2.4</td>\n",
       "      <td>73.45</td>\n",
       "      <td>1003.4</td>\n",
       "      <td>187</td>\n",
       "      <td>6.03</td>\n",
       "      <td>LTR</td>\n",
       "    </tr>\n",
       "  </tbody>\n",
       "</table>\n",
       "</div>"
      ],
      "text/plain": [
       "   ID     Station  Year  Month   TEM   DPT  WIS    HUM     SLP  T_RAN  A_RAIN  \\\n",
       "0   1  Mymensingh  1960      1  16.9  11.3  2.0  73.39  1016.0     15    0.48   \n",
       "1   2  Mymensingh  1960      2  21.4  12.6  1.7  66.34  1013.0      0    0.00   \n",
       "2   3  Mymensingh  1960      3  24.1  14.9  2.3  64.13  1011.4     69    2.23   \n",
       "3   4  Mymensingh  1960      4  29.9  17.6  2.2  59.03  1007.1     27    0.90   \n",
       "4   5  Mymensingh  1960      5  29.6  23.2  2.4  73.45  1003.4    187    6.03   \n",
       "\n",
       "   RAN  \n",
       "0  NRT  \n",
       "1  NRT  \n",
       "2  LTR  \n",
       "3  NRT  \n",
       "4  LTR  "
      ]
     },
     "execution_count": 2,
     "metadata": {},
     "output_type": "execute_result"
    }
   ],
   "source": [
    "#read data\n",
    "df=pd.read_csv('Mymensingh.csv')\n",
    "df.head()"
   ]
  },
  {
   "cell_type": "code",
   "execution_count": 3,
   "id": "996d69ec",
   "metadata": {},
   "outputs": [],
   "source": [
    "#predict class \n",
    "Y=df['RAN']"
   ]
  },
  {
   "cell_type": "code",
   "execution_count": 4,
   "id": "0044b04c",
   "metadata": {},
   "outputs": [],
   "source": [
    "#removing unnecessary columns\n",
    "del df[\"ID\"]\n",
    "del df[\"Station\"]\n",
    "del df['Year']\n",
    "del df['Month']\n",
    "del df['RAN']"
   ]
  },
  {
   "cell_type": "code",
   "execution_count": 5,
   "id": "c4c4b671",
   "metadata": {},
   "outputs": [
    {
     "data": {
      "text/plain": [
       "(672, 7)"
      ]
     },
     "execution_count": 5,
     "metadata": {},
     "output_type": "execute_result"
    }
   ],
   "source": [
    "df.shape "
   ]
  },
  {
   "cell_type": "code",
   "execution_count": 6,
   "id": "c2580ce6",
   "metadata": {},
   "outputs": [
    {
     "name": "stdout",
     "output_type": "stream",
     "text": [
      "<class 'pandas.core.frame.DataFrame'>\n",
      "RangeIndex: 672 entries, 0 to 671\n",
      "Data columns (total 7 columns):\n",
      " #   Column  Non-Null Count  Dtype  \n",
      "---  ------  --------------  -----  \n",
      " 0   TEM     654 non-null    float64\n",
      " 1   DPT     657 non-null    float64\n",
      " 2   WIS     672 non-null    float64\n",
      " 3   HUM     654 non-null    float64\n",
      " 4   SLP     654 non-null    float64\n",
      " 5   T_RAN   672 non-null    int64  \n",
      " 6   A_RAIN  672 non-null    float64\n",
      "dtypes: float64(6), int64(1)\n",
      "memory usage: 36.9 KB\n"
     ]
    }
   ],
   "source": [
    "df.info()"
   ]
  },
  {
   "cell_type": "code",
   "execution_count": 7,
   "id": "64f3bcd9",
   "metadata": {},
   "outputs": [],
   "source": [
    "#Full missing values\n",
    "df['TEM']= df['TEM'].fillna(df['TEM'].mean())\n",
    "df['DPT']= df['DPT'].fillna(df['DPT'].mean())\n",
    "df['HUM']= df['HUM'].fillna(df['HUM'].mean())\n",
    "df['SLP']= df['SLP'].fillna(df['SLP'].mean())\n"
   ]
  },
  {
   "cell_type": "code",
   "execution_count": 8,
   "id": "83833c37",
   "metadata": {},
   "outputs": [
    {
     "data": {
      "text/html": [
       "<div>\n",
       "<style scoped>\n",
       "    .dataframe tbody tr th:only-of-type {\n",
       "        vertical-align: middle;\n",
       "    }\n",
       "\n",
       "    .dataframe tbody tr th {\n",
       "        vertical-align: top;\n",
       "    }\n",
       "\n",
       "    .dataframe thead th {\n",
       "        text-align: right;\n",
       "    }\n",
       "</style>\n",
       "<table border=\"1\" class=\"dataframe\">\n",
       "  <thead>\n",
       "    <tr style=\"text-align: right;\">\n",
       "      <th></th>\n",
       "      <th>TEM</th>\n",
       "      <th>DPT</th>\n",
       "      <th>WIS</th>\n",
       "      <th>HUM</th>\n",
       "      <th>SLP</th>\n",
       "      <th>T_RAN</th>\n",
       "      <th>A_RAIN</th>\n",
       "    </tr>\n",
       "  </thead>\n",
       "  <tbody>\n",
       "    <tr>\n",
       "      <th>0</th>\n",
       "      <td>16.9</td>\n",
       "      <td>11.3</td>\n",
       "      <td>2.0</td>\n",
       "      <td>73.39</td>\n",
       "      <td>1016.0</td>\n",
       "      <td>15</td>\n",
       "      <td>0.48</td>\n",
       "    </tr>\n",
       "    <tr>\n",
       "      <th>1</th>\n",
       "      <td>21.4</td>\n",
       "      <td>12.6</td>\n",
       "      <td>1.7</td>\n",
       "      <td>66.34</td>\n",
       "      <td>1013.0</td>\n",
       "      <td>0</td>\n",
       "      <td>0.00</td>\n",
       "    </tr>\n",
       "    <tr>\n",
       "      <th>2</th>\n",
       "      <td>24.1</td>\n",
       "      <td>14.9</td>\n",
       "      <td>2.3</td>\n",
       "      <td>64.13</td>\n",
       "      <td>1011.4</td>\n",
       "      <td>69</td>\n",
       "      <td>2.23</td>\n",
       "    </tr>\n",
       "    <tr>\n",
       "      <th>3</th>\n",
       "      <td>29.9</td>\n",
       "      <td>17.6</td>\n",
       "      <td>2.2</td>\n",
       "      <td>59.03</td>\n",
       "      <td>1007.1</td>\n",
       "      <td>27</td>\n",
       "      <td>0.90</td>\n",
       "    </tr>\n",
       "    <tr>\n",
       "      <th>4</th>\n",
       "      <td>29.6</td>\n",
       "      <td>23.2</td>\n",
       "      <td>2.4</td>\n",
       "      <td>73.45</td>\n",
       "      <td>1003.4</td>\n",
       "      <td>187</td>\n",
       "      <td>6.03</td>\n",
       "    </tr>\n",
       "  </tbody>\n",
       "</table>\n",
       "</div>"
      ],
      "text/plain": [
       "    TEM   DPT  WIS    HUM     SLP  T_RAN  A_RAIN\n",
       "0  16.9  11.3  2.0  73.39  1016.0     15    0.48\n",
       "1  21.4  12.6  1.7  66.34  1013.0      0    0.00\n",
       "2  24.1  14.9  2.3  64.13  1011.4     69    2.23\n",
       "3  29.9  17.6  2.2  59.03  1007.1     27    0.90\n",
       "4  29.6  23.2  2.4  73.45  1003.4    187    6.03"
      ]
     },
     "execution_count": 8,
     "metadata": {},
     "output_type": "execute_result"
    }
   ],
   "source": [
    "#feauture class \n",
    "X=df\n",
    "X.head()"
   ]
  },
  {
   "cell_type": "code",
   "execution_count": 9,
   "id": "2827bc1b",
   "metadata": {},
   "outputs": [
    {
     "data": {
      "text/plain": [
       "<bound method DataFrame.isnull of       TEM   DPT  WIS    HUM     SLP  T_RAN  A_RAIN\n",
       "0    16.9  11.3  2.0  73.39  1016.0     15    0.48\n",
       "1    21.4  12.6  1.7  66.34  1013.0      0    0.00\n",
       "2    24.1  14.9  2.3  64.13  1011.4     69    2.23\n",
       "3    29.9  17.6  2.2  59.03  1007.1     27    0.90\n",
       "4    29.6  23.2  2.4  73.45  1003.4    187    6.03\n",
       "..    ...   ...  ...    ...     ...    ...     ...\n",
       "667  28.7  26.2  2.5  87.10  1003.3    349   11.26\n",
       "668  28.8  25.2  2.0  85.63  1006.0    263    8.77\n",
       "669  27.0  23.5  2.0  82.48  1011.3    180    5.81\n",
       "670  23.1  18.7  1.7  81.73  1013.7     13    0.43\n",
       "671  18.3  14.9  1.8  82.68  1015.9      5    0.16\n",
       "\n",
       "[672 rows x 7 columns]>"
      ]
     },
     "execution_count": 9,
     "metadata": {},
     "output_type": "execute_result"
    }
   ],
   "source": [
    "df.isnull "
   ]
  },
  {
   "cell_type": "code",
   "execution_count": 10,
   "id": "121d3ef8",
   "metadata": {},
   "outputs": [
    {
     "data": {
      "text/plain": [
       "array(['NRT', 'MHR', 'NRT', 'NRT', 'NRT', 'LTR', 'MHR', 'NRT', 'MHR',\n",
       "       'MHR', 'LTR', 'NRT', 'MHR', 'LTR', 'LTR', 'NRT', 'LTR', 'MHR',\n",
       "       'MHR', 'MHR', 'LTR', 'LTR', 'LTR', 'NRT', 'MHR', 'LTR', 'NRT',\n",
       "       'MHR', 'NRT', 'LTR', 'NRT', 'MHR', 'NRT', 'NRT', 'LTR', 'NRT',\n",
       "       'NRT', 'NRT', 'NRT', 'LTR', 'MHR', 'MHR', 'LTR', 'MHR', 'NRT',\n",
       "       'LTR', 'NRT', 'LTR', 'NRT', 'NRT', 'LTR', 'NRT', 'LTR', 'MHR',\n",
       "       'LTR', 'NRT', 'MHR', 'LTR', 'LTR', 'NRT', 'LTR', 'MHR', 'LTR',\n",
       "       'MHR', 'NRT', 'MHR', 'MHR', 'LTR', 'LTR', 'MHR', 'NRT', 'LTR',\n",
       "       'LTR', 'NRT', 'LTR', 'LTR', 'LTR', 'MHR', 'NRT', 'NRT', 'LTR',\n",
       "       'LTR', 'NRT', 'LTR', 'LTR', 'LTR', 'NRT', 'LTR', 'MHR', 'MHR',\n",
       "       'LTR', 'NRT', 'NRT', 'LTR', 'NRT', 'MHR', 'MHR', 'LTR', 'MHR',\n",
       "       'LTR', 'MHR', 'NRT', 'LTR', 'MHR', 'MHR', 'LTR', 'NRT', 'NRT',\n",
       "       'MHR', 'NRT', 'NRT', 'NRT', 'NRT', 'NRT', 'LTR', 'NRT', 'NRT',\n",
       "       'NRT', 'NRT', 'NRT', 'NRT', 'LTR', 'NRT', 'NRT', 'NRT', 'NRT',\n",
       "       'LTR', 'LTR', 'NRT', 'MHR', 'LTR', 'LTR', 'LTR', 'MHR', 'MHR',\n",
       "       'LTR', 'LTR', 'MHR', 'NRT', 'NRT', 'NRT', 'LTR', 'NRT', 'LTR',\n",
       "       'MHR', 'NRT', 'NRT', 'NRT', 'NRT', 'LTR', 'MHR', 'NRT', 'NRT',\n",
       "       'MHR', 'NRT', 'LTR', 'MHR', 'LTR', 'NRT', 'LTR', 'LTR', 'NRT',\n",
       "       'NRT', 'LTR', 'NRT', 'NRT', 'NRT', 'MHR'], dtype=object)"
      ]
     },
     "execution_count": 10,
     "metadata": {},
     "output_type": "execute_result"
    }
   ],
   "source": [
    "#splitting the dataset \n",
    "#assuming initial k value to be 15\n",
    "X_train, X_test, Y_train, Y_test=train_test_split(X, Y, test_size=0.25, random_state=216021)\n",
    "KNN=KNeighborsClassifier(n_neighbors=15,metric='euclidean')\n",
    "KNN.fit(X_train, Y_train)\n",
    "P=KNN.predict(X_test)\n",
    "P"
   ]
  },
  {
   "cell_type": "code",
   "execution_count": 11,
   "id": "794cbf1d",
   "metadata": {},
   "outputs": [
    {
     "data": {
      "text/plain": [
       "0.9880952380952381"
      ]
     },
     "execution_count": 11,
     "metadata": {},
     "output_type": "execute_result"
    }
   ],
   "source": [
    "accuracy_score(Y_test, P)"
   ]
  },
  {
   "cell_type": "code",
   "execution_count": 12,
   "id": "aec6f056",
   "metadata": {},
   "outputs": [
    {
     "name": "stdout",
     "output_type": "stream",
     "text": [
      "[0.023809523809523808, 0.017857142857142856, 0.023809523809523808, 0.017857142857142856, 0.017857142857142856, 0.017857142857142856, 0.011904761904761904, 0.011904761904761904, 0.011904761904761904, 0.011904761904761904, 0.011904761904761904, 0.011904761904761904, 0.011904761904761904, 0.011904761904761904, 0.011904761904761904, 0.011904761904761904, 0.017857142857142856, 0.011904761904761904, 0.011904761904761904, 0.005952380952380952, 0.005952380952380952, 0.005952380952380952, 0.005952380952380952, 0.005952380952380952, 0.011904761904761904, 0.011904761904761904, 0.011904761904761904, 0.005952380952380952, 0.011904761904761904, 0.011904761904761904, 0.011904761904761904, 0.011904761904761904, 0.011904761904761904, 0.011904761904761904, 0.011904761904761904, 0.011904761904761904, 0.017857142857142856, 0.017857142857142856, 0.017857142857142856]\n",
      "[0.9761904761904762, 0.9821428571428571, 0.9761904761904762, 0.9821428571428571, 0.9821428571428571, 0.9821428571428571, 0.9880952380952381, 0.9880952380952381, 0.9880952380952381, 0.9880952380952381, 0.9880952380952381, 0.9880952380952381, 0.9880952380952381, 0.9880952380952381, 0.9880952380952381, 0.9880952380952381, 0.9821428571428571, 0.9880952380952381, 0.9880952380952381, 0.9940476190476191, 0.9940476190476191, 0.9940476190476191, 0.9940476190476191, 0.9940476190476191, 0.9880952380952381, 0.9880952380952381, 0.9880952380952381, 0.9940476190476191, 0.9880952380952381, 0.9880952380952381, 0.9880952380952381, 0.9880952380952381, 0.9880952380952381, 0.9880952380952381, 0.9880952380952381, 0.9880952380952381, 0.9821428571428571, 0.9821428571428571, 0.9821428571428571]\n"
     ]
    }
   ],
   "source": [
    "# Optimal Value of k and Accuracy Rate for Optimal k\n",
    "\n",
    "error = []\n",
    "accuracy = []\n",
    "# Calculating error for K values between 1 and 40\n",
    "for i in range(1, 40):\n",
    "    knn = KNeighborsClassifier(n_neighbors=i,metric='euclidean')\n",
    "    knn.fit(X_train, Y_train)\n",
    "    pred_i = knn.predict(X_test)\n",
    "    error.append(np.mean(pred_i != Y_test))\n",
    "    accuracy.append(np.mean(pred_i == Y_test))\n",
    "print(error)\n",
    "print(accuracy)"
   ]
  },
  {
   "cell_type": "code",
   "execution_count": 13,
   "id": "ee3ab36c",
   "metadata": {},
   "outputs": [
    {
     "data": {
      "image/png": "[encoded data removed]",
      "text/plain": [
       "<Figure size 648x360 with 1 Axes>"
      ]
     },
     "metadata": {
      "needs_background": "light"
     },
     "output_type": "display_data"
    }
   ],
   "source": [
    "#plotting the optimal value of k vs Error Rate\n",
    "plt.figure(figsize=(9, 5))\n",
    "plt.plot(range(1, 40), error, color='red', linestyle='solid', marker='o',\n",
    "         linewidth =2, markerfacecolor='blue', markersize=10)\n",
    "plt.title('Optimal value of k')\n",
    "plt.xlabel('Value of k')\n",
    "plt.ylabel('Error Rate')\n",
    "plt.savefig('ErrorRate.jpg',dpi=1200)"
   ]
  },
  {
   "cell_type": "code",
   "execution_count": 14,
   "id": "1a2f1d20",
   "metadata": {},
   "outputs": [
    {
     "data": {
      "image/png": "[encoded data removed]",
      "text/plain": [
       "<Figure size 648x360 with 1 Axes>"
      ]
     },
     "metadata": {
      "needs_background": "light"
     },
     "output_type": "display_data"
    }
   ],
   "source": [
    "#plotting the optimal value of k vs Accuracy Rate\n",
    "plt.figure(figsize=(9, 5))\n",
    "plt.plot(range(1, 40), accuracy, color='red', linestyle='solid', marker='o',\n",
    "         linewidth =2, markerfacecolor='blue', markersize=10)\n",
    "plt.title('Optimal value of k')\n",
    "plt.xlabel('Value of k')\n",
    "plt.ylabel('Accuracy Rate')\n",
    "plt.savefig('AccuracyRate.jpg',dpi=1200)"
   ]
  },
  {
   "cell_type": "code",
   "execution_count": 15,
   "id": "f77a1f8c",
   "metadata": {},
   "outputs": [
    {
     "data": {
      "text/plain": [
       "array(['NRT', 'MHR', 'NRT', 'NRT', 'NRT', 'LTR', 'MHR', 'NRT', 'MHR',\n",
       "       'MHR', 'LTR', 'NRT', 'LTR', 'LTR', 'LTR', 'NRT', 'LTR', 'MHR',\n",
       "       'MHR', 'MHR', 'LTR', 'LTR', 'LTR', 'NRT', 'MHR', 'LTR', 'NRT',\n",
       "       'MHR', 'NRT', 'LTR', 'NRT', 'MHR', 'NRT', 'NRT', 'LTR', 'NRT',\n",
       "       'NRT', 'NRT', 'NRT', 'LTR', 'MHR', 'MHR', 'LTR', 'MHR', 'NRT',\n",
       "       'LTR', 'NRT', 'LTR', 'NRT', 'NRT', 'LTR', 'NRT', 'LTR', 'MHR',\n",
       "       'LTR', 'NRT', 'MHR', 'LTR', 'LTR', 'NRT', 'LTR', 'MHR', 'LTR',\n",
       "       'LTR', 'NRT', 'MHR', 'MHR', 'LTR', 'LTR', 'MHR', 'NRT', 'LTR',\n",
       "       'LTR', 'NRT', 'LTR', 'LTR', 'LTR', 'MHR', 'NRT', 'NRT', 'LTR',\n",
       "       'LTR', 'NRT', 'LTR', 'LTR', 'LTR', 'NRT', 'LTR', 'MHR', 'MHR',\n",
       "       'LTR', 'NRT', 'NRT', 'LTR', 'NRT', 'MHR', 'MHR', 'LTR', 'MHR',\n",
       "       'LTR', 'MHR', 'NRT', 'LTR', 'MHR', 'MHR', 'LTR', 'NRT', 'NRT',\n",
       "       'MHR', 'NRT', 'NRT', 'NRT', 'NRT', 'NRT', 'LTR', 'NRT', 'NRT',\n",
       "       'NRT', 'NRT', 'NRT', 'NRT', 'LTR', 'NRT', 'NRT', 'NRT', 'NRT',\n",
       "       'LTR', 'LTR', 'NRT', 'MHR', 'LTR', 'LTR', 'LTR', 'MHR', 'MHR',\n",
       "       'LTR', 'LTR', 'MHR', 'NRT', 'NRT', 'NRT', 'LTR', 'NRT', 'LTR',\n",
       "       'MHR', 'NRT', 'NRT', 'NRT', 'NRT', 'LTR', 'MHR', 'NRT', 'NRT',\n",
       "       'LTR', 'NRT', 'LTR', 'MHR', 'LTR', 'NRT', 'LTR', 'LTR', 'NRT',\n",
       "       'NRT', 'LTR', 'NRT', 'NRT', 'NRT', 'MHR'], dtype=object)"
      ]
     },
     "execution_count": 15,
     "metadata": {},
     "output_type": "execute_result"
    }
   ],
   "source": [
    "#training the model using optimal k value found from the graph \n",
    "KNN1=KNeighborsClassifier(algorithm='auto', leaf_size=30, metric='euclidean',\n",
    "           metric_params=None, n_jobs=1, n_neighbors=21, p=2,\n",
    "           weights='uniform')\n",
    "KNN1.fit(X_train, Y_train)\n",
    "P1=KNN1.predict(X_test)\n",
    "P1"
   ]
  },
  {
   "cell_type": "code",
   "execution_count": 16,
   "id": "5039b19b",
   "metadata": {},
   "outputs": [
    {
     "data": {
      "text/plain": [
       "0.9940476190476191"
      ]
     },
     "execution_count": 16,
     "metadata": {},
     "output_type": "execute_result"
    }
   ],
   "source": [
    "accuracy_score(Y_test, P1)"
   ]
  },
  {
   "cell_type": "code",
   "execution_count": 17,
   "id": "17a67911",
   "metadata": {},
   "outputs": [
    {
     "name": "stdout",
     "output_type": "stream",
     "text": [
      "[[60  0  0]\n",
      " [ 1 37  0]\n",
      " [ 0  0 70]]\n"
     ]
    }
   ],
   "source": [
    "print(confusion_matrix(Y_test, P1))"
   ]
  },
  {
   "cell_type": "code",
   "execution_count": 18,
   "id": "94d6d83f",
   "metadata": {},
   "outputs": [
    {
     "name": "stdout",
     "output_type": "stream",
     "text": [
      "              precision    recall  f1-score   support\n",
      "\n",
      "         LTR       0.98      1.00      0.99        60\n",
      "         MHR       1.00      0.97      0.99        38\n",
      "         NRT       1.00      1.00      1.00        70\n",
      "\n",
      "    accuracy                           0.99       168\n",
      "   macro avg       0.99      0.99      0.99       168\n",
      "weighted avg       0.99      0.99      0.99       168\n",
      "\n"
     ]
    }
   ],
   "source": [
    "print(classification_report(Y_test, P1))"
   ]
  },
  {
   "cell_type": "raw",
   "id": "8f049639",
   "metadata": {},
   "source": [
    "#Inference\n",
    "Here, I initially set the K value 15. Where I found the accuracy score of the classification 0.9880952380952381. \n",
    "After iterating it 40 times, Here I found multiple optimal k values(20-24,27). So, I chose 21 among them,\n",
    "for which the accuracy score increased up to 0.9940476190476191. From this assignment, I came\n",
    "to know about the optimal K value identification process & necessity."
   ]
  }
 ],
 "metadata": {
  "kernelspec": {
   "display_name": "Python 3",
   "language": "python",
   "name": "python3"
  },
  "language_info": {
   "codemirror_mode": {
    "name": "ipython",
    "version": 3
   },
   "file_extension": ".py",
   "mimetype": "text/x-python",
   "name": "python",
   "nbconvert_exporter": "python",
   "pygments_lexer": "ipython3",
   "version": "3.8.8"
  }
 },
 "nbformat": 4,
 "nbformat_minor": 5
}
