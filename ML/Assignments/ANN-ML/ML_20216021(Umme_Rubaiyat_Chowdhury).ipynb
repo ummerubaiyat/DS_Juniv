{
 "cells": [
  {
   "cell_type": "markdown",
   "metadata": {
    "id": "c8oY5r2PSVC5"
   },
   "source": [
    "Problem 1: The data set “Mymensingh.csv” is the historical climate record on different atmospheric\n",
    "parameters of the location Mymensingh. Fit the Artificial Neural Network (ANN) model to the\n",
    "atmospheric data from the region Mymensingh of Bangladesh to classify the rainfall (RAN) category\n",
    "[No Rain and Trace (NRT), Light Rain (LTR), Moderate and High Rain (MHR)] based on\n",
    "Temperature (TEM), Dew Point Temperature (DPT), Wind Speed (WIS), Humidity (HUM), and Sea\n",
    "Level Pressure (SLP). Use Seventy-five percent observation as training data and the rest of data as\n",
    "test data. Hence find the prediction accuracy rate and error rate for test data and training data. You\n",
    "must use the last six digits of your ID as a random seed point to draw the training data."
   ]
  },
  {
   "cell_type": "code",
   "execution_count": 1,
   "metadata": {
    "id": "IEr19e9XcuM2"
   },
   "outputs": [],
   "source": [
    "#import libraries\n",
    "import numpy as np\n",
    "import pandas as pd\n",
    "from sklearn.model_selection import train_test_split\n",
    "from sklearn.linear_model import LogisticRegression\n",
    "from sklearn.metrics import classification_report, confusion_matrix, accuracy_score\n",
    "from sklearn import tree\n",
    "from sklearn.preprocessing import StandardScaler\n",
    " \n",
    "# importing ANN libraries\n",
    "from keras.layers import Dense, BatchNormalization, Dropout, LSTM\n",
    "from keras.models import Sequential\n",
    "#from tensorflow.keras.utils import to_categorical\n",
    "from tensorflow.keras.optimizers import Adam\n",
    "#from tensorflow.keras import regularizers\n",
    "from keras import callbacks\n",
    "\n",
    "# For visualization\n",
    "import matplotlib.pyplot as plt\n",
    "%matplotlib inline\n",
    "import seaborn as sns"
   ]
  },
  {
   "cell_type": "code",
   "execution_count": 2,
   "metadata": {
    "id": "KDgXO7xZdjXB"
   },
   "outputs": [],
   "source": [
    "file_path=\"/content/Mymensingh.csv\"\n",
    "\n",
    "#read the data and convert into DataFrame\n",
    "df=pd.DataFrame(pd.read_csv(file_path))"
   ]
  },
  {
   "cell_type": "code",
   "execution_count": 3,
   "metadata": {
    "colab": {
     "base_uri": "https://localhost:8080/"
    },
    "id": "V2HVWdf0du14",
    "outputId": "20e5c968-8fcd-4bc8-8312-52319ee73a53"
   },
   "outputs": [
    {
     "data": {
      "text/plain": [
       "(672, 12)"
      ]
     },
     "execution_count": 3,
     "metadata": {},
     "output_type": "execute_result"
    }
   ],
   "source": [
    "df.shape\n"
   ]
  },
  {
   "cell_type": "code",
   "execution_count": 4,
   "metadata": {
    "colab": {
     "base_uri": "https://localhost:8080/",
     "height": 206
    },
    "id": "3JKIMd8eeFj7",
    "outputId": "2312eb74-0a30-4082-bc59-2720c6d414ed"
   },
   "outputs": [
    {
     "data": {
      "text/html": [
       "\n",
       "  <div id=\"df-95c9328e-490b-4196-a2a4-f368716589ad\">\n",
       "    <div class=\"colab-df-container\">\n",
       "      <div>\n",
       "<style scoped>\n",
       "    .dataframe tbody tr th:only-of-type {\n",
       "        vertical-align: middle;\n",
       "    }\n",
       "\n",
       "    .dataframe tbody tr th {\n",
       "        vertical-align: top;\n",
       "    }\n",
       "\n",
       "    .dataframe thead th {\n",
       "        text-align: right;\n",
       "    }\n",
       "</style>\n",
       "<table border=\"1\" class=\"dataframe\">\n",
       "  <thead>\n",
       "    <tr style=\"text-align: right;\">\n",
       "      <th></th>\n",
       "      <th>ID</th>\n",
       "      <th>Station</th>\n",
       "      <th>Year</th>\n",
       "      <th>Month</th>\n",
       "      <th>TEM</th>\n",
       "      <th>DPT</th>\n",
       "      <th>WIS</th>\n",
       "      <th>HUM</th>\n",
       "      <th>SLP</th>\n",
       "      <th>T_RAN</th>\n",
       "      <th>A_RAIN</th>\n",
       "      <th>RAN</th>\n",
       "    </tr>\n",
       "  </thead>\n",
       "  <tbody>\n",
       "    <tr>\n",
       "      <th>0</th>\n",
       "      <td>1</td>\n",
       "      <td>Mymensingh</td>\n",
       "      <td>1960</td>\n",
       "      <td>1</td>\n",
       "      <td>16.9</td>\n",
       "      <td>11.3</td>\n",
       "      <td>2.0</td>\n",
       "      <td>73.39</td>\n",
       "      <td>1016.0</td>\n",
       "      <td>15</td>\n",
       "      <td>0.48</td>\n",
       "      <td>NRT</td>\n",
       "    </tr>\n",
       "    <tr>\n",
       "      <th>1</th>\n",
       "      <td>2</td>\n",
       "      <td>Mymensingh</td>\n",
       "      <td>1960</td>\n",
       "      <td>2</td>\n",
       "      <td>21.4</td>\n",
       "      <td>12.6</td>\n",
       "      <td>1.7</td>\n",
       "      <td>66.34</td>\n",
       "      <td>1013.0</td>\n",
       "      <td>0</td>\n",
       "      <td>0.00</td>\n",
       "      <td>NRT</td>\n",
       "    </tr>\n",
       "    <tr>\n",
       "      <th>2</th>\n",
       "      <td>3</td>\n",
       "      <td>Mymensingh</td>\n",
       "      <td>1960</td>\n",
       "      <td>3</td>\n",
       "      <td>24.1</td>\n",
       "      <td>14.9</td>\n",
       "      <td>2.3</td>\n",
       "      <td>64.13</td>\n",
       "      <td>1011.4</td>\n",
       "      <td>69</td>\n",
       "      <td>2.23</td>\n",
       "      <td>LTR</td>\n",
       "    </tr>\n",
       "    <tr>\n",
       "      <th>3</th>\n",
       "      <td>4</td>\n",
       "      <td>Mymensingh</td>\n",
       "      <td>1960</td>\n",
       "      <td>4</td>\n",
       "      <td>29.9</td>\n",
       "      <td>17.6</td>\n",
       "      <td>2.2</td>\n",
       "      <td>59.03</td>\n",
       "      <td>1007.1</td>\n",
       "      <td>27</td>\n",
       "      <td>0.90</td>\n",
       "      <td>NRT</td>\n",
       "    </tr>\n",
       "    <tr>\n",
       "      <th>4</th>\n",
       "      <td>5</td>\n",
       "      <td>Mymensingh</td>\n",
       "      <td>1960</td>\n",
       "      <td>5</td>\n",
       "      <td>29.6</td>\n",
       "      <td>23.2</td>\n",
       "      <td>2.4</td>\n",
       "      <td>73.45</td>\n",
       "      <td>1003.4</td>\n",
       "      <td>187</td>\n",
       "      <td>6.03</td>\n",
       "      <td>LTR</td>\n",
       "    </tr>\n",
       "  </tbody>\n",
       "</table>\n",
       "</div>\n",
       "      <button class=\"colab-df-convert\" onclick=\"convertToInteractive('df-95c9328e-490b-4196-a2a4-f368716589ad')\"\n",
       "              title=\"Convert this dataframe to an interactive table.\"\n",
       "              style=\"display:none;\">\n",
       "        \n",
       "  <svg xmlns=\"http://www.w3.org/2000/svg\" height=\"24px\"viewBox=\"0 0 24 24\"\n",
       "       width=\"24px\">\n",
       "    <path d=\"M0 0h24v24H0V0z\" fill=\"none\"/>\n",
       "    <path d=\"M18.56 5.44l.94 2.06.94-2.06 2.06-.94-2.06-.94-.94-2.06-.94 2.06-2.06.94zm-11 1L8.5 8.5l.94-2.06 2.06-.94-2.06-.94L8.5 2.5l-.94 2.06-2.06.94zm10 10l.94 2.06.94-2.06 2.06-.94-2.06-.94-.94-2.06-.94 2.06-2.06.94z\"/><path d=\"M17.41 7.96l-1.37-1.37c-.4-.4-.92-.59-1.43-.59-.52 0-1.04.2-1.43.59L10.3 9.45l-7.72 7.72c-.78.78-.78 2.05 0 2.83L4 21.41c.39.39.9.59 1.41.59.51 0 1.02-.2 1.41-.59l7.78-7.78 2.81-2.81c.8-.78.8-2.07 0-2.86zM5.41 20L4 18.59l7.72-7.72 1.47 1.35L5.41 20z\"/>\n",
       "  </svg>\n",
       "      </button>\n",
       "      \n",
       "  <style>\n",
       "    .colab-df-container {\n",
       "      display:flex;\n",
       "      flex-wrap:wrap;\n",
       "      gap: 12px;\n",
       "    }\n",
       "\n",
       "    .colab-df-convert {\n",
       "      background-color: #E8F0FE;\n",
       "      border: none;\n",
       "      border-radius: 50%;\n",
       "      cursor: pointer;\n",
       "      display: none;\n",
       "      fill: #1967D2;\n",
       "      height: 32px;\n",
       "      padding: 0 0 0 0;\n",
       "      width: 32px;\n",
       "    }\n",
       "\n",
       "    .colab-df-convert:hover {\n",
       "      background-color: #E2EBFA;\n",
       "      box-shadow: 0px 1px 2px rgba(60, 64, 67, 0.3), 0px 1px 3px 1px rgba(60, 64, 67, 0.15);\n",
       "      fill: #174EA6;\n",
       "    }\n",
       "\n",
       "    [theme=dark] .colab-df-convert {\n",
       "      background-color: #3B4455;\n",
       "      fill: #D2E3FC;\n",
       "    }\n",
       "\n",
       "    [theme=dark] .colab-df-convert:hover {\n",
       "      background-color: #434B5C;\n",
       "      box-shadow: 0px 1px 3px 1px rgba(0, 0, 0, 0.15);\n",
       "      filter: drop-shadow(0px 1px 2px rgba(0, 0, 0, 0.3));\n",
       "      fill: #FFFFFF;\n",
       "    }\n",
       "  </style>\n",
       "\n",
       "      <script>\n",
       "        const buttonEl =\n",
       "          document.querySelector('#df-95c9328e-490b-4196-a2a4-f368716589ad button.colab-df-convert');\n",
       "        buttonEl.style.display =\n",
       "          google.colab.kernel.accessAllowed ? 'block' : 'none';\n",
       "\n",
       "        async function convertToInteractive(key) {\n",
       "          const element = document.querySelector('#df-95c9328e-490b-4196-a2a4-f368716589ad');\n",
       "          const dataTable =\n",
       "            await google.colab.kernel.invokeFunction('convertToInteractive',\n",
       "                                                     [key], {});\n",
       "          if (!dataTable) return;\n",
       "\n",
       "          const docLinkHtml = 'Like what you see? Visit the ' +\n",
       "            '<a target=\"_blank\" href=https://colab.research.google.com/notebooks/data_table.ipynb>data table notebook</a>'\n",
       "            + ' to learn more about interactive tables.';\n",
       "          element.innerHTML = '';\n",
       "          dataTable['output_type'] = 'display_data';\n",
       "          await google.colab.output.renderOutput(dataTable, element);\n",
       "          const docLink = document.createElement('div');\n",
       "          docLink.innerHTML = docLinkHtml;\n",
       "          element.appendChild(docLink);\n",
       "        }\n",
       "      </script>\n",
       "    </div>\n",
       "  </div>\n",
       "  "
      ],
      "text/plain": [
       "   ID     Station  Year  Month   TEM   DPT  WIS    HUM     SLP  T_RAN  A_RAIN  \\\n",
       "0   1  Mymensingh  1960      1  16.9  11.3  2.0  73.39  1016.0     15    0.48   \n",
       "1   2  Mymensingh  1960      2  21.4  12.6  1.7  66.34  1013.0      0    0.00   \n",
       "2   3  Mymensingh  1960      3  24.1  14.9  2.3  64.13  1011.4     69    2.23   \n",
       "3   4  Mymensingh  1960      4  29.9  17.6  2.2  59.03  1007.1     27    0.90   \n",
       "4   5  Mymensingh  1960      5  29.6  23.2  2.4  73.45  1003.4    187    6.03   \n",
       "\n",
       "   RAN  \n",
       "0  NRT  \n",
       "1  NRT  \n",
       "2  LTR  \n",
       "3  NRT  \n",
       "4  LTR  "
      ]
     },
     "execution_count": 4,
     "metadata": {},
     "output_type": "execute_result"
    }
   ],
   "source": [
    "df.head(5)"
   ]
  },
  {
   "cell_type": "markdown",
   "metadata": {
    "id": "OfgFxxIB81MR"
   },
   "source": [
    "# **Data Pre-Processing**"
   ]
  },
  {
   "cell_type": "markdown",
   "metadata": {
    "id": "XmkcvEMWZ7FW"
   },
   "source": [
    "Dropping features according to assignment instruction."
   ]
  },
  {
   "cell_type": "code",
   "execution_count": 5,
   "metadata": {
    "colab": {
     "base_uri": "https://localhost:8080/",
     "height": 206
    },
    "id": "bRAt7avleNN2",
    "outputId": "6bd97d1d-bbf6-4c67-e315-2dd94a5440db"
   },
   "outputs": [
    {
     "data": {
      "text/html": [
       "\n",
       "  <div id=\"df-5a6e1da9-a707-45c0-86d1-53f81ac96d01\">\n",
       "    <div class=\"colab-df-container\">\n",
       "      <div>\n",
       "<style scoped>\n",
       "    .dataframe tbody tr th:only-of-type {\n",
       "        vertical-align: middle;\n",
       "    }\n",
       "\n",
       "    .dataframe tbody tr th {\n",
       "        vertical-align: top;\n",
       "    }\n",
       "\n",
       "    .dataframe thead th {\n",
       "        text-align: right;\n",
       "    }\n",
       "</style>\n",
       "<table border=\"1\" class=\"dataframe\">\n",
       "  <thead>\n",
       "    <tr style=\"text-align: right;\">\n",
       "      <th></th>\n",
       "      <th>TEM</th>\n",
       "      <th>DPT</th>\n",
       "      <th>WIS</th>\n",
       "      <th>HUM</th>\n",
       "      <th>SLP</th>\n",
       "      <th>RAN</th>\n",
       "    </tr>\n",
       "  </thead>\n",
       "  <tbody>\n",
       "    <tr>\n",
       "      <th>0</th>\n",
       "      <td>16.9</td>\n",
       "      <td>11.3</td>\n",
       "      <td>2.0</td>\n",
       "      <td>73.39</td>\n",
       "      <td>1016.0</td>\n",
       "      <td>NRT</td>\n",
       "    </tr>\n",
       "    <tr>\n",
       "      <th>1</th>\n",
       "      <td>21.4</td>\n",
       "      <td>12.6</td>\n",
       "      <td>1.7</td>\n",
       "      <td>66.34</td>\n",
       "      <td>1013.0</td>\n",
       "      <td>NRT</td>\n",
       "    </tr>\n",
       "    <tr>\n",
       "      <th>2</th>\n",
       "      <td>24.1</td>\n",
       "      <td>14.9</td>\n",
       "      <td>2.3</td>\n",
       "      <td>64.13</td>\n",
       "      <td>1011.4</td>\n",
       "      <td>LTR</td>\n",
       "    </tr>\n",
       "    <tr>\n",
       "      <th>3</th>\n",
       "      <td>29.9</td>\n",
       "      <td>17.6</td>\n",
       "      <td>2.2</td>\n",
       "      <td>59.03</td>\n",
       "      <td>1007.1</td>\n",
       "      <td>NRT</td>\n",
       "    </tr>\n",
       "    <tr>\n",
       "      <th>4</th>\n",
       "      <td>29.6</td>\n",
       "      <td>23.2</td>\n",
       "      <td>2.4</td>\n",
       "      <td>73.45</td>\n",
       "      <td>1003.4</td>\n",
       "      <td>LTR</td>\n",
       "    </tr>\n",
       "  </tbody>\n",
       "</table>\n",
       "</div>\n",
       "      <button class=\"colab-df-convert\" onclick=\"convertToInteractive('df-5a6e1da9-a707-45c0-86d1-53f81ac96d01')\"\n",
       "              title=\"Convert this dataframe to an interactive table.\"\n",
       "              style=\"display:none;\">\n",
       "        \n",
       "  <svg xmlns=\"http://www.w3.org/2000/svg\" height=\"24px\"viewBox=\"0 0 24 24\"\n",
       "       width=\"24px\">\n",
       "    <path d=\"M0 0h24v24H0V0z\" fill=\"none\"/>\n",
       "    <path d=\"M18.56 5.44l.94 2.06.94-2.06 2.06-.94-2.06-.94-.94-2.06-.94 2.06-2.06.94zm-11 1L8.5 8.5l.94-2.06 2.06-.94-2.06-.94L8.5 2.5l-.94 2.06-2.06.94zm10 10l.94 2.06.94-2.06 2.06-.94-2.06-.94-.94-2.06-.94 2.06-2.06.94z\"/><path d=\"M17.41 7.96l-1.37-1.37c-.4-.4-.92-.59-1.43-.59-.52 0-1.04.2-1.43.59L10.3 9.45l-7.72 7.72c-.78.78-.78 2.05 0 2.83L4 21.41c.39.39.9.59 1.41.59.51 0 1.02-.2 1.41-.59l7.78-7.78 2.81-2.81c.8-.78.8-2.07 0-2.86zM5.41 20L4 18.59l7.72-7.72 1.47 1.35L5.41 20z\"/>\n",
       "  </svg>\n",
       "      </button>\n",
       "      \n",
       "  <style>\n",
       "    .colab-df-container {\n",
       "      display:flex;\n",
       "      flex-wrap:wrap;\n",
       "      gap: 12px;\n",
       "    }\n",
       "\n",
       "    .colab-df-convert {\n",
       "      background-color: #E8F0FE;\n",
       "      border: none;\n",
       "      border-radius: 50%;\n",
       "      cursor: pointer;\n",
       "      display: none;\n",
       "      fill: #1967D2;\n",
       "      height: 32px;\n",
       "      padding: 0 0 0 0;\n",
       "      width: 32px;\n",
       "    }\n",
       "\n",
       "    .colab-df-convert:hover {\n",
       "      background-color: #E2EBFA;\n",
       "      box-shadow: 0px 1px 2px rgba(60, 64, 67, 0.3), 0px 1px 3px 1px rgba(60, 64, 67, 0.15);\n",
       "      fill: #174EA6;\n",
       "    }\n",
       "\n",
       "    [theme=dark] .colab-df-convert {\n",
       "      background-color: #3B4455;\n",
       "      fill: #D2E3FC;\n",
       "    }\n",
       "\n",
       "    [theme=dark] .colab-df-convert:hover {\n",
       "      background-color: #434B5C;\n",
       "      box-shadow: 0px 1px 3px 1px rgba(0, 0, 0, 0.15);\n",
       "      filter: drop-shadow(0px 1px 2px rgba(0, 0, 0, 0.3));\n",
       "      fill: #FFFFFF;\n",
       "    }\n",
       "  </style>\n",
       "\n",
       "      <script>\n",
       "        const buttonEl =\n",
       "          document.querySelector('#df-5a6e1da9-a707-45c0-86d1-53f81ac96d01 button.colab-df-convert');\n",
       "        buttonEl.style.display =\n",
       "          google.colab.kernel.accessAllowed ? 'block' : 'none';\n",
       "\n",
       "        async function convertToInteractive(key) {\n",
       "          const element = document.querySelector('#df-5a6e1da9-a707-45c0-86d1-53f81ac96d01');\n",
       "          const dataTable =\n",
       "            await google.colab.kernel.invokeFunction('convertToInteractive',\n",
       "                                                     [key], {});\n",
       "          if (!dataTable) return;\n",
       "\n",
       "          const docLinkHtml = 'Like what you see? Visit the ' +\n",
       "            '<a target=\"_blank\" href=https://colab.research.google.com/notebooks/data_table.ipynb>data table notebook</a>'\n",
       "            + ' to learn more about interactive tables.';\n",
       "          element.innerHTML = '';\n",
       "          dataTable['output_type'] = 'display_data';\n",
       "          await google.colab.output.renderOutput(dataTable, element);\n",
       "          const docLink = document.createElement('div');\n",
       "          docLink.innerHTML = docLinkHtml;\n",
       "          element.appendChild(docLink);\n",
       "        }\n",
       "      </script>\n",
       "    </div>\n",
       "  </div>\n",
       "  "
      ],
      "text/plain": [
       "    TEM   DPT  WIS    HUM     SLP  RAN\n",
       "0  16.9  11.3  2.0  73.39  1016.0  NRT\n",
       "1  21.4  12.6  1.7  66.34  1013.0  NRT\n",
       "2  24.1  14.9  2.3  64.13  1011.4  LTR\n",
       "3  29.9  17.6  2.2  59.03  1007.1  NRT\n",
       "4  29.6  23.2  2.4  73.45  1003.4  LTR"
      ]
     },
     "execution_count": 5,
     "metadata": {},
     "output_type": "execute_result"
    }
   ],
   "source": [
    "df = df.drop([\"ID\", \"Station\",\"Year\",\"Month\",\"T_RAN\",\"A_RAIN\"], axis = 1)\n",
    "df.head(5)"
   ]
  },
  {
   "cell_type": "code",
   "execution_count": 6,
   "metadata": {
    "colab": {
     "base_uri": "https://localhost:8080/"
    },
    "id": "Dhev0iQf1Biv",
    "outputId": "cf3824cf-50ff-4b37-945e-299f205d53ea"
   },
   "outputs": [
    {
     "name": "stdout",
     "output_type": "stream",
     "text": [
      "NRT    264\n",
      "LTR    250\n",
      "MHR    158\n",
      "Name: RAN, dtype: int64\n"
     ]
    }
   ],
   "source": [
    "#Checking unique values of dependent features\n",
    "print(df['RAN'].value_counts())"
   ]
  },
  {
   "cell_type": "code",
   "execution_count": 7,
   "metadata": {
    "colab": {
     "base_uri": "https://localhost:8080/"
    },
    "id": "rcrGT4AkfEtE",
    "outputId": "5fc9cef5-f172-422b-9654-2842d171293c"
   },
   "outputs": [
    {
     "data": {
      "text/plain": [
       "TEM    18\n",
       "DPT    15\n",
       "WIS     0\n",
       "HUM    18\n",
       "SLP    18\n",
       "RAN     0\n",
       "dtype: int64"
      ]
     },
     "execution_count": 7,
     "metadata": {},
     "output_type": "execute_result"
    }
   ],
   "source": [
    "# Checking columns list and missing values\n",
    "df.isnull().sum()"
   ]
  },
  {
   "cell_type": "code",
   "execution_count": 8,
   "metadata": {
    "colab": {
     "base_uri": "https://localhost:8080/",
     "height": 282
    },
    "id": "o2FwtHu7ke2k",
    "outputId": "64354f7f-86d0-4b19-ade2-8381b364efde"
   },
   "outputs": [
    {
     "data": {
      "text/plain": [
       "<matplotlib.axes._subplots.AxesSubplot at 0x7f19460b4b50>"
      ]
     },
     "execution_count": 8,
     "metadata": {},
     "output_type": "execute_result"
    },
    {
     "data": {
      "image/png": "[encoded data removed]",
      "text/plain": [
       "<Figure size 432x288 with 1 Axes>"
      ]
     },
     "metadata": {
      "needs_background": "light"
     },
     "output_type": "display_data"
    }
   ],
   "source": [
    "sns.heatmap(df.isnull(),yticklabels=False, cbar=False)"
   ]
  },
  {
   "cell_type": "code",
   "execution_count": 9,
   "metadata": {
    "colab": {
     "base_uri": "https://localhost:8080/"
    },
    "id": "nOlule-bfRuI",
    "outputId": "215ced7d-3398-4809-f945-9f1119435dc9"
   },
   "outputs": [
    {
     "name": "stdout",
     "output_type": "stream",
     "text": [
      "<class 'pandas.core.frame.DataFrame'>\n",
      "RangeIndex: 672 entries, 0 to 671\n",
      "Data columns (total 6 columns):\n",
      " #   Column  Non-Null Count  Dtype  \n",
      "---  ------  --------------  -----  \n",
      " 0   TEM     654 non-null    float64\n",
      " 1   DPT     657 non-null    float64\n",
      " 2   WIS     672 non-null    float64\n",
      " 3   HUM     654 non-null    float64\n",
      " 4   SLP     654 non-null    float64\n",
      " 5   RAN     672 non-null    object \n",
      "dtypes: float64(5), object(1)\n",
      "memory usage: 31.6+ KB\n"
     ]
    }
   ],
   "source": [
    "#Printing a concise summary of the dataframe\n",
    "df.info()"
   ]
  },
  {
   "cell_type": "markdown",
   "metadata": {
    "id": "wG_IZ_-oauLN"
   },
   "source": [
    "As the number of missing values are less than 20% of the total data elements, I will replace the NAN values with the mean of each column."
   ]
  },
  {
   "cell_type": "code",
   "execution_count": 10,
   "metadata": {
    "colab": {
     "base_uri": "https://localhost:8080/"
    },
    "id": "KyzGOgas9qkm",
    "outputId": "bdc56da7-02be-4e98-c59e-3ccd94ef2cc2"
   },
   "outputs": [
    {
     "name": "stderr",
     "output_type": "stream",
     "text": [
      "/usr/local/lib/python3.7/dist-packages/ipykernel_launcher.py:3: FutureWarning: Dropping of nuisance columns in DataFrame reductions (with 'numeric_only=None') is deprecated; in a future version this will raise TypeError.  Select only valid columns before calling the reduction.\n",
      "  This is separate from the ipykernel package so we can avoid doing imports until\n"
     ]
    }
   ],
   "source": [
    "# Basic nan munging. Fill each row's nans with the mean of the feature\n",
    "\n",
    "df.fillna(df.mean(), inplace=True)"
   ]
  },
  {
   "cell_type": "code",
   "execution_count": 11,
   "metadata": {
    "colab": {
     "base_uri": "https://localhost:8080/"
    },
    "id": "xdxhcMAF-ewl",
    "outputId": "a43a31ad-cd8c-4f4b-8bef-c2d789f516d2"
   },
   "outputs": [
    {
     "name": "stdout",
     "output_type": "stream",
     "text": [
      "<class 'pandas.core.frame.DataFrame'>\n",
      "RangeIndex: 672 entries, 0 to 671\n",
      "Data columns (total 6 columns):\n",
      " #   Column  Non-Null Count  Dtype  \n",
      "---  ------  --------------  -----  \n",
      " 0   TEM     672 non-null    float64\n",
      " 1   DPT     672 non-null    float64\n",
      " 2   WIS     672 non-null    float64\n",
      " 3   HUM     672 non-null    float64\n",
      " 4   SLP     672 non-null    float64\n",
      " 5   RAN     672 non-null    object \n",
      "dtypes: float64(5), object(1)\n",
      "memory usage: 31.6+ KB\n"
     ]
    }
   ],
   "source": [
    "#Printing a concise summary of the dataframe\n",
    "df.info()"
   ]
  },
  {
   "cell_type": "code",
   "execution_count": 12,
   "metadata": {
    "colab": {
     "base_uri": "https://localhost:8080/",
     "height": 300
    },
    "id": "GPlyQF5cfThn",
    "outputId": "f238dcdc-f77b-4d22-a655-71dd6902aa0a"
   },
   "outputs": [
    {
     "data": {
      "text/html": [
       "\n",
       "  <div id=\"df-e205ec4d-6ad2-4255-be3f-7ec640b0473a\">\n",
       "    <div class=\"colab-df-container\">\n",
       "      <div>\n",
       "<style scoped>\n",
       "    .dataframe tbody tr th:only-of-type {\n",
       "        vertical-align: middle;\n",
       "    }\n",
       "\n",
       "    .dataframe tbody tr th {\n",
       "        vertical-align: top;\n",
       "    }\n",
       "\n",
       "    .dataframe thead th {\n",
       "        text-align: right;\n",
       "    }\n",
       "</style>\n",
       "<table border=\"1\" class=\"dataframe\">\n",
       "  <thead>\n",
       "    <tr style=\"text-align: right;\">\n",
       "      <th></th>\n",
       "      <th>TEM</th>\n",
       "      <th>DPT</th>\n",
       "      <th>WIS</th>\n",
       "      <th>HUM</th>\n",
       "      <th>SLP</th>\n",
       "    </tr>\n",
       "  </thead>\n",
       "  <tbody>\n",
       "    <tr>\n",
       "      <th>count</th>\n",
       "      <td>672.000000</td>\n",
       "      <td>672.000000</td>\n",
       "      <td>672.000000</td>\n",
       "      <td>672.000000</td>\n",
       "      <td>672.000000</td>\n",
       "    </tr>\n",
       "    <tr>\n",
       "      <th>mean</th>\n",
       "      <td>25.289602</td>\n",
       "      <td>20.323288</td>\n",
       "      <td>2.549107</td>\n",
       "      <td>79.120795</td>\n",
       "      <td>1008.213609</td>\n",
       "    </tr>\n",
       "    <tr>\n",
       "      <th>std</th>\n",
       "      <td>3.804619</td>\n",
       "      <td>5.074564</td>\n",
       "      <td>1.467420</td>\n",
       "      <td>7.810010</td>\n",
       "      <td>5.417935</td>\n",
       "    </tr>\n",
       "    <tr>\n",
       "      <th>min</th>\n",
       "      <td>15.400000</td>\n",
       "      <td>0.000000</td>\n",
       "      <td>0.000000</td>\n",
       "      <td>47.640000</td>\n",
       "      <td>985.000000</td>\n",
       "    </tr>\n",
       "    <tr>\n",
       "      <th>25%</th>\n",
       "      <td>22.700000</td>\n",
       "      <td>15.700000</td>\n",
       "      <td>1.600000</td>\n",
       "      <td>74.605000</td>\n",
       "      <td>1003.500000</td>\n",
       "    </tr>\n",
       "    <tr>\n",
       "      <th>50%</th>\n",
       "      <td>26.900000</td>\n",
       "      <td>21.900000</td>\n",
       "      <td>2.300000</td>\n",
       "      <td>80.665000</td>\n",
       "      <td>1008.213609</td>\n",
       "    </tr>\n",
       "    <tr>\n",
       "      <th>75%</th>\n",
       "      <td>28.300000</td>\n",
       "      <td>24.700000</td>\n",
       "      <td>3.400000</td>\n",
       "      <td>85.175000</td>\n",
       "      <td>1013.300000</td>\n",
       "    </tr>\n",
       "    <tr>\n",
       "      <th>max</th>\n",
       "      <td>30.900000</td>\n",
       "      <td>27.000000</td>\n",
       "      <td>9.800000</td>\n",
       "      <td>91.630000</td>\n",
       "      <td>1017.200000</td>\n",
       "    </tr>\n",
       "  </tbody>\n",
       "</table>\n",
       "</div>\n",
       "      <button class=\"colab-df-convert\" onclick=\"convertToInteractive('df-e205ec4d-6ad2-4255-be3f-7ec640b0473a')\"\n",
       "              title=\"Convert this dataframe to an interactive table.\"\n",
       "              style=\"display:none;\">\n",
       "        \n",
       "  <svg xmlns=\"http://www.w3.org/2000/svg\" height=\"24px\"viewBox=\"0 0 24 24\"\n",
       "       width=\"24px\">\n",
       "    <path d=\"M0 0h24v24H0V0z\" fill=\"none\"/>\n",
       "    <path d=\"M18.56 5.44l.94 2.06.94-2.06 2.06-.94-2.06-.94-.94-2.06-.94 2.06-2.06.94zm-11 1L8.5 8.5l.94-2.06 2.06-.94-2.06-.94L8.5 2.5l-.94 2.06-2.06.94zm10 10l.94 2.06.94-2.06 2.06-.94-2.06-.94-.94-2.06-.94 2.06-2.06.94z\"/><path d=\"M17.41 7.96l-1.37-1.37c-.4-.4-.92-.59-1.43-.59-.52 0-1.04.2-1.43.59L10.3 9.45l-7.72 7.72c-.78.78-.78 2.05 0 2.83L4 21.41c.39.39.9.59 1.41.59.51 0 1.02-.2 1.41-.59l7.78-7.78 2.81-2.81c.8-.78.8-2.07 0-2.86zM5.41 20L4 18.59l7.72-7.72 1.47 1.35L5.41 20z\"/>\n",
       "  </svg>\n",
       "      </button>\n",
       "      \n",
       "  <style>\n",
       "    .colab-df-container {\n",
       "      display:flex;\n",
       "      flex-wrap:wrap;\n",
       "      gap: 12px;\n",
       "    }\n",
       "\n",
       "    .colab-df-convert {\n",
       "      background-color: #E8F0FE;\n",
       "      border: none;\n",
       "      border-radius: 50%;\n",
       "      cursor: pointer;\n",
       "      display: none;\n",
       "      fill: #1967D2;\n",
       "      height: 32px;\n",
       "      padding: 0 0 0 0;\n",
       "      width: 32px;\n",
       "    }\n",
       "\n",
       "    .colab-df-convert:hover {\n",
       "      background-color: #E2EBFA;\n",
       "      box-shadow: 0px 1px 2px rgba(60, 64, 67, 0.3), 0px 1px 3px 1px rgba(60, 64, 67, 0.15);\n",
       "      fill: #174EA6;\n",
       "    }\n",
       "\n",
       "    [theme=dark] .colab-df-convert {\n",
       "      background-color: #3B4455;\n",
       "      fill: #D2E3FC;\n",
       "    }\n",
       "\n",
       "    [theme=dark] .colab-df-convert:hover {\n",
       "      background-color: #434B5C;\n",
       "      box-shadow: 0px 1px 3px 1px rgba(0, 0, 0, 0.15);\n",
       "      filter: drop-shadow(0px 1px 2px rgba(0, 0, 0, 0.3));\n",
       "      fill: #FFFFFF;\n",
       "    }\n",
       "  </style>\n",
       "\n",
       "      <script>\n",
       "        const buttonEl =\n",
       "          document.querySelector('#df-e205ec4d-6ad2-4255-be3f-7ec640b0473a button.colab-df-convert');\n",
       "        buttonEl.style.display =\n",
       "          google.colab.kernel.accessAllowed ? 'block' : 'none';\n",
       "\n",
       "        async function convertToInteractive(key) {\n",
       "          const element = document.querySelector('#df-e205ec4d-6ad2-4255-be3f-7ec640b0473a');\n",
       "          const dataTable =\n",
       "            await google.colab.kernel.invokeFunction('convertToInteractive',\n",
       "                                                     [key], {});\n",
       "          if (!dataTable) return;\n",
       "\n",
       "          const docLinkHtml = 'Like what you see? Visit the ' +\n",
       "            '<a target=\"_blank\" href=https://colab.research.google.com/notebooks/data_table.ipynb>data table notebook</a>'\n",
       "            + ' to learn more about interactive tables.';\n",
       "          element.innerHTML = '';\n",
       "          dataTable['output_type'] = 'display_data';\n",
       "          await google.colab.output.renderOutput(dataTable, element);\n",
       "          const docLink = document.createElement('div');\n",
       "          docLink.innerHTML = docLinkHtml;\n",
       "          element.appendChild(docLink);\n",
       "        }\n",
       "      </script>\n",
       "    </div>\n",
       "  </div>\n",
       "  "
      ],
      "text/plain": [
       "              TEM         DPT         WIS         HUM          SLP\n",
       "count  672.000000  672.000000  672.000000  672.000000   672.000000\n",
       "mean    25.289602   20.323288    2.549107   79.120795  1008.213609\n",
       "std      3.804619    5.074564    1.467420    7.810010     5.417935\n",
       "min     15.400000    0.000000    0.000000   47.640000   985.000000\n",
       "25%     22.700000   15.700000    1.600000   74.605000  1003.500000\n",
       "50%     26.900000   21.900000    2.300000   80.665000  1008.213609\n",
       "75%     28.300000   24.700000    3.400000   85.175000  1013.300000\n",
       "max     30.900000   27.000000    9.800000   91.630000  1017.200000"
      ]
     },
     "execution_count": 12,
     "metadata": {},
     "output_type": "execute_result"
    }
   ],
   "source": [
    "#Printing a concise summary of the dataframe\n",
    "df.describe()"
   ]
  },
  {
   "cell_type": "code",
   "execution_count": 13,
   "metadata": {
    "colab": {
     "base_uri": "https://localhost:8080/"
    },
    "id": "ojkEhha7n66w",
    "outputId": "ac6bd7f2-c053-4900-d5a2-0ccf3b5821b6"
   },
   "outputs": [
    {
     "name": "stdout",
     "output_type": "stream",
     "text": [
      "0      2\n",
      "1      2\n",
      "2      0\n",
      "3      2\n",
      "4      0\n",
      "      ..\n",
      "667    1\n",
      "668    0\n",
      "669    0\n",
      "670    2\n",
      "671    2\n",
      "Name: RAN, Length: 672, dtype: int64\n"
     ]
    }
   ],
   "source": [
    "#converting the probable categorical value into binary form for ease of operation\n",
    "from sklearn.preprocessing import LabelEncoder\n",
    "lb = LabelEncoder() \n",
    "df['RAN'] = lb.fit_transform(df['RAN'])\n",
    "print(df['RAN'])\n"
   ]
  },
  {
   "cell_type": "code",
   "execution_count": 14,
   "metadata": {
    "colab": {
     "base_uri": "https://localhost:8080/"
    },
    "id": "WfpjpVcs9s59",
    "outputId": "052166f2-ed88-4daa-900a-f938344ed2c5"
   },
   "outputs": [
    {
     "data": {
      "text/plain": [
       "array([0, 1, 2])"
      ]
     },
     "execution_count": 14,
     "metadata": {},
     "output_type": "execute_result"
    }
   ],
   "source": [
    "lb.transform(['LTR', 'MHR', 'NRT'])"
   ]
  },
  {
   "cell_type": "markdown",
   "metadata": {
    "id": "NCZojoWtoxy6"
   },
   "source": [
    "**Standard Scaling **"
   ]
  },
  {
   "cell_type": "code",
   "execution_count": 15,
   "metadata": {
    "colab": {
     "base_uri": "https://localhost:8080/",
     "height": 206
    },
    "id": "IpTyT-ybowoS",
    "outputId": "eee7d6df-9187-4fa2-b62a-f85ab6933983"
   },
   "outputs": [
    {
     "data": {
      "text/html": [
       "\n",
       "  <div id=\"df-9009efe8-44c0-461c-80eb-db9c26346320\">\n",
       "    <div class=\"colab-df-container\">\n",
       "      <div>\n",
       "<style scoped>\n",
       "    .dataframe tbody tr th:only-of-type {\n",
       "        vertical-align: middle;\n",
       "    }\n",
       "\n",
       "    .dataframe tbody tr th {\n",
       "        vertical-align: top;\n",
       "    }\n",
       "\n",
       "    .dataframe thead th {\n",
       "        text-align: right;\n",
       "    }\n",
       "</style>\n",
       "<table border=\"1\" class=\"dataframe\">\n",
       "  <thead>\n",
       "    <tr style=\"text-align: right;\">\n",
       "      <th></th>\n",
       "      <th>TEM</th>\n",
       "      <th>DPT</th>\n",
       "      <th>WIS</th>\n",
       "      <th>HUM</th>\n",
       "      <th>SLP</th>\n",
       "      <th>RAN</th>\n",
       "    </tr>\n",
       "  </thead>\n",
       "  <tbody>\n",
       "    <tr>\n",
       "      <th>0</th>\n",
       "      <td>-2.206752</td>\n",
       "      <td>-1.779465</td>\n",
       "      <td>-0.374478</td>\n",
       "      <td>-0.734322</td>\n",
       "      <td>1.438222</td>\n",
       "      <td>1.119910</td>\n",
       "    </tr>\n",
       "    <tr>\n",
       "      <th>1</th>\n",
       "      <td>-1.023098</td>\n",
       "      <td>-1.523095</td>\n",
       "      <td>-0.579070</td>\n",
       "      <td>-1.637682</td>\n",
       "      <td>0.884093</td>\n",
       "      <td>1.119910</td>\n",
       "    </tr>\n",
       "    <tr>\n",
       "      <th>2</th>\n",
       "      <td>-0.312906</td>\n",
       "      <td>-1.069516</td>\n",
       "      <td>-0.169885</td>\n",
       "      <td>-1.920863</td>\n",
       "      <td>0.588557</td>\n",
       "      <td>-1.167565</td>\n",
       "    </tr>\n",
       "    <tr>\n",
       "      <th>3</th>\n",
       "      <td>1.212692</td>\n",
       "      <td>-0.537054</td>\n",
       "      <td>-0.238083</td>\n",
       "      <td>-2.574358</td>\n",
       "      <td>-0.205694</td>\n",
       "      <td>1.119910</td>\n",
       "    </tr>\n",
       "    <tr>\n",
       "      <th>4</th>\n",
       "      <td>1.133782</td>\n",
       "      <td>0.567311</td>\n",
       "      <td>-0.101687</td>\n",
       "      <td>-0.726634</td>\n",
       "      <td>-0.889120</td>\n",
       "      <td>-1.167565</td>\n",
       "    </tr>\n",
       "  </tbody>\n",
       "</table>\n",
       "</div>\n",
       "      <button class=\"colab-df-convert\" onclick=\"convertToInteractive('df-9009efe8-44c0-461c-80eb-db9c26346320')\"\n",
       "              title=\"Convert this dataframe to an interactive table.\"\n",
       "              style=\"display:none;\">\n",
       "        \n",
       "  <svg xmlns=\"http://www.w3.org/2000/svg\" height=\"24px\"viewBox=\"0 0 24 24\"\n",
       "       width=\"24px\">\n",
       "    <path d=\"M0 0h24v24H0V0z\" fill=\"none\"/>\n",
       "    <path d=\"M18.56 5.44l.94 2.06.94-2.06 2.06-.94-2.06-.94-.94-2.06-.94 2.06-2.06.94zm-11 1L8.5 8.5l.94-2.06 2.06-.94-2.06-.94L8.5 2.5l-.94 2.06-2.06.94zm10 10l.94 2.06.94-2.06 2.06-.94-2.06-.94-.94-2.06-.94 2.06-2.06.94z\"/><path d=\"M17.41 7.96l-1.37-1.37c-.4-.4-.92-.59-1.43-.59-.52 0-1.04.2-1.43.59L10.3 9.45l-7.72 7.72c-.78.78-.78 2.05 0 2.83L4 21.41c.39.39.9.59 1.41.59.51 0 1.02-.2 1.41-.59l7.78-7.78 2.81-2.81c.8-.78.8-2.07 0-2.86zM5.41 20L4 18.59l7.72-7.72 1.47 1.35L5.41 20z\"/>\n",
       "  </svg>\n",
       "      </button>\n",
       "      \n",
       "  <style>\n",
       "    .colab-df-container {\n",
       "      display:flex;\n",
       "      flex-wrap:wrap;\n",
       "      gap: 12px;\n",
       "    }\n",
       "\n",
       "    .colab-df-convert {\n",
       "      background-color: #E8F0FE;\n",
       "      border: none;\n",
       "      border-radius: 50%;\n",
       "      cursor: pointer;\n",
       "      display: none;\n",
       "      fill: #1967D2;\n",
       "      height: 32px;\n",
       "      padding: 0 0 0 0;\n",
       "      width: 32px;\n",
       "    }\n",
       "\n",
       "    .colab-df-convert:hover {\n",
       "      background-color: #E2EBFA;\n",
       "      box-shadow: 0px 1px 2px rgba(60, 64, 67, 0.3), 0px 1px 3px 1px rgba(60, 64, 67, 0.15);\n",
       "      fill: #174EA6;\n",
       "    }\n",
       "\n",
       "    [theme=dark] .colab-df-convert {\n",
       "      background-color: #3B4455;\n",
       "      fill: #D2E3FC;\n",
       "    }\n",
       "\n",
       "    [theme=dark] .colab-df-convert:hover {\n",
       "      background-color: #434B5C;\n",
       "      box-shadow: 0px 1px 3px 1px rgba(0, 0, 0, 0.15);\n",
       "      filter: drop-shadow(0px 1px 2px rgba(0, 0, 0, 0.3));\n",
       "      fill: #FFFFFF;\n",
       "    }\n",
       "  </style>\n",
       "\n",
       "      <script>\n",
       "        const buttonEl =\n",
       "          document.querySelector('#df-9009efe8-44c0-461c-80eb-db9c26346320 button.colab-df-convert');\n",
       "        buttonEl.style.display =\n",
       "          google.colab.kernel.accessAllowed ? 'block' : 'none';\n",
       "\n",
       "        async function convertToInteractive(key) {\n",
       "          const element = document.querySelector('#df-9009efe8-44c0-461c-80eb-db9c26346320');\n",
       "          const dataTable =\n",
       "            await google.colab.kernel.invokeFunction('convertToInteractive',\n",
       "                                                     [key], {});\n",
       "          if (!dataTable) return;\n",
       "\n",
       "          const docLinkHtml = 'Like what you see? Visit the ' +\n",
       "            '<a target=\"_blank\" href=https://colab.research.google.com/notebooks/data_table.ipynb>data table notebook</a>'\n",
       "            + ' to learn more about interactive tables.';\n",
       "          element.innerHTML = '';\n",
       "          dataTable['output_type'] = 'display_data';\n",
       "          await google.colab.output.renderOutput(dataTable, element);\n",
       "          const docLink = document.createElement('div');\n",
       "          docLink.innerHTML = docLinkHtml;\n",
       "          element.appendChild(docLink);\n",
       "        }\n",
       "      </script>\n",
       "    </div>\n",
       "  </div>\n",
       "  "
      ],
      "text/plain": [
       "        TEM       DPT       WIS       HUM       SLP       RAN\n",
       "0 -2.206752 -1.779465 -0.374478 -0.734322  1.438222  1.119910\n",
       "1 -1.023098 -1.523095 -0.579070 -1.637682  0.884093  1.119910\n",
       "2 -0.312906 -1.069516 -0.169885 -1.920863  0.588557 -1.167565\n",
       "3  1.212692 -0.537054 -0.238083 -2.574358 -0.205694  1.119910\n",
       "4  1.133782  0.567311 -0.101687 -0.726634 -0.889120 -1.167565"
      ]
     },
     "execution_count": 15,
     "metadata": {},
     "output_type": "execute_result"
    }
   ],
   "source": [
    "#use of StandardScaler to remove the mean and scales of each feature to unit variance.\n",
    "from sklearn.preprocessing import StandardScaler\n",
    "sc=StandardScaler()\n",
    "scaled_df = pd.DataFrame(StandardScaler().fit_transform(df),columns = df.columns)\n",
    "scaled_df.head()"
   ]
  },
  {
   "cell_type": "code",
   "execution_count": 16,
   "metadata": {
    "id": "fArdr0sknMzi"
   },
   "outputs": [],
   "source": [
    "#Selection of independent features ['TEM','DPT', 'WIS', 'HUM', 'SLP']] and dependent features\n",
    "X = df.drop('RAN', axis=1)\n",
    "Y = df['RAN']"
   ]
  },
  {
   "cell_type": "code",
   "execution_count": 17,
   "metadata": {
    "id": "T8gWK4fpjwhW"
   },
   "outputs": [],
   "source": [
    "#I use model_selection.train_test_split from sklearn library to split the data into training and testing sets.\n",
    "#I set test_size=0.25 and random_state=216021. It means I split the existing dataset into 75% for data training, \n",
    "#and 25% for data test\n",
    "\n",
    "X_train, X_test, y_train, y_test= train_test_split(X,Y,test_size=0.25, random_state=216021)\n"
   ]
  },
  {
   "cell_type": "markdown",
   "metadata": {
    "id": "zPlg2sRoEJVx"
   },
   "source": [
    "# **ANN MODEL BUILDING**"
   ]
  },
  {
   "cell_type": "markdown",
   "metadata": {
    "id": "nHMRYeE1dIhr"
   },
   "source": [
    "In this project, we build an artificial neural network.\n",
    "\n",
    "Following steps are involved in the model building\n",
    "\n",
    "*   Initialising the neural network\n",
    "*   Defining by adding layers\n",
    "*   Compiling the neural network\n",
    "*   Train the neural network\n",
    "\n",
    "\n",
    "\n",
    "\n",
    "\n",
    "\n"
   ]
  },
  {
   "cell_type": "code",
   "execution_count": 18,
   "metadata": {
    "colab": {
     "base_uri": "https://localhost:8080/"
    },
    "id": "TlUgVVavEMA-",
    "outputId": "b1bd6987-1175-4b2b-91b1-4823634036d8"
   },
   "outputs": [
    {
     "name": "stdout",
     "output_type": "stream",
     "text": [
      "Epoch 1/150\n",
      "13/13 [==============================] - 1s 34ms/step - loss: 0.6892 - accuracy: 0.2308 - val_loss: 0.6891 - val_accuracy: 0.2673\n",
      "Epoch 2/150\n",
      "13/13 [==============================] - 0s 8ms/step - loss: 0.6873 - accuracy: 0.2308 - val_loss: 0.6868 - val_accuracy: 0.2673\n",
      "Epoch 3/150\n",
      "13/13 [==============================] - 0s 11ms/step - loss: 0.6840 - accuracy: 0.2308 - val_loss: 0.6841 - val_accuracy: 0.2673\n",
      "Epoch 4/150\n",
      "13/13 [==============================] - 0s 7ms/step - loss: 0.6791 - accuracy: 0.2308 - val_loss: 0.6805 - val_accuracy: 0.2673\n",
      "Epoch 5/150\n",
      "13/13 [==============================] - 0s 8ms/step - loss: 0.6761 - accuracy: 0.2308 - val_loss: 0.6760 - val_accuracy: 0.2673\n",
      "Epoch 6/150\n",
      "13/13 [==============================] - 0s 10ms/step - loss: 0.6689 - accuracy: 0.2308 - val_loss: 0.6701 - val_accuracy: 0.2673\n",
      "Epoch 7/150\n",
      "13/13 [==============================] - 0s 9ms/step - loss: 0.6637 - accuracy: 0.2308 - val_loss: 0.6624 - val_accuracy: 0.2673\n",
      "Epoch 8/150\n",
      "13/13 [==============================] - 0s 8ms/step - loss: 0.6486 - accuracy: 0.2308 - val_loss: 0.6517 - val_accuracy: 0.2673\n",
      "Epoch 9/150\n",
      "13/13 [==============================] - 0s 11ms/step - loss: 0.6386 - accuracy: 0.2308 - val_loss: 0.6378 - val_accuracy: 0.2673\n",
      "Epoch 10/150\n",
      "13/13 [==============================] - 0s 12ms/step - loss: 0.6104 - accuracy: 0.2308 - val_loss: 0.6207 - val_accuracy: 0.2673\n",
      "Epoch 11/150\n",
      "13/13 [==============================] - 0s 7ms/step - loss: 0.5891 - accuracy: 0.2308 - val_loss: 0.5970 - val_accuracy: 0.2673\n",
      "Epoch 12/150\n",
      "13/13 [==============================] - 0s 7ms/step - loss: 0.5557 - accuracy: 0.2308 - val_loss: 0.5690 - val_accuracy: 0.2673\n",
      "Epoch 13/150\n",
      "13/13 [==============================] - 0s 9ms/step - loss: 0.5211 - accuracy: 0.2308 - val_loss: 0.5354 - val_accuracy: 0.2673\n",
      "Epoch 14/150\n",
      "13/13 [==============================] - 0s 14ms/step - loss: 0.4558 - accuracy: 0.2308 - val_loss: 0.4963 - val_accuracy: 0.2673\n",
      "Epoch 15/150\n",
      "13/13 [==============================] - 0s 8ms/step - loss: 0.4164 - accuracy: 0.2308 - val_loss: 0.4544 - val_accuracy: 0.2673\n",
      "Epoch 16/150\n",
      "13/13 [==============================] - 0s 8ms/step - loss: 0.3943 - accuracy: 0.2308 - val_loss: 0.4130 - val_accuracy: 0.2673\n",
      "Epoch 17/150\n",
      "13/13 [==============================] - 0s 7ms/step - loss: 0.3712 - accuracy: 0.2308 - val_loss: 0.3801 - val_accuracy: 0.2673\n",
      "Epoch 18/150\n",
      "13/13 [==============================] - 0s 7ms/step - loss: 0.2754 - accuracy: 0.2308 - val_loss: 0.3478 - val_accuracy: 0.2673\n",
      "Epoch 19/150\n",
      "13/13 [==============================] - 0s 12ms/step - loss: 0.2277 - accuracy: 0.2308 - val_loss: 0.3191 - val_accuracy: 0.2673\n",
      "Epoch 20/150\n",
      "13/13 [==============================] - 0s 13ms/step - loss: 0.2110 - accuracy: 0.2308 - val_loss: 0.3005 - val_accuracy: 0.2673\n",
      "Epoch 21/150\n",
      "13/13 [==============================] - 0s 8ms/step - loss: 0.1363 - accuracy: 0.2308 - val_loss: 0.2871 - val_accuracy: 0.2673\n",
      "Epoch 22/150\n",
      "13/13 [==============================] - 0s 10ms/step - loss: 0.0495 - accuracy: 0.2308 - val_loss: 0.2799 - val_accuracy: 0.2673\n",
      "Epoch 23/150\n",
      "13/13 [==============================] - 0s 8ms/step - loss: 0.0204 - accuracy: 0.2308 - val_loss: 0.2787 - val_accuracy: 0.2673\n",
      "Epoch 24/150\n",
      "13/13 [==============================] - 0s 9ms/step - loss: 0.0618 - accuracy: 0.2308 - val_loss: 0.2818 - val_accuracy: 0.2673\n",
      "Epoch 25/150\n",
      "13/13 [==============================] - 0s 12ms/step - loss: 0.1330 - accuracy: 0.2308 - val_loss: 0.2863 - val_accuracy: 0.2673\n",
      "Epoch 26/150\n",
      "13/13 [==============================] - 0s 8ms/step - loss: 0.0524 - accuracy: 0.2308 - val_loss: 0.2923 - val_accuracy: 0.2673\n",
      "Epoch 27/150\n",
      "13/13 [==============================] - 0s 10ms/step - loss: 0.1027 - accuracy: 0.2308 - val_loss: 0.2967 - val_accuracy: 0.2673\n",
      "Epoch 28/150\n",
      "13/13 [==============================] - 0s 8ms/step - loss: 0.0279 - accuracy: 0.2308 - val_loss: 0.3053 - val_accuracy: 0.2673\n",
      "Epoch 29/150\n",
      "13/13 [==============================] - 0s 7ms/step - loss: -0.0438 - accuracy: 0.2308 - val_loss: 0.3150 - val_accuracy: 0.2673\n",
      "Epoch 30/150\n",
      "13/13 [==============================] - 0s 8ms/step - loss: 0.0955 - accuracy: 0.2308 - val_loss: 0.3151 - val_accuracy: 0.2673\n",
      "Epoch 31/150\n",
      "13/13 [==============================] - 0s 11ms/step - loss: -0.0731 - accuracy: 0.2308 - val_loss: 0.3281 - val_accuracy: 0.2673\n",
      "Epoch 32/150\n",
      "13/13 [==============================] - 0s 15ms/step - loss: -0.1176 - accuracy: 0.2308 - val_loss: 0.3413 - val_accuracy: 0.2673\n",
      "Epoch 33/150\n",
      "13/13 [==============================] - 0s 10ms/step - loss: -0.1668 - accuracy: 0.2308 - val_loss: 0.3605 - val_accuracy: 0.2673\n",
      "Epoch 34/150\n",
      "13/13 [==============================] - 0s 10ms/step - loss: 0.0411 - accuracy: 0.2308 - val_loss: 0.3668 - val_accuracy: 0.2673\n",
      "Epoch 35/150\n",
      "13/13 [==============================] - 0s 9ms/step - loss: -0.0309 - accuracy: 0.2308 - val_loss: 0.3803 - val_accuracy: 0.2673\n",
      "Epoch 36/150\n",
      "13/13 [==============================] - 0s 14ms/step - loss: -0.1114 - accuracy: 0.2308 - val_loss: 0.3945 - val_accuracy: 0.2673\n",
      "Epoch 37/150\n",
      "13/13 [==============================] - 0s 10ms/step - loss: -0.1849 - accuracy: 0.2308 - val_loss: 0.4107 - val_accuracy: 0.2673\n",
      "Epoch 38/150\n",
      "13/13 [==============================] - 0s 9ms/step - loss: -0.0557 - accuracy: 0.2308 - val_loss: 0.4242 - val_accuracy: 0.2673\n",
      "Epoch 39/150\n",
      "13/13 [==============================] - 0s 10ms/step - loss: -0.2692 - accuracy: 0.2308 - val_loss: 0.4437 - val_accuracy: 0.2673\n",
      "Epoch 40/150\n",
      "13/13 [==============================] - 0s 10ms/step - loss: -0.4139 - accuracy: 0.2308 - val_loss: 0.4676 - val_accuracy: 0.2673\n",
      "Epoch 41/150\n",
      "13/13 [==============================] - 0s 10ms/step - loss: -0.1846 - accuracy: 0.2308 - val_loss: 0.4869 - val_accuracy: 0.2673\n",
      "Epoch 42/150\n",
      "13/13 [==============================] - 0s 10ms/step - loss: -0.0437 - accuracy: 0.2308 - val_loss: 0.5038 - val_accuracy: 0.2673\n",
      "Epoch 43/150\n",
      "13/13 [==============================] - 0s 13ms/step - loss: -0.2542 - accuracy: 0.2308 - val_loss: 0.5233 - val_accuracy: 0.2673\n"
     ]
    }
   ],
   "source": [
    "#Early stopping\n",
    "early_stopping = callbacks.EarlyStopping(\n",
    "    min_delta=0.001, # minimium amount of change to count as an improvement\n",
    "    patience=20, # how many epochs to wait before stopping\n",
    "    restore_best_weights=True,\n",
    ")\n",
    "\n",
    "# Initialising the NN\n",
    "model = Sequential()\n",
    "\n",
    "# layers\n",
    "\n",
    "model.add(Dense(units = 32, kernel_initializer = 'uniform', activation = 'relu', input_dim = 5))\n",
    "model.add(Dense(units = 32, kernel_initializer = 'uniform', activation = 'relu'))\n",
    "model.add(Dense(units = 16, kernel_initializer = 'uniform', activation = 'relu'))\n",
    "model.add(Dropout(0.25))\n",
    "model.add(Dense(units = 8, kernel_initializer = 'uniform', activation = 'relu'))\n",
    "model.add(Dropout(0.5))\n",
    "model.add(Dense(units = 1, kernel_initializer = 'uniform', activation = 'sigmoid'))\n",
    "\n",
    "# Compiling the ANN\n",
    "opt = Adam(learning_rate=0.00009)\n",
    "model.compile(optimizer = opt, loss = 'binary_crossentropy', metrics = ['accuracy'])\n",
    "\n",
    "# Train the ANN\n",
    "history = model.fit(X_train, y_train, batch_size = 32, epochs = 150, callbacks=[early_stopping], validation_split=0.2)"
   ]
  },
  {
   "cell_type": "markdown",
   "metadata": {
    "id": "N-qQoXTCGnaI"
   },
   "source": [
    "Plotting training and validation loss over epochs"
   ]
  },
  {
   "cell_type": "code",
   "execution_count": 19,
   "metadata": {
    "colab": {
     "base_uri": "https://localhost:8080/",
     "height": 295
    },
    "id": "aZBxk6-XGl8_",
    "outputId": "7efc3d26-2409-4bc6-c96d-ff59a7ae8fd9"
   },
   "outputs": [
    {
     "data": {
      "image/png": "[encoded data removed]",
      "text/plain": [
       "<Figure size 432x288 with 1 Axes>"
      ]
     },
     "metadata": {
      "needs_background": "light"
     },
     "output_type": "display_data"
    }
   ],
   "source": [
    "history_df = pd.DataFrame(history.history)\n",
    "\n",
    "plt.plot(history_df.loc[:, ['loss']], \"#BDE2E2\", label='Training loss')\n",
    "plt.plot(history_df.loc[:, ['val_loss']],\"#C2C4E2\", label='Validation loss')\n",
    "plt.title('Training and Validation loss')\n",
    "plt.xlabel('Epochs')\n",
    "plt.ylabel('Loss')\n",
    "plt.legend(loc=\"best\")\n",
    "\n",
    "plt.show()"
   ]
  },
  {
   "cell_type": "markdown",
   "metadata": {
    "id": "rKa9g-U3GxCh"
   },
   "source": [
    "Plotting training and validation accuracy over epochs"
   ]
  },
  {
   "cell_type": "code",
   "execution_count": 20,
   "metadata": {
    "colab": {
     "base_uri": "https://localhost:8080/",
     "height": 295
    },
    "id": "gi-p_3QFGyj4",
    "outputId": "ede91a7a-1494-42ad-fa38-3eff42b72976"
   },
   "outputs": [
    {
     "data": {
      "image/png": "[encoded data removed]",
      "text/plain": [
       "<Figure size 432x288 with 1 Axes>"
      ]
     },
     "metadata": {
      "needs_background": "light"
     },
     "output_type": "display_data"
    }
   ],
   "source": [
    "history_df = pd.DataFrame(history.history)\n",
    "\n",
    "plt.plot(history_df.loc[:, ['accuracy']], \"#BDE2E2\", label='Training accuracy')\n",
    "plt.plot(history_df.loc[:, ['val_accuracy']], \"#C2C4E2\", label='Validation accuracy')\n",
    "\n",
    "plt.title('Training and Validation accuracy')\n",
    "plt.xlabel('Epochs')\n",
    "plt.ylabel('Accuracy')\n",
    "plt.legend()\n",
    "plt.show()"
   ]
  },
  {
   "cell_type": "markdown",
   "metadata": {
    "id": "ErUgdT9gG8sw"
   },
   "source": [
    "**CONCLUSIONS**"
   ]
  },
  {
   "cell_type": "markdown",
   "metadata": {
    "id": "mh8wL-VGG--3"
   },
   "source": [
    "\n",
    "Concluding the model with:\n",
    "*   Testing on the test set\n",
    "*   Evaluating the confusion matrix\n",
    "*   Evaluating the classification reportList item\n"
   ]
  },
  {
   "cell_type": "code",
   "execution_count": 21,
   "metadata": {
    "id": "dJT5qLQSHYmP"
   },
   "outputs": [],
   "source": [
    "# Predicting the test set results\n",
    "y_pred = model.predict(X_test)\n",
    "y_pred = (y_pred > 0.5)"
   ]
  },
  {
   "cell_type": "code",
   "execution_count": 22,
   "metadata": {
    "colab": {
     "base_uri": "https://localhost:8080/",
     "height": 500
    },
    "id": "ZaVmIy_rHeZK",
    "outputId": "5c5741d3-1276-4d67-ce5f-3243de28550d"
   },
   "outputs": [
    {
     "data": {
      "text/plain": [
       "<matplotlib.axes._subplots.AxesSubplot at 0x7f193db9b650>"
      ]
     },
     "execution_count": 22,
     "metadata": {},
     "output_type": "execute_result"
    },
    {
     "data": {
      "image/png": "[encoded data removed]",
      "text/plain": [
       "<Figure size 864x576 with 2 Axes>"
      ]
     },
     "metadata": {
      "needs_background": "light"
     },
     "output_type": "display_data"
    }
   ],
   "source": [
    "# confusion matrix\n",
    "cmap1 = sns.diverging_palette(260,-10,s=50, l=75, n=5, as_cmap=True)\n",
    "plt.subplots(figsize=(12,8))\n",
    "cf_matrix=pd.DataFrame(data=confusion_matrix(y_test,y_pred),columns=['LTR', 'MHR', 'NRT'],index=['LTR', 'MHR', 'NRT'])\n",
    "sns.heatmap(cf_matrix/np.sum(cf_matrix), cmap = cmap1, annot = True, annot_kws = {'size':15})"
   ]
  },
  {
   "cell_type": "code",
   "execution_count": 23,
   "metadata": {
    "colab": {
     "base_uri": "https://localhost:8080/"
    },
    "id": "CH-eIqaAHjmH",
    "outputId": "a0a0f99d-10fb-4ea3-d104-0ca1ae6d7766"
   },
   "outputs": [
    {
     "name": "stdout",
     "output_type": "stream",
     "text": [
      "              precision    recall  f1-score   support\n",
      "\n",
      "           0       0.00      0.00      0.00        60\n",
      "           1       0.23      1.00      0.37        38\n",
      "           2       0.00      0.00      0.00        70\n",
      "\n",
      "    accuracy                           0.23       168\n",
      "   macro avg       0.08      0.33      0.12       168\n",
      "weighted avg       0.05      0.23      0.08       168\n",
      "\n"
     ]
    },
    {
     "name": "stderr",
     "output_type": "stream",
     "text": [
      "/usr/local/lib/python3.7/dist-packages/sklearn/metrics/_classification.py:1318: UndefinedMetricWarning: Precision and F-score are ill-defined and being set to 0.0 in labels with no predicted samples. Use `zero_division` parameter to control this behavior.\n",
      "  _warn_prf(average, modifier, msg_start, len(result))\n",
      "/usr/local/lib/python3.7/dist-packages/sklearn/metrics/_classification.py:1318: UndefinedMetricWarning: Precision and F-score are ill-defined and being set to 0.0 in labels with no predicted samples. Use `zero_division` parameter to control this behavior.\n",
      "  _warn_prf(average, modifier, msg_start, len(result))\n",
      "/usr/local/lib/python3.7/dist-packages/sklearn/metrics/_classification.py:1318: UndefinedMetricWarning: Precision and F-score are ill-defined and being set to 0.0 in labels with no predicted samples. Use `zero_division` parameter to control this behavior.\n",
      "  _warn_prf(average, modifier, msg_start, len(result))\n"
     ]
    }
   ],
   "source": [
    "print(classification_report(y_test, y_pred))"
   ]
  },
  {
   "cell_type": "markdown",
   "metadata": {
    "id": "X6gECm1KIWQr"
   },
   "source": [
    "# **Problem: 2**"
   ]
  },
  {
   "cell_type": "markdown",
   "metadata": {
    "id": "GG3C0CTTfBMo"
   },
   "source": [
    "The atmospheric monthly data on rainfall (in mm) (monthly total), temperature (in 0 C), dew point\n",
    "temperature (in 0 C), wind speed (in Kph), sea level pressure (in hPa), and humidity (in %) are\n",
    "collected by the data record station Chittagong (22.35, 91.82) of Bangladesh for the period of 1964-\n",
    "2015.\n",
    "Write a short report to predict the rainfall level using different machine learning approaces based on\n",
    "Temperature, Dew Point Temperature, Wind Speed, Humidity, and Sea Level Pressure.\n",
    "\n",
    "Hints: You can follow the following Report Structure- A suitable Title at top of the first page, Your\n",
    "name and ID, Abstract with keywords, Introduction (include citation, motivation and objectives),\n",
    "Methodology, Results and Discussions (include explanatory data analysis, summary statistics, graphs\n",
    "or figures, expalnation of results from different models etc), Summary and Conclusion."
   ]
  },
  {
   "cell_type": "markdown",
   "metadata": {
    "id": "Eoc-YJT9fL7l"
   },
   "source": [
    "The solution below includes only the coding part of the above problem. The assignment hardcopy will be provided in the next class."
   ]
  },
  {
   "cell_type": "code",
   "execution_count": 24,
   "metadata": {
    "id": "WiSKO9JAIbEu"
   },
   "outputs": [],
   "source": [
    "#import libraries\n",
    "import numpy as np\n",
    "import pandas as pd\n",
    "from sklearn.model_selection import train_test_split\n",
    "from sklearn.linear_model import LogisticRegression\n",
    "from sklearn.metrics import classification_report, confusion_matrix, accuracy_score\n",
    "from sklearn import tree\n",
    "from sklearn.tree import DecisionTreeClassifier\n",
    "from sklearn.preprocessing import StandardScaler\n",
    "from sklearn.ensemble import RandomForestClassifier\n",
    "from sklearn.neighbors import KNeighborsClassifier\n",
    "from sklearn.metrics import classification_report,roc_auc_score,roc_curve,confusion_matrix\n",
    "# For visualization\n",
    "import matplotlib.pyplot as plt\n",
    "%matplotlib inline\n",
    "import seaborn as sns"
   ]
  },
  {
   "cell_type": "code",
   "execution_count": 25,
   "metadata": {
    "id": "jvvxsrDOImIZ"
   },
   "outputs": [],
   "source": [
    "file_path=\"/content/Mymensingh.csv\"\n",
    "\n",
    "#read the data and convert into DataFrame\n",
    "df=pd.DataFrame(pd.read_csv(file_path))"
   ]
  },
  {
   "cell_type": "code",
   "execution_count": 26,
   "metadata": {
    "colab": {
     "base_uri": "https://localhost:8080/"
    },
    "id": "3vRl3BQwJKXb",
    "outputId": "35b87938-56cf-4d65-86fc-393eae3c520a"
   },
   "outputs": [
    {
     "data": {
      "text/plain": [
       "(672, 12)"
      ]
     },
     "execution_count": 26,
     "metadata": {},
     "output_type": "execute_result"
    }
   ],
   "source": [
    "df.shape"
   ]
  },
  {
   "cell_type": "code",
   "execution_count": 27,
   "metadata": {
    "colab": {
     "base_uri": "https://localhost:8080/",
     "height": 206
    },
    "id": "HfZy9AT8JRph",
    "outputId": "4575c817-948d-4765-ff01-183437352726"
   },
   "outputs": [
    {
     "data": {
      "text/html": [
       "\n",
       "  <div id=\"df-d10c346c-be3e-4491-9fc3-39f731922cf6\">\n",
       "    <div class=\"colab-df-container\">\n",
       "      <div>\n",
       "<style scoped>\n",
       "    .dataframe tbody tr th:only-of-type {\n",
       "        vertical-align: middle;\n",
       "    }\n",
       "\n",
       "    .dataframe tbody tr th {\n",
       "        vertical-align: top;\n",
       "    }\n",
       "\n",
       "    .dataframe thead th {\n",
       "        text-align: right;\n",
       "    }\n",
       "</style>\n",
       "<table border=\"1\" class=\"dataframe\">\n",
       "  <thead>\n",
       "    <tr style=\"text-align: right;\">\n",
       "      <th></th>\n",
       "      <th>ID</th>\n",
       "      <th>Station</th>\n",
       "      <th>Year</th>\n",
       "      <th>Month</th>\n",
       "      <th>TEM</th>\n",
       "      <th>DPT</th>\n",
       "      <th>WIS</th>\n",
       "      <th>HUM</th>\n",
       "      <th>SLP</th>\n",
       "      <th>T_RAN</th>\n",
       "      <th>A_RAIN</th>\n",
       "      <th>RAN</th>\n",
       "    </tr>\n",
       "  </thead>\n",
       "  <tbody>\n",
       "    <tr>\n",
       "      <th>0</th>\n",
       "      <td>1</td>\n",
       "      <td>Mymensingh</td>\n",
       "      <td>1960</td>\n",
       "      <td>1</td>\n",
       "      <td>16.9</td>\n",
       "      <td>11.3</td>\n",
       "      <td>2.0</td>\n",
       "      <td>73.39</td>\n",
       "      <td>1016.0</td>\n",
       "      <td>15</td>\n",
       "      <td>0.48</td>\n",
       "      <td>NRT</td>\n",
       "    </tr>\n",
       "    <tr>\n",
       "      <th>1</th>\n",
       "      <td>2</td>\n",
       "      <td>Mymensingh</td>\n",
       "      <td>1960</td>\n",
       "      <td>2</td>\n",
       "      <td>21.4</td>\n",
       "      <td>12.6</td>\n",
       "      <td>1.7</td>\n",
       "      <td>66.34</td>\n",
       "      <td>1013.0</td>\n",
       "      <td>0</td>\n",
       "      <td>0.00</td>\n",
       "      <td>NRT</td>\n",
       "    </tr>\n",
       "    <tr>\n",
       "      <th>2</th>\n",
       "      <td>3</td>\n",
       "      <td>Mymensingh</td>\n",
       "      <td>1960</td>\n",
       "      <td>3</td>\n",
       "      <td>24.1</td>\n",
       "      <td>14.9</td>\n",
       "      <td>2.3</td>\n",
       "      <td>64.13</td>\n",
       "      <td>1011.4</td>\n",
       "      <td>69</td>\n",
       "      <td>2.23</td>\n",
       "      <td>LTR</td>\n",
       "    </tr>\n",
       "    <tr>\n",
       "      <th>3</th>\n",
       "      <td>4</td>\n",
       "      <td>Mymensingh</td>\n",
       "      <td>1960</td>\n",
       "      <td>4</td>\n",
       "      <td>29.9</td>\n",
       "      <td>17.6</td>\n",
       "      <td>2.2</td>\n",
       "      <td>59.03</td>\n",
       "      <td>1007.1</td>\n",
       "      <td>27</td>\n",
       "      <td>0.90</td>\n",
       "      <td>NRT</td>\n",
       "    </tr>\n",
       "    <tr>\n",
       "      <th>4</th>\n",
       "      <td>5</td>\n",
       "      <td>Mymensingh</td>\n",
       "      <td>1960</td>\n",
       "      <td>5</td>\n",
       "      <td>29.6</td>\n",
       "      <td>23.2</td>\n",
       "      <td>2.4</td>\n",
       "      <td>73.45</td>\n",
       "      <td>1003.4</td>\n",
       "      <td>187</td>\n",
       "      <td>6.03</td>\n",
       "      <td>LTR</td>\n",
       "    </tr>\n",
       "  </tbody>\n",
       "</table>\n",
       "</div>\n",
       "      <button class=\"colab-df-convert\" onclick=\"convertToInteractive('df-d10c346c-be3e-4491-9fc3-39f731922cf6')\"\n",
       "              title=\"Convert this dataframe to an interactive table.\"\n",
       "              style=\"display:none;\">\n",
       "        \n",
       "  <svg xmlns=\"http://www.w3.org/2000/svg\" height=\"24px\"viewBox=\"0 0 24 24\"\n",
       "       width=\"24px\">\n",
       "    <path d=\"M0 0h24v24H0V0z\" fill=\"none\"/>\n",
       "    <path d=\"M18.56 5.44l.94 2.06.94-2.06 2.06-.94-2.06-.94-.94-2.06-.94 2.06-2.06.94zm-11 1L8.5 8.5l.94-2.06 2.06-.94-2.06-.94L8.5 2.5l-.94 2.06-2.06.94zm10 10l.94 2.06.94-2.06 2.06-.94-2.06-.94-.94-2.06-.94 2.06-2.06.94z\"/><path d=\"M17.41 7.96l-1.37-1.37c-.4-.4-.92-.59-1.43-.59-.52 0-1.04.2-1.43.59L10.3 9.45l-7.72 7.72c-.78.78-.78 2.05 0 2.83L4 21.41c.39.39.9.59 1.41.59.51 0 1.02-.2 1.41-.59l7.78-7.78 2.81-2.81c.8-.78.8-2.07 0-2.86zM5.41 20L4 18.59l7.72-7.72 1.47 1.35L5.41 20z\"/>\n",
       "  </svg>\n",
       "      </button>\n",
       "      \n",
       "  <style>\n",
       "    .colab-df-container {\n",
       "      display:flex;\n",
       "      flex-wrap:wrap;\n",
       "      gap: 12px;\n",
       "    }\n",
       "\n",
       "    .colab-df-convert {\n",
       "      background-color: #E8F0FE;\n",
       "      border: none;\n",
       "      border-radius: 50%;\n",
       "      cursor: pointer;\n",
       "      display: none;\n",
       "      fill: #1967D2;\n",
       "      height: 32px;\n",
       "      padding: 0 0 0 0;\n",
       "      width: 32px;\n",
       "    }\n",
       "\n",
       "    .colab-df-convert:hover {\n",
       "      background-color: #E2EBFA;\n",
       "      box-shadow: 0px 1px 2px rgba(60, 64, 67, 0.3), 0px 1px 3px 1px rgba(60, 64, 67, 0.15);\n",
       "      fill: #174EA6;\n",
       "    }\n",
       "\n",
       "    [theme=dark] .colab-df-convert {\n",
       "      background-color: #3B4455;\n",
       "      fill: #D2E3FC;\n",
       "    }\n",
       "\n",
       "    [theme=dark] .colab-df-convert:hover {\n",
       "      background-color: #434B5C;\n",
       "      box-shadow: 0px 1px 3px 1px rgba(0, 0, 0, 0.15);\n",
       "      filter: drop-shadow(0px 1px 2px rgba(0, 0, 0, 0.3));\n",
       "      fill: #FFFFFF;\n",
       "    }\n",
       "  </style>\n",
       "\n",
       "      <script>\n",
       "        const buttonEl =\n",
       "          document.querySelector('#df-d10c346c-be3e-4491-9fc3-39f731922cf6 button.colab-df-convert');\n",
       "        buttonEl.style.display =\n",
       "          google.colab.kernel.accessAllowed ? 'block' : 'none';\n",
       "\n",
       "        async function convertToInteractive(key) {\n",
       "          const element = document.querySelector('#df-d10c346c-be3e-4491-9fc3-39f731922cf6');\n",
       "          const dataTable =\n",
       "            await google.colab.kernel.invokeFunction('convertToInteractive',\n",
       "                                                     [key], {});\n",
       "          if (!dataTable) return;\n",
       "\n",
       "          const docLinkHtml = 'Like what you see? Visit the ' +\n",
       "            '<a target=\"_blank\" href=https://colab.research.google.com/notebooks/data_table.ipynb>data table notebook</a>'\n",
       "            + ' to learn more about interactive tables.';\n",
       "          element.innerHTML = '';\n",
       "          dataTable['output_type'] = 'display_data';\n",
       "          await google.colab.output.renderOutput(dataTable, element);\n",
       "          const docLink = document.createElement('div');\n",
       "          docLink.innerHTML = docLinkHtml;\n",
       "          element.appendChild(docLink);\n",
       "        }\n",
       "      </script>\n",
       "    </div>\n",
       "  </div>\n",
       "  "
      ],
      "text/plain": [
       "   ID     Station  Year  Month   TEM   DPT  WIS    HUM     SLP  T_RAN  A_RAIN  \\\n",
       "0   1  Mymensingh  1960      1  16.9  11.3  2.0  73.39  1016.0     15    0.48   \n",
       "1   2  Mymensingh  1960      2  21.4  12.6  1.7  66.34  1013.0      0    0.00   \n",
       "2   3  Mymensingh  1960      3  24.1  14.9  2.3  64.13  1011.4     69    2.23   \n",
       "3   4  Mymensingh  1960      4  29.9  17.6  2.2  59.03  1007.1     27    0.90   \n",
       "4   5  Mymensingh  1960      5  29.6  23.2  2.4  73.45  1003.4    187    6.03   \n",
       "\n",
       "   RAN  \n",
       "0  NRT  \n",
       "1  NRT  \n",
       "2  LTR  \n",
       "3  NRT  \n",
       "4  LTR  "
      ]
     },
     "execution_count": 27,
     "metadata": {},
     "output_type": "execute_result"
    }
   ],
   "source": [
    "df.head(5)"
   ]
  },
  {
   "cell_type": "markdown",
   "metadata": {
    "id": "FQzT3GsHJXbH"
   },
   "source": [
    "# **Data Pre-Processing**"
   ]
  },
  {
   "cell_type": "markdown",
   "metadata": {
    "id": "HGjDTWSJgH1r"
   },
   "source": [
    "Dropping features according to assignment instruction."
   ]
  },
  {
   "cell_type": "code",
   "execution_count": 28,
   "metadata": {
    "colab": {
     "base_uri": "https://localhost:8080/",
     "height": 206
    },
    "id": "McYzx7uAJYjZ",
    "outputId": "90ded251-becd-46b8-fddc-7b5a67b907ae"
   },
   "outputs": [
    {
     "data": {
      "text/html": [
       "\n",
       "  <div id=\"df-53d104a4-b1d1-4b0a-8e9c-bed59b28200d\">\n",
       "    <div class=\"colab-df-container\">\n",
       "      <div>\n",
       "<style scoped>\n",
       "    .dataframe tbody tr th:only-of-type {\n",
       "        vertical-align: middle;\n",
       "    }\n",
       "\n",
       "    .dataframe tbody tr th {\n",
       "        vertical-align: top;\n",
       "    }\n",
       "\n",
       "    .dataframe thead th {\n",
       "        text-align: right;\n",
       "    }\n",
       "</style>\n",
       "<table border=\"1\" class=\"dataframe\">\n",
       "  <thead>\n",
       "    <tr style=\"text-align: right;\">\n",
       "      <th></th>\n",
       "      <th>TEM</th>\n",
       "      <th>DPT</th>\n",
       "      <th>WIS</th>\n",
       "      <th>HUM</th>\n",
       "      <th>SLP</th>\n",
       "      <th>RAN</th>\n",
       "    </tr>\n",
       "  </thead>\n",
       "  <tbody>\n",
       "    <tr>\n",
       "      <th>0</th>\n",
       "      <td>16.9</td>\n",
       "      <td>11.3</td>\n",
       "      <td>2.0</td>\n",
       "      <td>73.39</td>\n",
       "      <td>1016.0</td>\n",
       "      <td>NRT</td>\n",
       "    </tr>\n",
       "    <tr>\n",
       "      <th>1</th>\n",
       "      <td>21.4</td>\n",
       "      <td>12.6</td>\n",
       "      <td>1.7</td>\n",
       "      <td>66.34</td>\n",
       "      <td>1013.0</td>\n",
       "      <td>NRT</td>\n",
       "    </tr>\n",
       "    <tr>\n",
       "      <th>2</th>\n",
       "      <td>24.1</td>\n",
       "      <td>14.9</td>\n",
       "      <td>2.3</td>\n",
       "      <td>64.13</td>\n",
       "      <td>1011.4</td>\n",
       "      <td>LTR</td>\n",
       "    </tr>\n",
       "    <tr>\n",
       "      <th>3</th>\n",
       "      <td>29.9</td>\n",
       "      <td>17.6</td>\n",
       "      <td>2.2</td>\n",
       "      <td>59.03</td>\n",
       "      <td>1007.1</td>\n",
       "      <td>NRT</td>\n",
       "    </tr>\n",
       "    <tr>\n",
       "      <th>4</th>\n",
       "      <td>29.6</td>\n",
       "      <td>23.2</td>\n",
       "      <td>2.4</td>\n",
       "      <td>73.45</td>\n",
       "      <td>1003.4</td>\n",
       "      <td>LTR</td>\n",
       "    </tr>\n",
       "  </tbody>\n",
       "</table>\n",
       "</div>\n",
       "      <button class=\"colab-df-convert\" onclick=\"convertToInteractive('df-53d104a4-b1d1-4b0a-8e9c-bed59b28200d')\"\n",
       "              title=\"Convert this dataframe to an interactive table.\"\n",
       "              style=\"display:none;\">\n",
       "        \n",
       "  <svg xmlns=\"http://www.w3.org/2000/svg\" height=\"24px\"viewBox=\"0 0 24 24\"\n",
       "       width=\"24px\">\n",
       "    <path d=\"M0 0h24v24H0V0z\" fill=\"none\"/>\n",
       "    <path d=\"M18.56 5.44l.94 2.06.94-2.06 2.06-.94-2.06-.94-.94-2.06-.94 2.06-2.06.94zm-11 1L8.5 8.5l.94-2.06 2.06-.94-2.06-.94L8.5 2.5l-.94 2.06-2.06.94zm10 10l.94 2.06.94-2.06 2.06-.94-2.06-.94-.94-2.06-.94 2.06-2.06.94z\"/><path d=\"M17.41 7.96l-1.37-1.37c-.4-.4-.92-.59-1.43-.59-.52 0-1.04.2-1.43.59L10.3 9.45l-7.72 7.72c-.78.78-.78 2.05 0 2.83L4 21.41c.39.39.9.59 1.41.59.51 0 1.02-.2 1.41-.59l7.78-7.78 2.81-2.81c.8-.78.8-2.07 0-2.86zM5.41 20L4 18.59l7.72-7.72 1.47 1.35L5.41 20z\"/>\n",
       "  </svg>\n",
       "      </button>\n",
       "      \n",
       "  <style>\n",
       "    .colab-df-container {\n",
       "      display:flex;\n",
       "      flex-wrap:wrap;\n",
       "      gap: 12px;\n",
       "    }\n",
       "\n",
       "    .colab-df-convert {\n",
       "      background-color: #E8F0FE;\n",
       "      border: none;\n",
       "      border-radius: 50%;\n",
       "      cursor: pointer;\n",
       "      display: none;\n",
       "      fill: #1967D2;\n",
       "      height: 32px;\n",
       "      padding: 0 0 0 0;\n",
       "      width: 32px;\n",
       "    }\n",
       "\n",
       "    .colab-df-convert:hover {\n",
       "      background-color: #E2EBFA;\n",
       "      box-shadow: 0px 1px 2px rgba(60, 64, 67, 0.3), 0px 1px 3px 1px rgba(60, 64, 67, 0.15);\n",
       "      fill: #174EA6;\n",
       "    }\n",
       "\n",
       "    [theme=dark] .colab-df-convert {\n",
       "      background-color: #3B4455;\n",
       "      fill: #D2E3FC;\n",
       "    }\n",
       "\n",
       "    [theme=dark] .colab-df-convert:hover {\n",
       "      background-color: #434B5C;\n",
       "      box-shadow: 0px 1px 3px 1px rgba(0, 0, 0, 0.15);\n",
       "      filter: drop-shadow(0px 1px 2px rgba(0, 0, 0, 0.3));\n",
       "      fill: #FFFFFF;\n",
       "    }\n",
       "  </style>\n",
       "\n",
       "      <script>\n",
       "        const buttonEl =\n",
       "          document.querySelector('#df-53d104a4-b1d1-4b0a-8e9c-bed59b28200d button.colab-df-convert');\n",
       "        buttonEl.style.display =\n",
       "          google.colab.kernel.accessAllowed ? 'block' : 'none';\n",
       "\n",
       "        async function convertToInteractive(key) {\n",
       "          const element = document.querySelector('#df-53d104a4-b1d1-4b0a-8e9c-bed59b28200d');\n",
       "          const dataTable =\n",
       "            await google.colab.kernel.invokeFunction('convertToInteractive',\n",
       "                                                     [key], {});\n",
       "          if (!dataTable) return;\n",
       "\n",
       "          const docLinkHtml = 'Like what you see? Visit the ' +\n",
       "            '<a target=\"_blank\" href=https://colab.research.google.com/notebooks/data_table.ipynb>data table notebook</a>'\n",
       "            + ' to learn more about interactive tables.';\n",
       "          element.innerHTML = '';\n",
       "          dataTable['output_type'] = 'display_data';\n",
       "          await google.colab.output.renderOutput(dataTable, element);\n",
       "          const docLink = document.createElement('div');\n",
       "          docLink.innerHTML = docLinkHtml;\n",
       "          element.appendChild(docLink);\n",
       "        }\n",
       "      </script>\n",
       "    </div>\n",
       "  </div>\n",
       "  "
      ],
      "text/plain": [
       "    TEM   DPT  WIS    HUM     SLP  RAN\n",
       "0  16.9  11.3  2.0  73.39  1016.0  NRT\n",
       "1  21.4  12.6  1.7  66.34  1013.0  NRT\n",
       "2  24.1  14.9  2.3  64.13  1011.4  LTR\n",
       "3  29.9  17.6  2.2  59.03  1007.1  NRT\n",
       "4  29.6  23.2  2.4  73.45  1003.4  LTR"
      ]
     },
     "execution_count": 28,
     "metadata": {},
     "output_type": "execute_result"
    }
   ],
   "source": [
    "df = df.drop([\"ID\", \"Station\",\"Year\",\"Month\",\"T_RAN\",\"A_RAIN\"], axis = 1)\n",
    "df.head(5)"
   ]
  },
  {
   "cell_type": "code",
   "execution_count": 29,
   "metadata": {
    "colab": {
     "base_uri": "https://localhost:8080/"
    },
    "id": "xtVqx321JfcO",
    "outputId": "f1e30abb-9b82-4759-9e55-edaad2a4fb80"
   },
   "outputs": [
    {
     "name": "stdout",
     "output_type": "stream",
     "text": [
      "NRT    264\n",
      "LTR    250\n",
      "MHR    158\n",
      "Name: RAN, dtype: int64\n"
     ]
    }
   ],
   "source": [
    "#Checking unique values of dependent features\n",
    "print(df['RAN'].value_counts())"
   ]
  },
  {
   "cell_type": "code",
   "execution_count": 30,
   "metadata": {
    "colab": {
     "base_uri": "https://localhost:8080/"
    },
    "id": "_bfWm3WVJkHx",
    "outputId": "2e4e0153-cba8-4ac0-c920-4ba61aa1ea95"
   },
   "outputs": [
    {
     "data": {
      "text/plain": [
       "TEM    18\n",
       "DPT    15\n",
       "WIS     0\n",
       "HUM    18\n",
       "SLP    18\n",
       "RAN     0\n",
       "dtype: int64"
      ]
     },
     "execution_count": 30,
     "metadata": {},
     "output_type": "execute_result"
    }
   ],
   "source": [
    "# Checking columns list and missing values\n",
    "df.isnull().sum()"
   ]
  },
  {
   "cell_type": "code",
   "execution_count": 31,
   "metadata": {
    "colab": {
     "base_uri": "https://localhost:8080/",
     "height": 282
    },
    "id": "1LnQFRVJJoAx",
    "outputId": "499e839b-8396-4234-b587-0e8a2508f0c1"
   },
   "outputs": [
    {
     "data": {
      "text/plain": [
       "<matplotlib.axes._subplots.AxesSubplot at 0x7f193ef25910>"
      ]
     },
     "execution_count": 31,
     "metadata": {},
     "output_type": "execute_result"
    },
    {
     "data": {
      "image/png": "[encoded data removed]",
      "text/plain": [
       "<Figure size 432x288 with 1 Axes>"
      ]
     },
     "metadata": {
      "needs_background": "light"
     },
     "output_type": "display_data"
    }
   ],
   "source": [
    "sns.heatmap(df.isnull(),yticklabels=False, cbar=False)"
   ]
  },
  {
   "cell_type": "code",
   "execution_count": 32,
   "metadata": {
    "colab": {
     "base_uri": "https://localhost:8080/"
    },
    "id": "H68RymFEJphJ",
    "outputId": "282449f8-056e-4fbf-934d-697f76951d56"
   },
   "outputs": [
    {
     "name": "stdout",
     "output_type": "stream",
     "text": [
      "<class 'pandas.core.frame.DataFrame'>\n",
      "RangeIndex: 672 entries, 0 to 671\n",
      "Data columns (total 6 columns):\n",
      " #   Column  Non-Null Count  Dtype  \n",
      "---  ------  --------------  -----  \n",
      " 0   TEM     654 non-null    float64\n",
      " 1   DPT     657 non-null    float64\n",
      " 2   WIS     672 non-null    float64\n",
      " 3   HUM     654 non-null    float64\n",
      " 4   SLP     654 non-null    float64\n",
      " 5   RAN     672 non-null    object \n",
      "dtypes: float64(5), object(1)\n",
      "memory usage: 31.6+ KB\n"
     ]
    }
   ],
   "source": [
    "#Printing a concise summary of the dataframe\n",
    "df.info()"
   ]
  },
  {
   "cell_type": "markdown",
   "metadata": {
    "id": "QMhaDHVIgtf5"
   },
   "source": [
    "As the number of missing values are less than 20% of the total data elements, I will replace the NAN values with the mean of each column."
   ]
  },
  {
   "cell_type": "code",
   "execution_count": 33,
   "metadata": {
    "colab": {
     "base_uri": "https://localhost:8080/"
    },
    "id": "djhbL16BJtDF",
    "outputId": "2c2a79ab-17c3-43b5-ad66-a52d3f971867"
   },
   "outputs": [
    {
     "name": "stderr",
     "output_type": "stream",
     "text": [
      "/usr/local/lib/python3.7/dist-packages/ipykernel_launcher.py:3: FutureWarning: Dropping of nuisance columns in DataFrame reductions (with 'numeric_only=None') is deprecated; in a future version this will raise TypeError.  Select only valid columns before calling the reduction.\n",
      "  This is separate from the ipykernel package so we can avoid doing imports until\n"
     ]
    }
   ],
   "source": [
    "# # Basic nan munging. Fill each row's nans with the mean of the feature\n",
    "\n",
    "df.fillna(df.mean(), inplace=True)"
   ]
  },
  {
   "cell_type": "code",
   "execution_count": 34,
   "metadata": {
    "colab": {
     "base_uri": "https://localhost:8080/"
    },
    "id": "A1hhnerRJy5K",
    "outputId": "9fd9b0a3-aff3-4d9e-e943-69eab7334465"
   },
   "outputs": [
    {
     "name": "stdout",
     "output_type": "stream",
     "text": [
      "<class 'pandas.core.frame.DataFrame'>\n",
      "RangeIndex: 672 entries, 0 to 671\n",
      "Data columns (total 6 columns):\n",
      " #   Column  Non-Null Count  Dtype  \n",
      "---  ------  --------------  -----  \n",
      " 0   TEM     672 non-null    float64\n",
      " 1   DPT     672 non-null    float64\n",
      " 2   WIS     672 non-null    float64\n",
      " 3   HUM     672 non-null    float64\n",
      " 4   SLP     672 non-null    float64\n",
      " 5   RAN     672 non-null    object \n",
      "dtypes: float64(5), object(1)\n",
      "memory usage: 31.6+ KB\n"
     ]
    }
   ],
   "source": [
    "#Printing a concise summary of the dataframe\n",
    "df.info()"
   ]
  },
  {
   "cell_type": "code",
   "execution_count": 35,
   "metadata": {
    "colab": {
     "base_uri": "https://localhost:8080/",
     "height": 300
    },
    "id": "pIT_LRz7J2Io",
    "outputId": "636f36d2-d011-4b8b-e4a1-89fcdc9748b6"
   },
   "outputs": [
    {
     "data": {
      "text/html": [
       "\n",
       "  <div id=\"df-010122f2-6282-4585-a64a-1f74c0e53da4\">\n",
       "    <div class=\"colab-df-container\">\n",
       "      <div>\n",
       "<style scoped>\n",
       "    .dataframe tbody tr th:only-of-type {\n",
       "        vertical-align: middle;\n",
       "    }\n",
       "\n",
       "    .dataframe tbody tr th {\n",
       "        vertical-align: top;\n",
       "    }\n",
       "\n",
       "    .dataframe thead th {\n",
       "        text-align: right;\n",
       "    }\n",
       "</style>\n",
       "<table border=\"1\" class=\"dataframe\">\n",
       "  <thead>\n",
       "    <tr style=\"text-align: right;\">\n",
       "      <th></th>\n",
       "      <th>TEM</th>\n",
       "      <th>DPT</th>\n",
       "      <th>WIS</th>\n",
       "      <th>HUM</th>\n",
       "      <th>SLP</th>\n",
       "    </tr>\n",
       "  </thead>\n",
       "  <tbody>\n",
       "    <tr>\n",
       "      <th>count</th>\n",
       "      <td>672.000000</td>\n",
       "      <td>672.000000</td>\n",
       "      <td>672.000000</td>\n",
       "      <td>672.000000</td>\n",
       "      <td>672.000000</td>\n",
       "    </tr>\n",
       "    <tr>\n",
       "      <th>mean</th>\n",
       "      <td>25.289602</td>\n",
       "      <td>20.323288</td>\n",
       "      <td>2.549107</td>\n",
       "      <td>79.120795</td>\n",
       "      <td>1008.213609</td>\n",
       "    </tr>\n",
       "    <tr>\n",
       "      <th>std</th>\n",
       "      <td>3.804619</td>\n",
       "      <td>5.074564</td>\n",
       "      <td>1.467420</td>\n",
       "      <td>7.810010</td>\n",
       "      <td>5.417935</td>\n",
       "    </tr>\n",
       "    <tr>\n",
       "      <th>min</th>\n",
       "      <td>15.400000</td>\n",
       "      <td>0.000000</td>\n",
       "      <td>0.000000</td>\n",
       "      <td>47.640000</td>\n",
       "      <td>985.000000</td>\n",
       "    </tr>\n",
       "    <tr>\n",
       "      <th>25%</th>\n",
       "      <td>22.700000</td>\n",
       "      <td>15.700000</td>\n",
       "      <td>1.600000</td>\n",
       "      <td>74.605000</td>\n",
       "      <td>1003.500000</td>\n",
       "    </tr>\n",
       "    <tr>\n",
       "      <th>50%</th>\n",
       "      <td>26.900000</td>\n",
       "      <td>21.900000</td>\n",
       "      <td>2.300000</td>\n",
       "      <td>80.665000</td>\n",
       "      <td>1008.213609</td>\n",
       "    </tr>\n",
       "    <tr>\n",
       "      <th>75%</th>\n",
       "      <td>28.300000</td>\n",
       "      <td>24.700000</td>\n",
       "      <td>3.400000</td>\n",
       "      <td>85.175000</td>\n",
       "      <td>1013.300000</td>\n",
       "    </tr>\n",
       "    <tr>\n",
       "      <th>max</th>\n",
       "      <td>30.900000</td>\n",
       "      <td>27.000000</td>\n",
       "      <td>9.800000</td>\n",
       "      <td>91.630000</td>\n",
       "      <td>1017.200000</td>\n",
       "    </tr>\n",
       "  </tbody>\n",
       "</table>\n",
       "</div>\n",
       "      <button class=\"colab-df-convert\" onclick=\"convertToInteractive('df-010122f2-6282-4585-a64a-1f74c0e53da4')\"\n",
       "              title=\"Convert this dataframe to an interactive table.\"\n",
       "              style=\"display:none;\">\n",
       "        \n",
       "  <svg xmlns=\"http://www.w3.org/2000/svg\" height=\"24px\"viewBox=\"0 0 24 24\"\n",
       "       width=\"24px\">\n",
       "    <path d=\"M0 0h24v24H0V0z\" fill=\"none\"/>\n",
       "    <path d=\"M18.56 5.44l.94 2.06.94-2.06 2.06-.94-2.06-.94-.94-2.06-.94 2.06-2.06.94zm-11 1L8.5 8.5l.94-2.06 2.06-.94-2.06-.94L8.5 2.5l-.94 2.06-2.06.94zm10 10l.94 2.06.94-2.06 2.06-.94-2.06-.94-.94-2.06-.94 2.06-2.06.94z\"/><path d=\"M17.41 7.96l-1.37-1.37c-.4-.4-.92-.59-1.43-.59-.52 0-1.04.2-1.43.59L10.3 9.45l-7.72 7.72c-.78.78-.78 2.05 0 2.83L4 21.41c.39.39.9.59 1.41.59.51 0 1.02-.2 1.41-.59l7.78-7.78 2.81-2.81c.8-.78.8-2.07 0-2.86zM5.41 20L4 18.59l7.72-7.72 1.47 1.35L5.41 20z\"/>\n",
       "  </svg>\n",
       "      </button>\n",
       "      \n",
       "  <style>\n",
       "    .colab-df-container {\n",
       "      display:flex;\n",
       "      flex-wrap:wrap;\n",
       "      gap: 12px;\n",
       "    }\n",
       "\n",
       "    .colab-df-convert {\n",
       "      background-color: #E8F0FE;\n",
       "      border: none;\n",
       "      border-radius: 50%;\n",
       "      cursor: pointer;\n",
       "      display: none;\n",
       "      fill: #1967D2;\n",
       "      height: 32px;\n",
       "      padding: 0 0 0 0;\n",
       "      width: 32px;\n",
       "    }\n",
       "\n",
       "    .colab-df-convert:hover {\n",
       "      background-color: #E2EBFA;\n",
       "      box-shadow: 0px 1px 2px rgba(60, 64, 67, 0.3), 0px 1px 3px 1px rgba(60, 64, 67, 0.15);\n",
       "      fill: #174EA6;\n",
       "    }\n",
       "\n",
       "    [theme=dark] .colab-df-convert {\n",
       "      background-color: #3B4455;\n",
       "      fill: #D2E3FC;\n",
       "    }\n",
       "\n",
       "    [theme=dark] .colab-df-convert:hover {\n",
       "      background-color: #434B5C;\n",
       "      box-shadow: 0px 1px 3px 1px rgba(0, 0, 0, 0.15);\n",
       "      filter: drop-shadow(0px 1px 2px rgba(0, 0, 0, 0.3));\n",
       "      fill: #FFFFFF;\n",
       "    }\n",
       "  </style>\n",
       "\n",
       "      <script>\n",
       "        const buttonEl =\n",
       "          document.querySelector('#df-010122f2-6282-4585-a64a-1f74c0e53da4 button.colab-df-convert');\n",
       "        buttonEl.style.display =\n",
       "          google.colab.kernel.accessAllowed ? 'block' : 'none';\n",
       "\n",
       "        async function convertToInteractive(key) {\n",
       "          const element = document.querySelector('#df-010122f2-6282-4585-a64a-1f74c0e53da4');\n",
       "          const dataTable =\n",
       "            await google.colab.kernel.invokeFunction('convertToInteractive',\n",
       "                                                     [key], {});\n",
       "          if (!dataTable) return;\n",
       "\n",
       "          const docLinkHtml = 'Like what you see? Visit the ' +\n",
       "            '<a target=\"_blank\" href=https://colab.research.google.com/notebooks/data_table.ipynb>data table notebook</a>'\n",
       "            + ' to learn more about interactive tables.';\n",
       "          element.innerHTML = '';\n",
       "          dataTable['output_type'] = 'display_data';\n",
       "          await google.colab.output.renderOutput(dataTable, element);\n",
       "          const docLink = document.createElement('div');\n",
       "          docLink.innerHTML = docLinkHtml;\n",
       "          element.appendChild(docLink);\n",
       "        }\n",
       "      </script>\n",
       "    </div>\n",
       "  </div>\n",
       "  "
      ],
      "text/plain": [
       "              TEM         DPT         WIS         HUM          SLP\n",
       "count  672.000000  672.000000  672.000000  672.000000   672.000000\n",
       "mean    25.289602   20.323288    2.549107   79.120795  1008.213609\n",
       "std      3.804619    5.074564    1.467420    7.810010     5.417935\n",
       "min     15.400000    0.000000    0.000000   47.640000   985.000000\n",
       "25%     22.700000   15.700000    1.600000   74.605000  1003.500000\n",
       "50%     26.900000   21.900000    2.300000   80.665000  1008.213609\n",
       "75%     28.300000   24.700000    3.400000   85.175000  1013.300000\n",
       "max     30.900000   27.000000    9.800000   91.630000  1017.200000"
      ]
     },
     "execution_count": 35,
     "metadata": {},
     "output_type": "execute_result"
    }
   ],
   "source": [
    "#Printing a concise summary of the dataframe\n",
    "df.describe()"
   ]
  },
  {
   "cell_type": "code",
   "execution_count": 36,
   "metadata": {
    "colab": {
     "base_uri": "https://localhost:8080/"
    },
    "id": "afP2TFywJ55G",
    "outputId": "fdb5ee4d-8f11-4a76-f8b9-11ad546cee32"
   },
   "outputs": [
    {
     "name": "stdout",
     "output_type": "stream",
     "text": [
      "0      2\n",
      "1      2\n",
      "2      0\n",
      "3      2\n",
      "4      0\n",
      "      ..\n",
      "667    1\n",
      "668    0\n",
      "669    0\n",
      "670    2\n",
      "671    2\n",
      "Name: RAN, Length: 672, dtype: int64\n"
     ]
    }
   ],
   "source": [
    "#converting the probable categorical value into binary form for ease of operation\n",
    "from sklearn.preprocessing import LabelEncoder\n",
    "lb = LabelEncoder() \n",
    "df['RAN'] = lb.fit_transform(df['RAN'])\n",
    "print(df['RAN'])"
   ]
  },
  {
   "cell_type": "code",
   "execution_count": 37,
   "metadata": {
    "colab": {
     "base_uri": "https://localhost:8080/"
    },
    "id": "YFkNBNRHJ-Ox",
    "outputId": "49a649ff-79c4-456e-f026-7b89461c5bd2"
   },
   "outputs": [
    {
     "name": "stdout",
     "output_type": "stream",
     "text": [
      "0      2\n",
      "1      2\n",
      "2      0\n",
      "3      2\n",
      "4      0\n",
      "      ..\n",
      "667    1\n",
      "668    0\n",
      "669    0\n",
      "670    2\n",
      "671    2\n",
      "Name: RAN, Length: 672, dtype: int64\n"
     ]
    }
   ],
   "source": [
    "#converting the probable categorical value into binary form for ease of operation\n",
    "from sklearn.preprocessing import LabelEncoder\n",
    "lb = LabelEncoder() \n",
    "df['RAN'] = lb.fit_transform(df['RAN'])\n",
    "print(df['RAN'])"
   ]
  },
  {
   "cell_type": "markdown",
   "metadata": {
    "id": "yOlLXO7zKGnR"
   },
   "source": [
    "**Standard Scaling **"
   ]
  },
  {
   "cell_type": "code",
   "execution_count": 38,
   "metadata": {
    "colab": {
     "base_uri": "https://localhost:8080/",
     "height": 206
    },
    "id": "0TPCCvQGKLmO",
    "outputId": "357329b2-a136-4cf4-c1ce-4e27f70cbbdd"
   },
   "outputs": [
    {
     "data": {
      "text/html": [
       "\n",
       "  <div id=\"df-e3d3a24b-4910-48eb-9540-064589735fda\">\n",
       "    <div class=\"colab-df-container\">\n",
       "      <div>\n",
       "<style scoped>\n",
       "    .dataframe tbody tr th:only-of-type {\n",
       "        vertical-align: middle;\n",
       "    }\n",
       "\n",
       "    .dataframe tbody tr th {\n",
       "        vertical-align: top;\n",
       "    }\n",
       "\n",
       "    .dataframe thead th {\n",
       "        text-align: right;\n",
       "    }\n",
       "</style>\n",
       "<table border=\"1\" class=\"dataframe\">\n",
       "  <thead>\n",
       "    <tr style=\"text-align: right;\">\n",
       "      <th></th>\n",
       "      <th>TEM</th>\n",
       "      <th>DPT</th>\n",
       "      <th>WIS</th>\n",
       "      <th>HUM</th>\n",
       "      <th>SLP</th>\n",
       "      <th>RAN</th>\n",
       "    </tr>\n",
       "  </thead>\n",
       "  <tbody>\n",
       "    <tr>\n",
       "      <th>0</th>\n",
       "      <td>-2.206752</td>\n",
       "      <td>-1.779465</td>\n",
       "      <td>-0.374478</td>\n",
       "      <td>-0.734322</td>\n",
       "      <td>1.438222</td>\n",
       "      <td>1.119910</td>\n",
       "    </tr>\n",
       "    <tr>\n",
       "      <th>1</th>\n",
       "      <td>-1.023098</td>\n",
       "      <td>-1.523095</td>\n",
       "      <td>-0.579070</td>\n",
       "      <td>-1.637682</td>\n",
       "      <td>0.884093</td>\n",
       "      <td>1.119910</td>\n",
       "    </tr>\n",
       "    <tr>\n",
       "      <th>2</th>\n",
       "      <td>-0.312906</td>\n",
       "      <td>-1.069516</td>\n",
       "      <td>-0.169885</td>\n",
       "      <td>-1.920863</td>\n",
       "      <td>0.588557</td>\n",
       "      <td>-1.167565</td>\n",
       "    </tr>\n",
       "    <tr>\n",
       "      <th>3</th>\n",
       "      <td>1.212692</td>\n",
       "      <td>-0.537054</td>\n",
       "      <td>-0.238083</td>\n",
       "      <td>-2.574358</td>\n",
       "      <td>-0.205694</td>\n",
       "      <td>1.119910</td>\n",
       "    </tr>\n",
       "    <tr>\n",
       "      <th>4</th>\n",
       "      <td>1.133782</td>\n",
       "      <td>0.567311</td>\n",
       "      <td>-0.101687</td>\n",
       "      <td>-0.726634</td>\n",
       "      <td>-0.889120</td>\n",
       "      <td>-1.167565</td>\n",
       "    </tr>\n",
       "  </tbody>\n",
       "</table>\n",
       "</div>\n",
       "      <button class=\"colab-df-convert\" onclick=\"convertToInteractive('df-e3d3a24b-4910-48eb-9540-064589735fda')\"\n",
       "              title=\"Convert this dataframe to an interactive table.\"\n",
       "              style=\"display:none;\">\n",
       "        \n",
       "  <svg xmlns=\"http://www.w3.org/2000/svg\" height=\"24px\"viewBox=\"0 0 24 24\"\n",
       "       width=\"24px\">\n",
       "    <path d=\"M0 0h24v24H0V0z\" fill=\"none\"/>\n",
       "    <path d=\"M18.56 5.44l.94 2.06.94-2.06 2.06-.94-2.06-.94-.94-2.06-.94 2.06-2.06.94zm-11 1L8.5 8.5l.94-2.06 2.06-.94-2.06-.94L8.5 2.5l-.94 2.06-2.06.94zm10 10l.94 2.06.94-2.06 2.06-.94-2.06-.94-.94-2.06-.94 2.06-2.06.94z\"/><path d=\"M17.41 7.96l-1.37-1.37c-.4-.4-.92-.59-1.43-.59-.52 0-1.04.2-1.43.59L10.3 9.45l-7.72 7.72c-.78.78-.78 2.05 0 2.83L4 21.41c.39.39.9.59 1.41.59.51 0 1.02-.2 1.41-.59l7.78-7.78 2.81-2.81c.8-.78.8-2.07 0-2.86zM5.41 20L4 18.59l7.72-7.72 1.47 1.35L5.41 20z\"/>\n",
       "  </svg>\n",
       "      </button>\n",
       "      \n",
       "  <style>\n",
       "    .colab-df-container {\n",
       "      display:flex;\n",
       "      flex-wrap:wrap;\n",
       "      gap: 12px;\n",
       "    }\n",
       "\n",
       "    .colab-df-convert {\n",
       "      background-color: #E8F0FE;\n",
       "      border: none;\n",
       "      border-radius: 50%;\n",
       "      cursor: pointer;\n",
       "      display: none;\n",
       "      fill: #1967D2;\n",
       "      height: 32px;\n",
       "      padding: 0 0 0 0;\n",
       "      width: 32px;\n",
       "    }\n",
       "\n",
       "    .colab-df-convert:hover {\n",
       "      background-color: #E2EBFA;\n",
       "      box-shadow: 0px 1px 2px rgba(60, 64, 67, 0.3), 0px 1px 3px 1px rgba(60, 64, 67, 0.15);\n",
       "      fill: #174EA6;\n",
       "    }\n",
       "\n",
       "    [theme=dark] .colab-df-convert {\n",
       "      background-color: #3B4455;\n",
       "      fill: #D2E3FC;\n",
       "    }\n",
       "\n",
       "    [theme=dark] .colab-df-convert:hover {\n",
       "      background-color: #434B5C;\n",
       "      box-shadow: 0px 1px 3px 1px rgba(0, 0, 0, 0.15);\n",
       "      filter: drop-shadow(0px 1px 2px rgba(0, 0, 0, 0.3));\n",
       "      fill: #FFFFFF;\n",
       "    }\n",
       "  </style>\n",
       "\n",
       "      <script>\n",
       "        const buttonEl =\n",
       "          document.querySelector('#df-e3d3a24b-4910-48eb-9540-064589735fda button.colab-df-convert');\n",
       "        buttonEl.style.display =\n",
       "          google.colab.kernel.accessAllowed ? 'block' : 'none';\n",
       "\n",
       "        async function convertToInteractive(key) {\n",
       "          const element = document.querySelector('#df-e3d3a24b-4910-48eb-9540-064589735fda');\n",
       "          const dataTable =\n",
       "            await google.colab.kernel.invokeFunction('convertToInteractive',\n",
       "                                                     [key], {});\n",
       "          if (!dataTable) return;\n",
       "\n",
       "          const docLinkHtml = 'Like what you see? Visit the ' +\n",
       "            '<a target=\"_blank\" href=https://colab.research.google.com/notebooks/data_table.ipynb>data table notebook</a>'\n",
       "            + ' to learn more about interactive tables.';\n",
       "          element.innerHTML = '';\n",
       "          dataTable['output_type'] = 'display_data';\n",
       "          await google.colab.output.renderOutput(dataTable, element);\n",
       "          const docLink = document.createElement('div');\n",
       "          docLink.innerHTML = docLinkHtml;\n",
       "          element.appendChild(docLink);\n",
       "        }\n",
       "      </script>\n",
       "    </div>\n",
       "  </div>\n",
       "  "
      ],
      "text/plain": [
       "        TEM       DPT       WIS       HUM       SLP       RAN\n",
       "0 -2.206752 -1.779465 -0.374478 -0.734322  1.438222  1.119910\n",
       "1 -1.023098 -1.523095 -0.579070 -1.637682  0.884093  1.119910\n",
       "2 -0.312906 -1.069516 -0.169885 -1.920863  0.588557 -1.167565\n",
       "3  1.212692 -0.537054 -0.238083 -2.574358 -0.205694  1.119910\n",
       "4  1.133782  0.567311 -0.101687 -0.726634 -0.889120 -1.167565"
      ]
     },
     "execution_count": 38,
     "metadata": {},
     "output_type": "execute_result"
    }
   ],
   "source": [
    "#use of StandardScaler to remove the mean and scales of each feature to unit variance.\n",
    "from sklearn.preprocessing import StandardScaler\n",
    "sc=StandardScaler()\n",
    "scaled_df = pd.DataFrame(StandardScaler().fit_transform(df),columns = df.columns)\n",
    "scaled_df.head()"
   ]
  },
  {
   "cell_type": "code",
   "execution_count": 39,
   "metadata": {
    "id": "4r7R7SELKPh1"
   },
   "outputs": [],
   "source": [
    "#Selection of independent features ['TEM','DPT', 'WIS', 'HUM', 'SLP']] and dependent features\n",
    "X = df.drop('RAN', axis=1)\n",
    "Y = df['RAN']"
   ]
  },
  {
   "cell_type": "code",
   "execution_count": 40,
   "metadata": {
    "id": "p_naRhnNKXWI"
   },
   "outputs": [],
   "source": [
    "#I use model_selection.train_test_split from sklearn library to split the data into training and testing sets.\n",
    "#I set test_size=0.25 and random_state=216021. It means I split the existing dataset into 75% for data training, \n",
    "#and 25% for data test\n",
    "\n",
    "X_train, X_test, y_train, y_test= train_test_split(X,Y,test_size=0.25, random_state=216021)\n"
   ]
  },
  {
   "cell_type": "markdown",
   "metadata": {
    "id": "18mZI2rBpx8M"
   },
   "source": [
    "# **Applying Classification Modelling**\n",
    "Here, I will apply Logistic Regression, KNN Classification, Decesion Tree, Random Forest and Naive Bayes algorithm to classify the dependent feature.\n",
    "\n",
    "Following steps are involved in the model building\n",
    "\n",
    "*   Identifying optimal k value for KNN classifier.\n",
    "*   Identifying optimal number of features for logistic regression.\n",
    "*   Fitting data into classification models.\n",
    "*   Evaluating the performance of the models."
   ]
  },
  {
   "cell_type": "markdown",
   "metadata": {
    "id": "LB9a2tGNdw0n"
   },
   "source": [
    "**Optimal Value of K for KNN**"
   ]
  },
  {
   "cell_type": "code",
   "execution_count": 41,
   "metadata": {
    "colab": {
     "base_uri": "https://localhost:8080/",
     "height": 421
    },
    "id": "w_UN6g1Jd3zv",
    "outputId": "61ee4182-c123-485a-d815-a609785baf26"
   },
   "outputs": [
    {
     "name": "stdout",
     "output_type": "stream",
     "text": [
      "Minimum error:- 0.22023809523809523 at K = 15\n"
     ]
    },
    {
     "data": {
      "image/png": "[encoded data removed]",
      "text/plain": [
       "<Figure size 720x432 with 1 Axes>"
      ]
     },
     "metadata": {
      "needs_background": "light"
     },
     "output_type": "display_data"
    }
   ],
   "source": [
    "# Optimal Value of k and Accuracy Rate for Optimal k\n",
    "\n",
    "error_rate = []\n",
    "for i in range(1,40):\n",
    " knn = KNeighborsClassifier(n_neighbors=i)\n",
    " knn.fit(X_train,y_train)\n",
    " pred_i = knn.predict(X_test)\n",
    " error_rate.append(np.mean(pred_i != y_test))\n",
    "\n",
    "plt.figure(figsize=(10,6))\n",
    "plt.plot(range(1,40),error_rate,color='blue', linestyle='dashed', \n",
    "         marker='o',markerfacecolor='red', markersize=10)\n",
    "plt.title('Error Rate vs. K Value')\n",
    "plt.xlabel('K')\n",
    "plt.ylabel('Error Rate')\n",
    "print(\"Minimum error:-\",min(error_rate),\"at K =\",error_rate.index(min(error_rate)))"
   ]
  },
  {
   "cell_type": "markdown",
   "metadata": {
    "id": "M2aKgb9vjpeH"
   },
   "source": [
    "**Optimal number of features for logistic regression**"
   ]
  },
  {
   "cell_type": "code",
   "execution_count": 42,
   "metadata": {
    "colab": {
     "base_uri": "https://localhost:8080/",
     "height": 1000
    },
    "id": "3CpN25xsoaXp",
    "outputId": "9693c2f6-1f5f-4b7d-e29b-4796efbb047d"
   },
   "outputs": [
    {
     "name": "stderr",
     "output_type": "stream",
     "text": [
      "/usr/local/lib/python3.7/dist-packages/sklearn/linear_model/_logistic.py:818: ConvergenceWarning: lbfgs failed to converge (status=1):\n",
      "STOP: TOTAL NO. of ITERATIONS REACHED LIMIT.\n",
      "\n",
      "Increase the number of iterations (max_iter) or scale the data as shown in:\n",
      "    https://scikit-learn.org/stable/modules/preprocessing.html\n",
      "Please also refer to the documentation for alternative solver options:\n",
      "    https://scikit-learn.org/stable/modules/linear_model.html#logistic-regression\n",
      "  extra_warning_msg=_LOGISTIC_SOLVER_CONVERGENCE_MSG,\n",
      "/usr/local/lib/python3.7/dist-packages/sklearn/linear_model/_logistic.py:818: ConvergenceWarning: lbfgs failed to converge (status=1):\n",
      "STOP: TOTAL NO. of ITERATIONS REACHED LIMIT.\n",
      "\n",
      "Increase the number of iterations (max_iter) or scale the data as shown in:\n",
      "    https://scikit-learn.org/stable/modules/preprocessing.html\n",
      "Please also refer to the documentation for alternative solver options:\n",
      "    https://scikit-learn.org/stable/modules/linear_model.html#logistic-regression\n",
      "  extra_warning_msg=_LOGISTIC_SOLVER_CONVERGENCE_MSG,\n",
      "/usr/local/lib/python3.7/dist-packages/sklearn/linear_model/_logistic.py:818: ConvergenceWarning: lbfgs failed to converge (status=1):\n",
      "STOP: TOTAL NO. of ITERATIONS REACHED LIMIT.\n",
      "\n",
      "Increase the number of iterations (max_iter) or scale the data as shown in:\n",
      "    https://scikit-learn.org/stable/modules/preprocessing.html\n",
      "Please also refer to the documentation for alternative solver options:\n",
      "    https://scikit-learn.org/stable/modules/linear_model.html#logistic-regression\n",
      "  extra_warning_msg=_LOGISTIC_SOLVER_CONVERGENCE_MSG,\n",
      "/usr/local/lib/python3.7/dist-packages/sklearn/linear_model/_logistic.py:818: ConvergenceWarning: lbfgs failed to converge (status=1):\n",
      "STOP: TOTAL NO. of ITERATIONS REACHED LIMIT.\n",
      "\n",
      "Increase the number of iterations (max_iter) or scale the data as shown in:\n",
      "    https://scikit-learn.org/stable/modules/preprocessing.html\n",
      "Please also refer to the documentation for alternative solver options:\n",
      "    https://scikit-learn.org/stable/modules/linear_model.html#logistic-regression\n",
      "  extra_warning_msg=_LOGISTIC_SOLVER_CONVERGENCE_MSG,\n",
      "/usr/local/lib/python3.7/dist-packages/sklearn/linear_model/_logistic.py:818: ConvergenceWarning: lbfgs failed to converge (status=1):\n",
      "STOP: TOTAL NO. of ITERATIONS REACHED LIMIT.\n",
      "\n",
      "Increase the number of iterations (max_iter) or scale the data as shown in:\n",
      "    https://scikit-learn.org/stable/modules/preprocessing.html\n",
      "Please also refer to the documentation for alternative solver options:\n",
      "    https://scikit-learn.org/stable/modules/linear_model.html#logistic-regression\n",
      "  extra_warning_msg=_LOGISTIC_SOLVER_CONVERGENCE_MSG,\n",
      "/usr/local/lib/python3.7/dist-packages/sklearn/linear_model/_logistic.py:818: ConvergenceWarning: lbfgs failed to converge (status=1):\n",
      "STOP: TOTAL NO. of ITERATIONS REACHED LIMIT.\n",
      "\n",
      "Increase the number of iterations (max_iter) or scale the data as shown in:\n",
      "    https://scikit-learn.org/stable/modules/preprocessing.html\n",
      "Please also refer to the documentation for alternative solver options:\n",
      "    https://scikit-learn.org/stable/modules/linear_model.html#logistic-regression\n",
      "  extra_warning_msg=_LOGISTIC_SOLVER_CONVERGENCE_MSG,\n",
      "/usr/local/lib/python3.7/dist-packages/sklearn/linear_model/_logistic.py:818: ConvergenceWarning: lbfgs failed to converge (status=1):\n",
      "STOP: TOTAL NO. of ITERATIONS REACHED LIMIT.\n",
      "\n",
      "Increase the number of iterations (max_iter) or scale the data as shown in:\n",
      "    https://scikit-learn.org/stable/modules/preprocessing.html\n",
      "Please also refer to the documentation for alternative solver options:\n",
      "    https://scikit-learn.org/stable/modules/linear_model.html#logistic-regression\n",
      "  extra_warning_msg=_LOGISTIC_SOLVER_CONVERGENCE_MSG,\n",
      "/usr/local/lib/python3.7/dist-packages/sklearn/linear_model/_logistic.py:818: ConvergenceWarning: lbfgs failed to converge (status=1):\n",
      "STOP: TOTAL NO. of ITERATIONS REACHED LIMIT.\n",
      "\n",
      "Increase the number of iterations (max_iter) or scale the data as shown in:\n",
      "    https://scikit-learn.org/stable/modules/preprocessing.html\n",
      "Please also refer to the documentation for alternative solver options:\n",
      "    https://scikit-learn.org/stable/modules/linear_model.html#logistic-regression\n",
      "  extra_warning_msg=_LOGISTIC_SOLVER_CONVERGENCE_MSG,\n",
      "/usr/local/lib/python3.7/dist-packages/sklearn/linear_model/_logistic.py:818: ConvergenceWarning: lbfgs failed to converge (status=1):\n",
      "STOP: TOTAL NO. of ITERATIONS REACHED LIMIT.\n",
      "\n",
      "Increase the number of iterations (max_iter) or scale the data as shown in:\n",
      "    https://scikit-learn.org/stable/modules/preprocessing.html\n",
      "Please also refer to the documentation for alternative solver options:\n",
      "    https://scikit-learn.org/stable/modules/linear_model.html#logistic-regression\n",
      "  extra_warning_msg=_LOGISTIC_SOLVER_CONVERGENCE_MSG,\n",
      "/usr/local/lib/python3.7/dist-packages/sklearn/linear_model/_logistic.py:818: ConvergenceWarning: lbfgs failed to converge (status=1):\n",
      "STOP: TOTAL NO. of ITERATIONS REACHED LIMIT.\n",
      "\n",
      "Increase the number of iterations (max_iter) or scale the data as shown in:\n",
      "    https://scikit-learn.org/stable/modules/preprocessing.html\n",
      "Please also refer to the documentation for alternative solver options:\n",
      "    https://scikit-learn.org/stable/modules/linear_model.html#logistic-regression\n",
      "  extra_warning_msg=_LOGISTIC_SOLVER_CONVERGENCE_MSG,\n",
      "/usr/local/lib/python3.7/dist-packages/sklearn/linear_model/_logistic.py:818: ConvergenceWarning: lbfgs failed to converge (status=1):\n",
      "STOP: TOTAL NO. of ITERATIONS REACHED LIMIT.\n",
      "\n",
      "Increase the number of iterations (max_iter) or scale the data as shown in:\n",
      "    https://scikit-learn.org/stable/modules/preprocessing.html\n",
      "Please also refer to the documentation for alternative solver options:\n",
      "    https://scikit-learn.org/stable/modules/linear_model.html#logistic-regression\n",
      "  extra_warning_msg=_LOGISTIC_SOLVER_CONVERGENCE_MSG,\n",
      "/usr/local/lib/python3.7/dist-packages/sklearn/linear_model/_logistic.py:818: ConvergenceWarning: lbfgs failed to converge (status=1):\n",
      "STOP: TOTAL NO. of ITERATIONS REACHED LIMIT.\n",
      "\n",
      "Increase the number of iterations (max_iter) or scale the data as shown in:\n",
      "    https://scikit-learn.org/stable/modules/preprocessing.html\n",
      "Please also refer to the documentation for alternative solver options:\n",
      "    https://scikit-learn.org/stable/modules/linear_model.html#logistic-regression\n",
      "  extra_warning_msg=_LOGISTIC_SOLVER_CONVERGENCE_MSG,\n",
      "/usr/local/lib/python3.7/dist-packages/sklearn/linear_model/_logistic.py:818: ConvergenceWarning: lbfgs failed to converge (status=1):\n",
      "STOP: TOTAL NO. of ITERATIONS REACHED LIMIT.\n",
      "\n",
      "Increase the number of iterations (max_iter) or scale the data as shown in:\n",
      "    https://scikit-learn.org/stable/modules/preprocessing.html\n",
      "Please also refer to the documentation for alternative solver options:\n",
      "    https://scikit-learn.org/stable/modules/linear_model.html#logistic-regression\n",
      "  extra_warning_msg=_LOGISTIC_SOLVER_CONVERGENCE_MSG,\n",
      "/usr/local/lib/python3.7/dist-packages/sklearn/linear_model/_logistic.py:818: ConvergenceWarning: lbfgs failed to converge (status=1):\n",
      "STOP: TOTAL NO. of ITERATIONS REACHED LIMIT.\n",
      "\n",
      "Increase the number of iterations (max_iter) or scale the data as shown in:\n",
      "    https://scikit-learn.org/stable/modules/preprocessing.html\n",
      "Please also refer to the documentation for alternative solver options:\n",
      "    https://scikit-learn.org/stable/modules/linear_model.html#logistic-regression\n",
      "  extra_warning_msg=_LOGISTIC_SOLVER_CONVERGENCE_MSG,\n",
      "/usr/local/lib/python3.7/dist-packages/sklearn/linear_model/_logistic.py:818: ConvergenceWarning: lbfgs failed to converge (status=1):\n",
      "STOP: TOTAL NO. of ITERATIONS REACHED LIMIT.\n",
      "\n",
      "Increase the number of iterations (max_iter) or scale the data as shown in:\n",
      "    https://scikit-learn.org/stable/modules/preprocessing.html\n",
      "Please also refer to the documentation for alternative solver options:\n",
      "    https://scikit-learn.org/stable/modules/linear_model.html#logistic-regression\n",
      "  extra_warning_msg=_LOGISTIC_SOLVER_CONVERGENCE_MSG,\n",
      "/usr/local/lib/python3.7/dist-packages/sklearn/linear_model/_logistic.py:818: ConvergenceWarning: lbfgs failed to converge (status=1):\n",
      "STOP: TOTAL NO. of ITERATIONS REACHED LIMIT.\n",
      "\n",
      "Increase the number of iterations (max_iter) or scale the data as shown in:\n",
      "    https://scikit-learn.org/stable/modules/preprocessing.html\n",
      "Please also refer to the documentation for alternative solver options:\n",
      "    https://scikit-learn.org/stable/modules/linear_model.html#logistic-regression\n",
      "  extra_warning_msg=_LOGISTIC_SOLVER_CONVERGENCE_MSG,\n",
      "/usr/local/lib/python3.7/dist-packages/sklearn/linear_model/_logistic.py:818: ConvergenceWarning: lbfgs failed to converge (status=1):\n",
      "STOP: TOTAL NO. of ITERATIONS REACHED LIMIT.\n",
      "\n",
      "Increase the number of iterations (max_iter) or scale the data as shown in:\n",
      "    https://scikit-learn.org/stable/modules/preprocessing.html\n",
      "Please also refer to the documentation for alternative solver options:\n",
      "    https://scikit-learn.org/stable/modules/linear_model.html#logistic-regression\n",
      "  extra_warning_msg=_LOGISTIC_SOLVER_CONVERGENCE_MSG,\n",
      "/usr/local/lib/python3.7/dist-packages/sklearn/utils/deprecation.py:103: FutureWarning: The `grid_scores_` attribute is deprecated in version 1.0 in favor of `cv_results_` and will be removed in version 1.2.\n",
      "  warnings.warn(msg, category=FutureWarning)\n"
     ]
    },
    {
     "name": "stdout",
     "output_type": "stream",
     "text": [
      "Optimal number of features : 4\n"
     ]
    },
    {
     "data": {
      "image/png": "[encoded data removed]",
      "text/plain": [
       "<Figure size 432x288 with 1 Axes>"
      ]
     },
     "metadata": {
      "needs_background": "light"
     },
     "output_type": "display_data"
    }
   ],
   "source": [
    "from sklearn.feature_selection import RFECV\n",
    "log=LogisticRegression(random_state=7)\n",
    "\n",
    "min_features_to_select=1\n",
    "rfecv=RFECV(estimator=log,step=1,cv=5,scoring=\"accuracy\",min_features_to_select=min_features_to_select)\n",
    "rfecv.fit(X_train,y_train)\n",
    "\n",
    "print(\"Optimal number of features : %d\" % rfecv.n_features_)\n",
    "\n",
    "plt.figure()\n",
    "plt.xlabel(\"Number of features selected\")\n",
    "plt.ylabel(\"Cross validation score (nb of correct classifications)\")\n",
    "plt.plot(range(min_features_to_select,\n",
    "               len(rfecv.grid_scores_)+min_features_to_select),\n",
    "         rfecv.grid_scores_)\n",
    "plt.show()"
   ]
  },
  {
   "cell_type": "code",
   "execution_count": 43,
   "metadata": {
    "colab": {
     "base_uri": "https://localhost:8080/",
     "height": 206
    },
    "id": "MJtKdNsnt2k9",
    "outputId": "aa69ecb3-ff21-4831-954b-5be45bb875c6"
   },
   "outputs": [
    {
     "data": {
      "text/html": [
       "\n",
       "  <div id=\"df-f1c1c4b0-875d-4bf4-b806-06c983668a11\">\n",
       "    <div class=\"colab-df-container\">\n",
       "      <div>\n",
       "<style scoped>\n",
       "    .dataframe tbody tr th:only-of-type {\n",
       "        vertical-align: middle;\n",
       "    }\n",
       "\n",
       "    .dataframe tbody tr th {\n",
       "        vertical-align: top;\n",
       "    }\n",
       "\n",
       "    .dataframe thead th {\n",
       "        text-align: right;\n",
       "    }\n",
       "</style>\n",
       "<table border=\"1\" class=\"dataframe\">\n",
       "  <thead>\n",
       "    <tr style=\"text-align: right;\">\n",
       "      <th></th>\n",
       "      <th>Feature</th>\n",
       "      <th>Support</th>\n",
       "      <th>Ranking</th>\n",
       "    </tr>\n",
       "  </thead>\n",
       "  <tbody>\n",
       "    <tr>\n",
       "      <th>4</th>\n",
       "      <td>SLP</td>\n",
       "      <td>False</td>\n",
       "      <td>2</td>\n",
       "    </tr>\n",
       "    <tr>\n",
       "      <th>0</th>\n",
       "      <td>TEM</td>\n",
       "      <td>True</td>\n",
       "      <td>1</td>\n",
       "    </tr>\n",
       "    <tr>\n",
       "      <th>1</th>\n",
       "      <td>DPT</td>\n",
       "      <td>True</td>\n",
       "      <td>1</td>\n",
       "    </tr>\n",
       "    <tr>\n",
       "      <th>2</th>\n",
       "      <td>WIS</td>\n",
       "      <td>True</td>\n",
       "      <td>1</td>\n",
       "    </tr>\n",
       "    <tr>\n",
       "      <th>3</th>\n",
       "      <td>HUM</td>\n",
       "      <td>True</td>\n",
       "      <td>1</td>\n",
       "    </tr>\n",
       "  </tbody>\n",
       "</table>\n",
       "</div>\n",
       "      <button class=\"colab-df-convert\" onclick=\"convertToInteractive('df-f1c1c4b0-875d-4bf4-b806-06c983668a11')\"\n",
       "              title=\"Convert this dataframe to an interactive table.\"\n",
       "              style=\"display:none;\">\n",
       "        \n",
       "  <svg xmlns=\"http://www.w3.org/2000/svg\" height=\"24px\"viewBox=\"0 0 24 24\"\n",
       "       width=\"24px\">\n",
       "    <path d=\"M0 0h24v24H0V0z\" fill=\"none\"/>\n",
       "    <path d=\"M18.56 5.44l.94 2.06.94-2.06 2.06-.94-2.06-.94-.94-2.06-.94 2.06-2.06.94zm-11 1L8.5 8.5l.94-2.06 2.06-.94-2.06-.94L8.5 2.5l-.94 2.06-2.06.94zm10 10l.94 2.06.94-2.06 2.06-.94-2.06-.94-.94-2.06-.94 2.06-2.06.94z\"/><path d=\"M17.41 7.96l-1.37-1.37c-.4-.4-.92-.59-1.43-.59-.52 0-1.04.2-1.43.59L10.3 9.45l-7.72 7.72c-.78.78-.78 2.05 0 2.83L4 21.41c.39.39.9.59 1.41.59.51 0 1.02-.2 1.41-.59l7.78-7.78 2.81-2.81c.8-.78.8-2.07 0-2.86zM5.41 20L4 18.59l7.72-7.72 1.47 1.35L5.41 20z\"/>\n",
       "  </svg>\n",
       "      </button>\n",
       "      \n",
       "  <style>\n",
       "    .colab-df-container {\n",
       "      display:flex;\n",
       "      flex-wrap:wrap;\n",
       "      gap: 12px;\n",
       "    }\n",
       "\n",
       "    .colab-df-convert {\n",
       "      background-color: #E8F0FE;\n",
       "      border: none;\n",
       "      border-radius: 50%;\n",
       "      cursor: pointer;\n",
       "      display: none;\n",
       "      fill: #1967D2;\n",
       "      height: 32px;\n",
       "      padding: 0 0 0 0;\n",
       "      width: 32px;\n",
       "    }\n",
       "\n",
       "    .colab-df-convert:hover {\n",
       "      background-color: #E2EBFA;\n",
       "      box-shadow: 0px 1px 2px rgba(60, 64, 67, 0.3), 0px 1px 3px 1px rgba(60, 64, 67, 0.15);\n",
       "      fill: #174EA6;\n",
       "    }\n",
       "\n",
       "    [theme=dark] .colab-df-convert {\n",
       "      background-color: #3B4455;\n",
       "      fill: #D2E3FC;\n",
       "    }\n",
       "\n",
       "    [theme=dark] .colab-df-convert:hover {\n",
       "      background-color: #434B5C;\n",
       "      box-shadow: 0px 1px 3px 1px rgba(0, 0, 0, 0.15);\n",
       "      filter: drop-shadow(0px 1px 2px rgba(0, 0, 0, 0.3));\n",
       "      fill: #FFFFFF;\n",
       "    }\n",
       "  </style>\n",
       "\n",
       "      <script>\n",
       "        const buttonEl =\n",
       "          document.querySelector('#df-f1c1c4b0-875d-4bf4-b806-06c983668a11 button.colab-df-convert');\n",
       "        buttonEl.style.display =\n",
       "          google.colab.kernel.accessAllowed ? 'block' : 'none';\n",
       "\n",
       "        async function convertToInteractive(key) {\n",
       "          const element = document.querySelector('#df-f1c1c4b0-875d-4bf4-b806-06c983668a11');\n",
       "          const dataTable =\n",
       "            await google.colab.kernel.invokeFunction('convertToInteractive',\n",
       "                                                     [key], {});\n",
       "          if (!dataTable) return;\n",
       "\n",
       "          const docLinkHtml = 'Like what you see? Visit the ' +\n",
       "            '<a target=\"_blank\" href=https://colab.research.google.com/notebooks/data_table.ipynb>data table notebook</a>'\n",
       "            + ' to learn more about interactive tables.';\n",
       "          element.innerHTML = '';\n",
       "          dataTable['output_type'] = 'display_data';\n",
       "          await google.colab.output.renderOutput(dataTable, element);\n",
       "          const docLink = document.createElement('div');\n",
       "          docLink.innerHTML = docLinkHtml;\n",
       "          element.appendChild(docLink);\n",
       "        }\n",
       "      </script>\n",
       "    </div>\n",
       "  </div>\n",
       "  "
      ],
      "text/plain": [
       "  Feature  Support  Ranking\n",
       "4     SLP    False        2\n",
       "0     TEM     True        1\n",
       "1     DPT     True        1\n",
       "2     WIS     True        1\n",
       "3     HUM     True        1"
      ]
     },
     "execution_count": 43,
     "metadata": {},
     "output_type": "execute_result"
    }
   ],
   "source": [
    "rfetable=pd.DataFrame({\"Feature\":X_train.columns,\"Support\":rfecv.support_,\"Ranking\":rfecv.ranking_,}).sort_values(by=\"Ranking\",ascending=False)\n",
    "rfetable"
   ]
  },
  {
   "cell_type": "markdown",
   "metadata": {
    "id": "NQDQdMDxug3r"
   },
   "source": [
    "\n",
    "Recurssive feature elimination suggests we can remove some columns to the optimal amount of 4. But we will not do that for further analysis."
   ]
  },
  {
   "cell_type": "markdown",
   "metadata": {
    "id": "TAjpQH43j9x-"
   },
   "source": [
    "# **Training the classification models**"
   ]
  },
  {
   "cell_type": "code",
   "execution_count": 44,
   "metadata": {
    "colab": {
     "base_uri": "https://localhost:8080/"
    },
    "id": "zQKF5mzkpwYG",
    "outputId": "8162249c-d1c3-451a-9310-074b2e24b389"
   },
   "outputs": [
    {
     "name": "stderr",
     "output_type": "stream",
     "text": [
      "/usr/local/lib/python3.7/dist-packages/sklearn/linear_model/_logistic.py:818: ConvergenceWarning: lbfgs failed to converge (status=1):\n",
      "STOP: TOTAL NO. of ITERATIONS REACHED LIMIT.\n",
      "\n",
      "Increase the number of iterations (max_iter) or scale the data as shown in:\n",
      "    https://scikit-learn.org/stable/modules/preprocessing.html\n",
      "Please also refer to the documentation for alternative solver options:\n",
      "    https://scikit-learn.org/stable/modules/linear_model.html#logistic-regression\n",
      "  extra_warning_msg=_LOGISTIC_SOLVER_CONVERGENCE_MSG,\n"
     ]
    },
    {
     "data": {
      "text/plain": [
       "GaussianNB()"
      ]
     },
     "execution_count": 44,
     "metadata": {},
     "output_type": "execute_result"
    }
   ],
   "source": [
    "#Appling Logistic Regression model on the training set\n",
    "from sklearn.linear_model import LogisticRegression\n",
    "logistic_reg = LogisticRegression()\n",
    "logistic_reg.fit(X_train, y_train)\n",
    "\n",
    "#Appling KNeighbors classifier model on the training set\n",
    "\n",
    "from sklearn.neighbors import KNeighborsClassifier\n",
    "knn_cls = KNeighborsClassifier(n_neighbors=15)\n",
    "knn_cls.fit(X_train, y_train)\n",
    "\n",
    "#Appling Decision Tree classifier model on the training set\n",
    "\n",
    "from sklearn.tree import DecisionTreeClassifier \n",
    "dec_tree_cls=DecisionTreeClassifier(random_state = 0) \n",
    "dec_tree_cls.fit(X_train,y_train)\n",
    "\n",
    "#Appling Random Forest Regressor model on the training set\n",
    "\n",
    "from sklearn.ensemble import RandomForestClassifier\n",
    "random_forest_cls = RandomForestClassifier()\n",
    "random_forest_cls.fit(X_train, y_train)\n",
    "\n",
    "#Appling Naive Bayes classifier model on the training set\n",
    "\n",
    "from sklearn.naive_bayes import GaussianNB  \n",
    "naive_bayes_cls = GaussianNB()\n",
    "naive_bayes_cls.fit(X_train, y_train)\n"
   ]
  },
  {
   "cell_type": "markdown",
   "metadata": {
    "id": "8kFWFjwGqU0z"
   },
   "source": [
    "# **Evaluating the models**"
   ]
  },
  {
   "cell_type": "code",
   "execution_count": 45,
   "metadata": {
    "id": "y7X4z5XxqXZC"
   },
   "outputs": [],
   "source": [
    "from sklearn.metrics import mean_squared_error, f1_score\n",
    "def rmse_score(model, X_train, X_test, y_train, y_test):\n",
    "    mse_train = mean_squared_error(y_true = y_train,\n",
    "                                  y_pred = model.predict(X_train))\n",
    "    mse_test = mean_squared_error(y_true = y_test,\n",
    "                                  y_pred = model.predict(X_test))\n",
    "    rmse_train = mse_train ** 0.5\n",
    "    rmse_test = mse_test ** 0.5\n",
    "    \n",
    "    print(\"The training RMSE for \" + str(model) + \" is: \" + str(rmse_train))\n",
    "    print(\"The testing RMSE for \" + str(model) + \" is: \" + str(rmse_test))\n",
    "    return (rmse_train, rmse_test)"
   ]
  },
  {
   "cell_type": "code",
   "execution_count": 46,
   "metadata": {
    "id": "end1qW0SvufD"
   },
   "outputs": [],
   "source": [
    "def cm(predictions):\n",
    "    cm_matrix=pd.DataFrame(data=confusion_matrix(y_test,predictions),columns=['LTR', 'MHR', 'NRT'],index=['LTR', 'MHR', 'NRT'])\n",
    "    sns.heatmap(cm_matrix,annot=True,square=True,fmt=\"d\",cmap=\"Purples\",linecolor=\"w\",linewidth=2)\n",
    "    plt.xlabel(\"Predicted\")\n",
    "    plt.ylabel(\"Actual\")\n",
    "    plt.yticks(va=\"center\")"
   ]
  },
  {
   "cell_type": "markdown",
   "metadata": {
    "id": "ECIZ0_26qmg8"
   },
   "source": [
    "**Logistic Regression**"
   ]
  },
  {
   "cell_type": "code",
   "execution_count": 47,
   "metadata": {
    "colab": {
     "base_uri": "https://localhost:8080/"
    },
    "id": "BgHRJPOvqd02",
    "outputId": "938205ca-c5cd-48fe-87db-5261b72ce8ba"
   },
   "outputs": [
    {
     "name": "stdout",
     "output_type": "stream",
     "text": [
      "The training RMSE for LogisticRegression() is: 0.7453559924999299\n",
      "The testing RMSE for LogisticRegression() is: 0.7791937224739796\n"
     ]
    }
   ],
   "source": [
    "x1,y1 = rmse_score(logistic_reg, X_train, X_test, y_train, y_test)"
   ]
  },
  {
   "cell_type": "code",
   "execution_count": 48,
   "metadata": {
    "colab": {
     "base_uri": "https://localhost:8080/"
    },
    "id": "NjwZk6IKy1oo",
    "outputId": "47b9d7dc-6c9f-461e-fdc7-5dcf06cade29"
   },
   "outputs": [
    {
     "name": "stdout",
     "output_type": "stream",
     "text": [
      "              precision    recall  f1-score   support\n",
      "\n",
      "           0       0.67      0.53      0.59        60\n",
      "           1       0.62      0.82      0.70        38\n",
      "           2       0.86      0.86      0.86        70\n",
      "\n",
      "    accuracy                           0.73       168\n",
      "   macro avg       0.71      0.74      0.72       168\n",
      "weighted avg       0.74      0.73      0.73       168\n",
      "\n"
     ]
    }
   ],
   "source": [
    "y_predict=logistic_reg.predict(X_test)\n",
    "print(classification_report(y_test,y_predict))"
   ]
  },
  {
   "cell_type": "code",
   "execution_count": 49,
   "metadata": {
    "colab": {
     "base_uri": "https://localhost:8080/",
     "height": 283
    },
    "id": "5O1HnkKc2rsV",
    "outputId": "be335a23-f2f0-407e-cf84-0e1e4f6304b5"
   },
   "outputs": [
    {
     "data": {
      "image/png": "[encoded data removed]",
      "text/plain": [
       "<Figure size 432x288 with 2 Axes>"
      ]
     },
     "metadata": {
      "needs_background": "light"
     },
     "output_type": "display_data"
    }
   ],
   "source": [
    "cm_log=cm(y_predict)\n",
    "cm_log"
   ]
  },
  {
   "cell_type": "code",
   "execution_count": 50,
   "metadata": {
    "colab": {
     "base_uri": "https://localhost:8080/"
    },
    "id": "jo_aPsUi46Kx",
    "outputId": "21a2fe04-60a3-49ef-fab5-6fd0956f9966"
   },
   "outputs": [
    {
     "name": "stdout",
     "output_type": "stream",
     "text": [
      "Training set Accuracy score: 0.7540.\n",
      "Testing set Accuracy score: 0.7321.\n"
     ]
    }
   ],
   "source": [
    "print(\"Training set Accuracy score: {num:.4f}.\".format(num=logistic_reg.score(X_train,y_train)))\n",
    "print(\"Testing set Accuracy score: {num:.4f}.\".format(num=logistic_reg.score(X_test,y_test)))"
   ]
  },
  {
   "cell_type": "markdown",
   "metadata": {
    "id": "TsH1j2-zq7Df"
   },
   "source": [
    "**KNN Classifier**"
   ]
  },
  {
   "cell_type": "code",
   "execution_count": 51,
   "metadata": {
    "colab": {
     "base_uri": "https://localhost:8080/"
    },
    "id": "Mt3Tl6lAq_hG",
    "outputId": "dd6eb408-4ac7-48dc-da68-89aceccf071d"
   },
   "outputs": [
    {
     "name": "stdout",
     "output_type": "stream",
     "text": [
      "The training RMSE for KNeighborsClassifier(n_neighbors=15) is: 0.8054871344779654\n",
      "The testing RMSE for KNeighborsClassifier(n_neighbors=15) is: 0.7196229171289245\n"
     ]
    }
   ],
   "source": [
    "x2,y2= rmse_score(knn_cls, X_train, X_test, y_train, y_test)"
   ]
  },
  {
   "cell_type": "code",
   "execution_count": 52,
   "metadata": {
    "colab": {
     "base_uri": "https://localhost:8080/"
    },
    "id": "c5YWaRyd3294",
    "outputId": "05610e41-d2ba-4d33-c076-8cd18330c8d4"
   },
   "outputs": [
    {
     "name": "stdout",
     "output_type": "stream",
     "text": [
      "              precision    recall  f1-score   support\n",
      "\n",
      "           0       0.72      0.60      0.65        60\n",
      "           1       0.67      0.76      0.72        38\n",
      "           2       0.85      0.91      0.88        70\n",
      "\n",
      "    accuracy                           0.77       168\n",
      "   macro avg       0.75      0.76      0.75       168\n",
      "weighted avg       0.77      0.77      0.76       168\n",
      "\n"
     ]
    }
   ],
   "source": [
    "y_predict=knn_cls.predict(X_test)\n",
    "print(classification_report(y_test,y_predict))"
   ]
  },
  {
   "cell_type": "code",
   "execution_count": 53,
   "metadata": {
    "colab": {
     "base_uri": "https://localhost:8080/",
     "height": 279
    },
    "id": "MFevICop4HY4",
    "outputId": "26f70a36-2d29-4079-aabf-754da66233e0"
   },
   "outputs": [
    {
     "data": {
      "image/png": "[encoded data removed]",
      "text/plain": [
       "<Figure size 432x288 with 2 Axes>"
      ]
     },
     "metadata": {
      "needs_background": "light"
     },
     "output_type": "display_data"
    }
   ],
   "source": [
    "cm_knn=cm(y_predict)\n",
    "cm_knn"
   ]
  },
  {
   "cell_type": "code",
   "execution_count": 54,
   "metadata": {
    "colab": {
     "base_uri": "https://localhost:8080/"
    },
    "id": "09CnB8uh49Je",
    "outputId": "d160c551-7ca6-4b50-8a72-3279135b1d2c"
   },
   "outputs": [
    {
     "name": "stdout",
     "output_type": "stream",
     "text": [
      "Training set Accuracy score: 0.7262.\n",
      "Testing set Accuracy score: 0.7679.\n"
     ]
    }
   ],
   "source": [
    "print(\"Training set Accuracy score: {num:.4f}.\".format(num=knn_cls.score(X_train,y_train)))\n",
    "print(\"Testing set Accuracy score: {num:.4f}.\".format(num=knn_cls.score(X_test,y_test)))"
   ]
  },
  {
   "cell_type": "markdown",
   "metadata": {
    "id": "JB6dvCt3rDH2"
   },
   "source": [
    "**Decision Tree Classifier**"
   ]
  },
  {
   "cell_type": "code",
   "execution_count": 55,
   "metadata": {
    "colab": {
     "base_uri": "https://localhost:8080/"
    },
    "id": "X82yj-kzrJ-a",
    "outputId": "de4564fd-f1f3-42e5-f4a9-c31389389b02"
   },
   "outputs": [
    {
     "name": "stdout",
     "output_type": "stream",
     "text": [
      "The training RMSE for DecisionTreeClassifier(random_state=0) is: 0.0\n",
      "The testing RMSE for DecisionTreeClassifier(random_state=0) is: 0.9940297973880049\n"
     ]
    }
   ],
   "source": [
    "x3,y3= rmse_score(dec_tree_cls, X_train, X_test, y_train, y_test)"
   ]
  },
  {
   "cell_type": "code",
   "execution_count": 56,
   "metadata": {
    "colab": {
     "base_uri": "https://localhost:8080/"
    },
    "id": "t9fDqZCV37Kz",
    "outputId": "6f74d9d6-016b-4be8-ecb5-11a804a7dc31"
   },
   "outputs": [
    {
     "name": "stdout",
     "output_type": "stream",
     "text": [
      "              precision    recall  f1-score   support\n",
      "\n",
      "           0       0.44      0.47      0.46        60\n",
      "           1       0.50      0.50      0.50        38\n",
      "           2       0.76      0.73      0.74        70\n",
      "\n",
      "    accuracy                           0.58       168\n",
      "   macro avg       0.57      0.57      0.57       168\n",
      "weighted avg       0.59      0.58      0.59       168\n",
      "\n"
     ]
    }
   ],
   "source": [
    "y_predict=dec_tree_cls.predict(X_test)\n",
    "print(classification_report(y_test,y_predict))"
   ]
  },
  {
   "cell_type": "code",
   "execution_count": 57,
   "metadata": {
    "colab": {
     "base_uri": "https://localhost:8080/",
     "height": 279
    },
    "id": "1tRPQaIx4dEE",
    "outputId": "d38256c7-5fd8-47d8-9bfd-53de75d3738a"
   },
   "outputs": [
    {
     "data": {
      "image/png": "[encoded data removed]",
      "text/plain": [
       "<Figure size 432x288 with 2 Axes>"
      ]
     },
     "metadata": {
      "needs_background": "light"
     },
     "output_type": "display_data"
    }
   ],
   "source": [
    "cm_dt=cm(y_predict)\n",
    "cm_dt"
   ]
  },
  {
   "cell_type": "code",
   "execution_count": 58,
   "metadata": {
    "colab": {
     "base_uri": "https://localhost:8080/"
    },
    "id": "5C_oTQX74_AL",
    "outputId": "1bd873af-de46-4f5c-dc01-a26132dfb121"
   },
   "outputs": [
    {
     "name": "stdout",
     "output_type": "stream",
     "text": [
      "Training set Accuracy score: 1.0000.\n",
      "Testing set Accuracy score: 0.5833.\n"
     ]
    }
   ],
   "source": [
    "print(\"Training set Accuracy score: {num:.4f}.\".format(num=dec_tree_cls.score(X_train,y_train)))\n",
    "print(\"Testing set Accuracy score: {num:.4f}.\".format(num=dec_tree_cls.score(X_test,y_test)))"
   ]
  },
  {
   "cell_type": "markdown",
   "metadata": {
    "id": "Y0YVEFg0rO_f"
   },
   "source": [
    "**Random Forest Classifier**"
   ]
  },
  {
   "cell_type": "code",
   "execution_count": 59,
   "metadata": {
    "colab": {
     "base_uri": "https://localhost:8080/"
    },
    "id": "kc7dwEALr4DP",
    "outputId": "39c321d2-26d3-4c36-82e1-60ef5cf48eff"
   },
   "outputs": [
    {
     "name": "stdout",
     "output_type": "stream",
     "text": [
      "The training RMSE for RandomForestClassifier() is: 0.0\n",
      "The testing RMSE for RandomForestClassifier() is: 0.8273595406616217\n"
     ]
    }
   ],
   "source": [
    "x4, y4= rmse_score(random_forest_cls, X_train, X_test, y_train, y_test)\n"
   ]
  },
  {
   "cell_type": "code",
   "execution_count": 60,
   "metadata": {
    "colab": {
     "base_uri": "https://localhost:8080/"
    },
    "id": "qwvzLBH838zu",
    "outputId": "4ec33bdc-f7f5-4383-f12b-207ab7fa64c7"
   },
   "outputs": [
    {
     "name": "stdout",
     "output_type": "stream",
     "text": [
      "              precision    recall  f1-score   support\n",
      "\n",
      "           0       0.61      0.55      0.58        60\n",
      "           1       0.63      0.71      0.67        38\n",
      "           2       0.83      0.84      0.84        70\n",
      "\n",
      "    accuracy                           0.71       168\n",
      "   macro avg       0.69      0.70      0.69       168\n",
      "weighted avg       0.71      0.71      0.71       168\n",
      "\n"
     ]
    }
   ],
   "source": [
    "y_predict=random_forest_cls.predict(X_test)\n",
    "print(classification_report(y_test,y_predict))"
   ]
  },
  {
   "cell_type": "code",
   "execution_count": 61,
   "metadata": {
    "colab": {
     "base_uri": "https://localhost:8080/",
     "height": 279
    },
    "id": "SzL4n1Ic4hSJ",
    "outputId": "16d73279-d501-4aea-e2e7-b3f4630a08a1"
   },
   "outputs": [
    {
     "data": {
      "image/png": "[encoded data removed]",
      "text/plain": [
       "<Figure size 432x288 with 2 Axes>"
      ]
     },
     "metadata": {
      "needs_background": "light"
     },
     "output_type": "display_data"
    }
   ],
   "source": [
    "cm_rm=cm(y_predict)\n",
    "cm_rm"
   ]
  },
  {
   "cell_type": "code",
   "execution_count": 62,
   "metadata": {
    "colab": {
     "base_uri": "https://localhost:8080/"
    },
    "id": "5QGiWVne5BE6",
    "outputId": "5c62b8ad-7165-4af8-baa7-e99678da081a"
   },
   "outputs": [
    {
     "name": "stdout",
     "output_type": "stream",
     "text": [
      "Training set Accuracy score: 1.0000.\n",
      "Testing set Accuracy score: 0.7083.\n"
     ]
    }
   ],
   "source": [
    "print(\"Training set Accuracy score: {num:.4f}.\".format(num=random_forest_cls.score(X_train,y_train)))\n",
    "print(\"Testing set Accuracy score: {num:.4f}.\".format(num=random_forest_cls.score(X_test,y_test)))"
   ]
  },
  {
   "cell_type": "markdown",
   "metadata": {
    "id": "GUs4YtH02vFw"
   },
   "source": [
    "**Naive Bayes classifier**"
   ]
  },
  {
   "cell_type": "code",
   "execution_count": 63,
   "metadata": {
    "colab": {
     "base_uri": "https://localhost:8080/"
    },
    "id": "d8QNYeNQ20lo",
    "outputId": "b8c107e9-037f-4f70-9120-9b6cb98520f6"
   },
   "outputs": [
    {
     "name": "stdout",
     "output_type": "stream",
     "text": [
      "The training RMSE for GaussianNB() is: 0.8321420055857759\n",
      "The testing RMSE for GaussianNB() is: 0.8694552207862006\n"
     ]
    }
   ],
   "source": [
    "x5, y5= rmse_score(naive_bayes_cls, X_train, X_test, y_train, y_test)\n"
   ]
  },
  {
   "cell_type": "code",
   "execution_count": 64,
   "metadata": {
    "colab": {
     "base_uri": "https://localhost:8080/"
    },
    "id": "MoX6WdFG3-cH",
    "outputId": "395c2480-a769-44b8-cdf4-7b4e1e985ea0"
   },
   "outputs": [
    {
     "name": "stdout",
     "output_type": "stream",
     "text": [
      "              precision    recall  f1-score   support\n",
      "\n",
      "           0       0.57      0.38      0.46        60\n",
      "           1       0.56      0.92      0.69        38\n",
      "           2       0.85      0.79      0.81        70\n",
      "\n",
      "    accuracy                           0.67       168\n",
      "   macro avg       0.66      0.70      0.66       168\n",
      "weighted avg       0.68      0.67      0.66       168\n",
      "\n"
     ]
    }
   ],
   "source": [
    "y_predict=naive_bayes_cls.predict(X_test)\n",
    "print(classification_report(y_test,y_predict))"
   ]
  },
  {
   "cell_type": "code",
   "execution_count": 65,
   "metadata": {
    "colab": {
     "base_uri": "https://localhost:8080/",
     "height": 279
    },
    "id": "q4sLrxY34k0t",
    "outputId": "116f8426-c86b-41d4-fa24-bbbfba2b3a87"
   },
   "outputs": [
    {
     "data": {
      "image/png": "[encoded data removed]",
      "text/plain": [
       "<Figure size 432x288 with 2 Axes>"
      ]
     },
     "metadata": {
      "needs_background": "light"
     },
     "output_type": "display_data"
    }
   ],
   "source": [
    "cm_bayes=cm(y_predict)\n",
    "cm_bayes"
   ]
  },
  {
   "cell_type": "code",
   "execution_count": 66,
   "metadata": {
    "colab": {
     "base_uri": "https://localhost:8080/"
    },
    "id": "hmJbRK0q5DEq",
    "outputId": "35e9a0c4-87d4-4a78-8a77-2dea0afcacf8"
   },
   "outputs": [
    {
     "name": "stdout",
     "output_type": "stream",
     "text": [
      "Training set Accuracy score: 0.6766.\n",
      "Testing set Accuracy score: 0.6726.\n"
     ]
    }
   ],
   "source": [
    "print(\"Training set Accuracy score: {num:.4f}.\".format(num=naive_bayes_cls.score(X_train,y_train)))\n",
    "print(\"Testing set Accuracy score: {num:.4f}.\".format(num=naive_bayes_cls.score(X_test,y_test)))"
   ]
  },
  {
   "cell_type": "markdown",
   "metadata": {
    "id": "1PEc7LOEsY82"
   },
   "source": [
    "# **Plotting the Results**"
   ]
  },
  {
   "cell_type": "code",
   "execution_count": 67,
   "metadata": {
    "colab": {
     "base_uri": "https://localhost:8080/",
     "height": 296
    },
    "id": "vD21EIpGsVVu",
    "outputId": "b993bd05-39f1-4f04-c653-3c875985cd78"
   },
   "outputs": [
    {
     "data": {
      "image/png": "[encoded data removed]",
      "text/plain": [
       "<Figure size 432x288 with 1 Axes>"
      ]
     },
     "metadata": {
      "needs_background": "light"
     },
     "output_type": "display_data"
    }
   ],
   "source": [
    "\n",
    "X = ['log_reg','knn','dec_tree','rm_forest','naive_bayes' ]\n",
    "train = [x1,x2,x3,x4,x5]\n",
    "test = [y1,y2,y3,y4,y5]\n",
    "  \n",
    "X_axis = np.arange(len(X))\n",
    "  \n",
    "plt.bar(X_axis - 0.2, train, 0.4, label = 'training rmse')\n",
    "plt.bar(X_axis + 0.2, test, 0.4, label = 'testing rsme')\n",
    "  \n",
    "plt.xticks(X_axis, X)\n",
    "plt.xlabel(\"Classification Models\")\n",
    "plt.ylabel(\"RSME Values\")\n",
    "plt.title(\"Comparison of Classification models\")\n",
    "plt.legend(loc='center left', bbox_to_anchor=(1, 0.5))\n",
    "plt.show()"
   ]
  },
  {
   "cell_type": "markdown",
   "metadata": {
    "id": "vwt0Rcd7kaPE"
   },
   "source": [
    "From the analysis of the RMSE scores of the above classification models it can be clearly stated that Decesion Tree and Random Forest models overfit the training dataset, and hence to be discarded for this problem. From the model Logistics Regression and Naive Bayes it is visible that the rmse score for test data is higher than KNN classifier. So, KNN classifier has the highest prediction accuracy for this problem."
   ]
  },
  {
   "cell_type": "markdown",
   "metadata": {
    "id": "tRjL6B33p3Yk"
   },
   "source": [
    "[Online Link of this notebook](https://colab.research.google.com/drive/1BUtLRuTJlLDB41tJJIblNYQ-yv98rmEF?usp=sharing)"
   ]
  }
 ],
 "metadata": {
  "colab": {
   "collapsed_sections": [],
   "name": "ML 20216021(Umme Rubaiyat Chowdhury).ipynb",
   "provenance": []
  },
  "kernelspec": {
   "display_name": "Python 3",
   "language": "python",
   "name": "python3"
  },
  "language_info": {
   "codemirror_mode": {
    "name": "ipython",
    "version": 3
   },
   "file_extension": ".py",
   "mimetype": "text/x-python",
   "name": "python",
   "nbconvert_exporter": "python",
   "pygments_lexer": "ipython3",
   "version": "3.8.8"
  }
 },
 "nbformat": 4,
 "nbformat_minor": 1
}
