{
 "cells": [
  {
   "cell_type": "code",
   "execution_count": 2,
   "id": "4cd74939",
   "metadata": {},
   "outputs": [
    {
     "ename": "SyntaxError",
     "evalue": "invalid syntax (<ipython-input-2-390558d80865>, line 1)",
     "output_type": "error",
     "traceback": [
      "\u001b[1;36m  File \u001b[1;32m\"<ipython-input-2-390558d80865>\"\u001b[1;36m, line \u001b[1;32m1\u001b[0m\n\u001b[1;33m    conda install pandas\u001b[0m\n\u001b[1;37m          ^\u001b[0m\n\u001b[1;31mSyntaxError\u001b[0m\u001b[1;31m:\u001b[0m invalid syntax\n"
     ]
    }
   ],
   "source": [
    "\n",
    "import numpy as np\n",
    "import pandas as pd\n",
    "df=pd.read_csv('F:\\DS_Juniv\\Lab-1\\haberman.csv')\n",
    "df.info()\n",
    "df.shape\n",
    "df.describe()\n",
    "df.mode()\n",
    "df.status.mode()\n",
    "df['status'].mode() # to calculate mode for status variable\n",
    "##df['status', 'age'].mode()\n",
    "df[['status', 'age']].mode()"
   ]
  },
  {
   "cell_type": "code",
   "execution_count": null,
   "id": "6fb0f560",
   "metadata": {},
   "outputs": [],
   "source": []
  }
 ],
 "metadata": {
  "kernelspec": {
   "display_name": "Python 3",
   "language": "python",
   "name": "python3"
  },
  "language_info": {
   "codemirror_mode": {
    "name": "ipython",
    "version": 3
   },
   "file_extension": ".py",
   "mimetype": "text/x-python",
   "name": "python",
   "nbconvert_exporter": "python",
   "pygments_lexer": "ipython3",
   "version": "3.8.10"
  }
 },
 "nbformat": 4,
 "nbformat_minor": 5
}
