{
 "cells": [
  {
   "cell_type": "markdown",
   "id": "70841a75",
   "metadata": {},
   "source": [
    "Umme Rubaiyat Chowdhury\n",
    "ID: 2021021\n",
    "Section:A, batch: 6th"
   ]
  },
  {
   "cell_type": "code",
   "execution_count": 81,
   "id": "e6c86114",
   "metadata": {},
   "outputs": [],
   "source": [
    "#importing libraries\n",
    "import pandas as pd\n",
    "import numpy as np\n",
    "#Importing the requres ML Librarires\n",
    "from sklearn.model_selection import train_test_split\n"
   ]
  },
  {
   "cell_type": "code",
   "execution_count": 82,
   "id": "a79d9fe9",
   "metadata": {},
   "outputs": [],
   "source": [
    "#reading the dataset\n",
    "data= pd.read_csv(\"admission.csv\")"
   ]
  },
  {
   "cell_type": "code",
   "execution_count": 83,
   "id": "0d5a26b1",
   "metadata": {},
   "outputs": [
    {
     "data": {
      "text/html": [
       "<div>\n",
       "<style scoped>\n",
       "    .dataframe tbody tr th:only-of-type {\n",
       "        vertical-align: middle;\n",
       "    }\n",
       "\n",
       "    .dataframe tbody tr th {\n",
       "        vertical-align: top;\n",
       "    }\n",
       "\n",
       "    .dataframe thead th {\n",
       "        text-align: right;\n",
       "    }\n",
       "</style>\n",
       "<table border=\"1\" class=\"dataframe\">\n",
       "  <thead>\n",
       "    <tr style=\"text-align: right;\">\n",
       "      <th></th>\n",
       "      <th>sl</th>\n",
       "      <th>gmat</th>\n",
       "      <th>gpa</th>\n",
       "      <th>work experience</th>\n",
       "      <th>admitted</th>\n",
       "      <th></th>\n",
       "      <th>.1</th>\n",
       "      <th>.2</th>\n",
       "      <th>.3</th>\n",
       "      <th>.4</th>\n",
       "      <th>.5</th>\n",
       "    </tr>\n",
       "  </thead>\n",
       "  <tbody>\n",
       "    <tr>\n",
       "      <th>0</th>\n",
       "      <td>1</td>\n",
       "      <td>780</td>\n",
       "      <td>4.0</td>\n",
       "      <td>3</td>\n",
       "      <td>1</td>\n",
       "      <td></td>\n",
       "      <td>NaN</td>\n",
       "      <td>NaN</td>\n",
       "      <td>NaN</td>\n",
       "      <td>NaN</td>\n",
       "      <td>NaN</td>\n",
       "    </tr>\n",
       "    <tr>\n",
       "      <th>1</th>\n",
       "      <td>2</td>\n",
       "      <td>750</td>\n",
       "      <td>3.9</td>\n",
       "      <td>4</td>\n",
       "      <td>1</td>\n",
       "      <td></td>\n",
       "      <td>NaN</td>\n",
       "      <td>NaN</td>\n",
       "      <td>NaN</td>\n",
       "      <td>NaN</td>\n",
       "      <td>NaN</td>\n",
       "    </tr>\n",
       "    <tr>\n",
       "      <th>2</th>\n",
       "      <td>3</td>\n",
       "      <td>690</td>\n",
       "      <td>3.3</td>\n",
       "      <td>3</td>\n",
       "      <td>0</td>\n",
       "      <td></td>\n",
       "      <td>NaN</td>\n",
       "      <td>NaN</td>\n",
       "      <td>NaN</td>\n",
       "      <td>NaN</td>\n",
       "      <td>NaN</td>\n",
       "    </tr>\n",
       "  </tbody>\n",
       "</table>\n",
       "</div>"
      ],
      "text/plain": [
       "   sl  gmat  gpa  work experience  admitted      .1   .2   .3   .4   .5\n",
       "0   1   780  4.0                3         1     NaN  NaN  NaN  NaN  NaN\n",
       "1   2   750  3.9                4         1     NaN  NaN  NaN  NaN  NaN\n",
       "2   3   690  3.3                3         0     NaN  NaN  NaN  NaN  NaN"
      ]
     },
     "execution_count": 83,
     "metadata": {},
     "output_type": "execute_result"
    }
   ],
   "source": [
    "#converting data into DataFrame\n",
    "df= pd.DataFrame(data)\n",
    "df.head(3)"
   ]
  },
  {
   "cell_type": "code",
   "execution_count": 84,
   "id": "a50d051b",
   "metadata": {},
   "outputs": [
    {
     "data": {
      "text/html": [
       "<div>\n",
       "<style scoped>\n",
       "    .dataframe tbody tr th:only-of-type {\n",
       "        vertical-align: middle;\n",
       "    }\n",
       "\n",
       "    .dataframe tbody tr th {\n",
       "        vertical-align: top;\n",
       "    }\n",
       "\n",
       "    .dataframe thead th {\n",
       "        text-align: right;\n",
       "    }\n",
       "</style>\n",
       "<table border=\"1\" class=\"dataframe\">\n",
       "  <thead>\n",
       "    <tr style=\"text-align: right;\">\n",
       "      <th></th>\n",
       "      <th>sl</th>\n",
       "      <th>gmat</th>\n",
       "      <th>gpa</th>\n",
       "      <th>work experience</th>\n",
       "      <th>admitted</th>\n",
       "    </tr>\n",
       "  </thead>\n",
       "  <tbody>\n",
       "    <tr>\n",
       "      <th>0</th>\n",
       "      <td>1</td>\n",
       "      <td>780</td>\n",
       "      <td>4.0</td>\n",
       "      <td>3</td>\n",
       "      <td>1</td>\n",
       "    </tr>\n",
       "    <tr>\n",
       "      <th>1</th>\n",
       "      <td>2</td>\n",
       "      <td>750</td>\n",
       "      <td>3.9</td>\n",
       "      <td>4</td>\n",
       "      <td>1</td>\n",
       "    </tr>\n",
       "    <tr>\n",
       "      <th>2</th>\n",
       "      <td>3</td>\n",
       "      <td>690</td>\n",
       "      <td>3.3</td>\n",
       "      <td>3</td>\n",
       "      <td>0</td>\n",
       "    </tr>\n",
       "  </tbody>\n",
       "</table>\n",
       "</div>"
      ],
      "text/plain": [
       "   sl  gmat  gpa  work experience  admitted\n",
       "0   1   780  4.0                3         1\n",
       "1   2   750  3.9                4         1\n",
       "2   3   690  3.3                3         0"
      ]
     },
     "execution_count": 84,
     "metadata": {},
     "output_type": "execute_result"
    }
   ],
   "source": [
    "#dropping unnecessary cloumns \n",
    "df.drop(df.iloc[:, 5:], inplace = True, axis = 1)\n",
    "df.head(3)"
   ]
  },
  {
   "cell_type": "code",
   "execution_count": 85,
   "id": "c3b5ea68",
   "metadata": {},
   "outputs": [],
   "source": [
    "#normalizing the data\n",
    "normalized_df=(df-df.min())/(df.max()-df.min())"
   ]
  },
  {
   "cell_type": "code",
   "execution_count": 86,
   "id": "5c53a55e",
   "metadata": {},
   "outputs": [
    {
     "data": {
      "text/html": [
       "<div>\n",
       "<style scoped>\n",
       "    .dataframe tbody tr th:only-of-type {\n",
       "        vertical-align: middle;\n",
       "    }\n",
       "\n",
       "    .dataframe tbody tr th {\n",
       "        vertical-align: top;\n",
       "    }\n",
       "\n",
       "    .dataframe thead th {\n",
       "        text-align: right;\n",
       "    }\n",
       "</style>\n",
       "<table border=\"1\" class=\"dataframe\">\n",
       "  <thead>\n",
       "    <tr style=\"text-align: right;\">\n",
       "      <th></th>\n",
       "      <th>sl</th>\n",
       "      <th>gmat</th>\n",
       "      <th>gpa</th>\n",
       "      <th>work experience</th>\n",
       "      <th>admitted</th>\n",
       "    </tr>\n",
       "  </thead>\n",
       "  <tbody>\n",
       "    <tr>\n",
       "      <th>0</th>\n",
       "      <td>-1.689278</td>\n",
       "      <td>2.077331</td>\n",
       "      <td>1.452001</td>\n",
       "      <td>-0.247681</td>\n",
       "      <td>1.051315</td>\n",
       "    </tr>\n",
       "    <tr>\n",
       "      <th>1</th>\n",
       "      <td>-1.602648</td>\n",
       "      <td>1.582728</td>\n",
       "      <td>1.291559</td>\n",
       "      <td>0.335098</td>\n",
       "      <td>1.051315</td>\n",
       "    </tr>\n",
       "    <tr>\n",
       "      <th>2</th>\n",
       "      <td>-1.516018</td>\n",
       "      <td>0.593523</td>\n",
       "      <td>0.328906</td>\n",
       "      <td>-0.247681</td>\n",
       "      <td>-0.951190</td>\n",
       "    </tr>\n",
       "    <tr>\n",
       "      <th>3</th>\n",
       "      <td>-1.429389</td>\n",
       "      <td>0.923258</td>\n",
       "      <td>0.970675</td>\n",
       "      <td>0.917876</td>\n",
       "      <td>1.051315</td>\n",
       "    </tr>\n",
       "    <tr>\n",
       "      <th>4</th>\n",
       "      <td>-1.342759</td>\n",
       "      <td>0.428656</td>\n",
       "      <td>1.291559</td>\n",
       "      <td>0.335098</td>\n",
       "      <td>-0.951190</td>\n",
       "    </tr>\n",
       "  </tbody>\n",
       "</table>\n",
       "</div>"
      ],
      "text/plain": [
       "         sl      gmat       gpa  work experience  admitted\n",
       "0 -1.689278  2.077331  1.452001        -0.247681  1.051315\n",
       "1 -1.602648  1.582728  1.291559         0.335098  1.051315\n",
       "2 -1.516018  0.593523  0.328906        -0.247681 -0.951190\n",
       "3 -1.429389  0.923258  0.970675         0.917876  1.051315\n",
       "4 -1.342759  0.428656  1.291559         0.335098 -0.951190"
      ]
     },
     "execution_count": 86,
     "metadata": {},
     "output_type": "execute_result"
    }
   ],
   "source": [
    "#Here, I used StandardScaler to remove the mean and scales each feature/variable to unit variance.\n",
    "from sklearn.preprocessing import StandardScaler\n",
    "sc=StandardScaler()\n",
    "scaled_df = pd.DataFrame(StandardScaler().fit_transform(df),columns = df.columns)\n",
    "scaled_df.head()"
   ]
  },
  {
   "cell_type": "code",
   "execution_count": 109,
   "id": "7236be81",
   "metadata": {},
   "outputs": [
    {
     "data": {
      "text/html": [
       "<div>\n",
       "<style scoped>\n",
       "    .dataframe tbody tr th:only-of-type {\n",
       "        vertical-align: middle;\n",
       "    }\n",
       "\n",
       "    .dataframe tbody tr th {\n",
       "        vertical-align: top;\n",
       "    }\n",
       "\n",
       "    .dataframe thead th {\n",
       "        text-align: right;\n",
       "    }\n",
       "</style>\n",
       "<table border=\"1\" class=\"dataframe\">\n",
       "  <thead>\n",
       "    <tr style=\"text-align: right;\">\n",
       "      <th></th>\n",
       "      <th>gmat</th>\n",
       "      <th>gpa</th>\n",
       "      <th>work experience</th>\n",
       "    </tr>\n",
       "  </thead>\n",
       "  <tbody>\n",
       "    <tr>\n",
       "      <th>0</th>\n",
       "      <td>780</td>\n",
       "      <td>4.0</td>\n",
       "      <td>3</td>\n",
       "    </tr>\n",
       "    <tr>\n",
       "      <th>1</th>\n",
       "      <td>750</td>\n",
       "      <td>3.9</td>\n",
       "      <td>4</td>\n",
       "    </tr>\n",
       "    <tr>\n",
       "      <th>2</th>\n",
       "      <td>690</td>\n",
       "      <td>3.3</td>\n",
       "      <td>3</td>\n",
       "    </tr>\n",
       "    <tr>\n",
       "      <th>3</th>\n",
       "      <td>710</td>\n",
       "      <td>3.7</td>\n",
       "      <td>5</td>\n",
       "    </tr>\n",
       "    <tr>\n",
       "      <th>4</th>\n",
       "      <td>680</td>\n",
       "      <td>3.9</td>\n",
       "      <td>4</td>\n",
       "    </tr>\n",
       "  </tbody>\n",
       "</table>\n",
       "</div>"
      ],
      "text/plain": [
       "   gmat  gpa  work experience\n",
       "0   780  4.0                3\n",
       "1   750  3.9                4\n",
       "2   690  3.3                3\n",
       "3   710  3.7                5\n",
       "4   680  3.9                4"
      ]
     },
     "execution_count": 109,
     "metadata": {},
     "output_type": "execute_result"
    }
   ],
   "source": [
    "##Choossing the independent variable X and the dependent variable Y \n",
    "X= df.iloc[:,1:4]\n",
    "X[0:5]"
   ]
  },
  {
   "cell_type": "code",
   "execution_count": 110,
   "id": "f6ca4043",
   "metadata": {},
   "outputs": [
    {
     "data": {
      "text/plain": [
       "0    1\n",
       "1    1\n",
       "2    0\n",
       "3    1\n",
       "4    0\n",
       "Name: admitted, dtype: int64"
      ]
     },
     "execution_count": 110,
     "metadata": {},
     "output_type": "execute_result"
    }
   ],
   "source": [
    "y= df.iloc[:,4]\n",
    "y[0:5]"
   ]
  },
  {
   "cell_type": "markdown",
   "id": "69c6fb15",
   "metadata": {},
   "source": [
    "Q1. Using last 4 digits of your JU ID/Roll number, select randomly 25% data for testing and 75% data for training \n",
    "for different classification models and consequent analysis. Print the FIRST 3 observations of training data data."
   ]
  },
  {
   "cell_type": "code",
   "execution_count": 89,
   "id": "4bb0f33d",
   "metadata": {},
   "outputs": [],
   "source": [
    "#train_test_split function used to split datas into train and test set\n",
    "X_train,X_test,y_train,y_test= train_test_split(X,y, test_size=.25,random_state=6021)"
   ]
  },
  {
   "cell_type": "code",
   "execution_count": 90,
   "id": "f9baa456",
   "metadata": {},
   "outputs": [
    {
     "name": "stdout",
     "output_type": "stream",
     "text": [
      "First 3 observations from training data:\n",
      "      gmat  gpa  work experience  admitted\n",
      "37   580  3.3                1         0\n",
      "4    680  3.9                4         0\n",
      "31   620  2.7                2         0\n"
     ]
    }
   ],
   "source": [
    "#first 3 observations of training data\n",
    "first_3=pd.concat([X_train.head(3),y_train.head(3)],axis=1)\n",
    "print(\"First 3 observations from training data:\\n \",first_3)"
   ]
  },
  {
   "cell_type": "markdown",
   "id": "5308bbcb",
   "metadata": {},
   "source": [
    "Q2. Consider the data set discussed in Q1. Develop classification model by logistic regression, Decision Tree,\n",
    "Bagging, Ada Bost, and Random Forest using the training data set. Using the test data, determine model accuracies \n",
    "and comment on them."
   ]
  },
  {
   "cell_type": "code",
   "execution_count": 91,
   "id": "0cc3bfaa",
   "metadata": {},
   "outputs": [],
   "source": [
    "from sklearn import metrics\n",
    "import seaborn as sn"
   ]
  },
  {
   "cell_type": "code",
   "execution_count": 92,
   "id": "90532424",
   "metadata": {},
   "outputs": [],
   "source": [
    "#Appling Logistic Regression model on the training set\n",
    "from sklearn.linear_model import LogisticRegression\n",
    "logisticReg= LogisticRegression()"
   ]
  },
  {
   "cell_type": "code",
   "execution_count": 93,
   "id": "ef86a7d5",
   "metadata": {},
   "outputs": [
    {
     "data": {
      "text/plain": [
       "LogisticRegression()"
      ]
     },
     "execution_count": 93,
     "metadata": {},
     "output_type": "execute_result"
    }
   ],
   "source": [
    "logisticReg.fit(X_train,y_train)"
   ]
  },
  {
   "cell_type": "code",
   "execution_count": 94,
   "id": "ecb13542",
   "metadata": {},
   "outputs": [],
   "source": [
    "y_pred= logisticReg.predict(X_test)"
   ]
  },
  {
   "cell_type": "code",
   "execution_count": 95,
   "id": "d2ebd27a",
   "metadata": {},
   "outputs": [
    {
     "name": "stdout",
     "output_type": "stream",
     "text": [
      "Accuracy:  1.0\n"
     ]
    }
   ],
   "source": [
    "print('Accuracy: ',metrics.accuracy_score(y_test, y_pred))\n",
    " "
   ]
  },
  {
   "cell_type": "code",
   "execution_count": 96,
   "id": "e6447628",
   "metadata": {},
   "outputs": [],
   "source": [
    "from sklearn.ensemble import RandomForestClassifier, AdaBoostClassifier, BaggingClassifier \n",
    "from sklearn.tree import DecisionTreeClassifier"
   ]
  },
  {
   "cell_type": "code",
   "execution_count": 97,
   "id": "30b4529d",
   "metadata": {},
   "outputs": [
    {
     "name": "stdout",
     "output_type": "stream",
     "text": [
      "Accuracy:  1.0\n"
     ]
    }
   ],
   "source": [
    "#Appling DecisionTreeClassifier model on the training set\n",
    "dt= DecisionTreeClassifier()\n",
    "dt.fit(X_train,y_train)\n",
    "y_pred=dt.predict(X_test)\n",
    "print('Accuracy: ',metrics.accuracy_score(y_test, y_pred))"
   ]
  },
  {
   "cell_type": "code",
   "execution_count": 98,
   "id": "450e1549",
   "metadata": {},
   "outputs": [
    {
     "name": "stdout",
     "output_type": "stream",
     "text": [
      "Accuracy:  1.0\n"
     ]
    }
   ],
   "source": [
    "#Appling Random Forest Regressor model on the training set\n",
    "rf= RandomForestClassifier(n_estimators=100,max_features=\"auto\",random_state=6021)\n",
    "rf.fit(X_train,y_train)\n",
    "y_pred=dt.predict(X_test)\n",
    "print('Accuracy: ',metrics.accuracy_score(y_test, y_pred))"
   ]
  },
  {
   "cell_type": "code",
   "execution_count": 99,
   "id": "4d6ce73a",
   "metadata": {},
   "outputs": [
    {
     "name": "stdout",
     "output_type": "stream",
     "text": [
      "Accuracy:  1.0\n"
     ]
    }
   ],
   "source": [
    "#Appling AdaBoostClassifier model on the training set\n",
    "ada= AdaBoostClassifier(n_estimators=100)\n",
    "ada.fit(X_train,y_train)\n",
    "y_pred=ada.predict(X_test)\n",
    "print('Accuracy: ',metrics.accuracy_score(y_test, y_pred))"
   ]
  },
  {
   "cell_type": "code",
   "execution_count": 100,
   "id": "3d88b81d",
   "metadata": {},
   "outputs": [
    {
     "name": "stdout",
     "output_type": "stream",
     "text": [
      "Accuracy:  1.0\n"
     ]
    }
   ],
   "source": [
    "#Appling BaggingClassifier model on the training set\n",
    "bg= BaggingClassifier(base_estimator= DecisionTreeClassifier(), n_estimators=100,random_state=6021)\n",
    "bg.fit(X_train,y_train)\n",
    "y_pred=bg.predict(X_test)\n",
    "print('Accuracy: ',metrics.accuracy_score(y_test, y_pred))"
   ]
  },
  {
   "cell_type": "code",
   "execution_count": 111,
   "id": "7ab91e62",
   "metadata": {},
   "outputs": [],
   "source": [
    "from sklearn.metrics import mean_squared_error, f1_score\n",
    "def rmse_score(model, X_train, X_test, y_train, y_test):\n",
    "    mse_train = mean_squared_error(y_true = y_train,\n",
    "                                  y_pred = model.predict(X_train))\n",
    "    mse_test = mean_squared_error(y_true = y_test,\n",
    "                                  y_pred = model.predict(X_test))\n",
    "    rmse_train = mse_train ** 0.5\n",
    "    rmse_test = mse_test ** 0.5\n",
    "    \n",
    "    print(\"The training RMSE for \" + str(model) + \" is: \" + str(rmse_train))\n",
    "    print(\"The testing RMSE for \" + str(model) + \" is: \" + str(rmse_test))\n",
    "    return (rmse_train, rmse_test)"
   ]
  },
  {
   "cell_type": "code",
   "execution_count": 115,
   "id": "2446a33f",
   "metadata": {},
   "outputs": [
    {
     "name": "stdout",
     "output_type": "stream",
     "text": [
      "The training RMSE for LogisticRegression() is: 0.3651483716701107\n",
      "The testing RMSE for LogisticRegression() is: 0.0\n"
     ]
    }
   ],
   "source": [
    "x1,y1 = rmse_score(logisticReg, X_train, X_test, y_train, y_test)"
   ]
  },
  {
   "cell_type": "code",
   "execution_count": 122,
   "id": "d610700e",
   "metadata": {},
   "outputs": [
    {
     "name": "stdout",
     "output_type": "stream",
     "text": [
      "The training RMSE for DecisionTreeClassifier() is: 0.0\n",
      "The testing RMSE for DecisionTreeClassifier() is: 0.0\n"
     ]
    }
   ],
   "source": [
    "x2,y2 = rmse_score(dt, X_train, X_test, y_train, y_test)"
   ]
  },
  {
   "cell_type": "code",
   "execution_count": 123,
   "id": "09ae7802",
   "metadata": {},
   "outputs": [
    {
     "name": "stdout",
     "output_type": "stream",
     "text": [
      "The training RMSE for RandomForestClassifier(random_state=6021) is: 0.0\n",
      "The testing RMSE for RandomForestClassifier(random_state=6021) is: 0.0\n"
     ]
    }
   ],
   "source": [
    "x3,y3 = rmse_score(rf, X_train, X_test, y_train, y_test)"
   ]
  },
  {
   "cell_type": "code",
   "execution_count": 124,
   "id": "5f523e99",
   "metadata": {},
   "outputs": [
    {
     "name": "stdout",
     "output_type": "stream",
     "text": [
      "The training RMSE for AdaBoostClassifier(n_estimators=100) is: 0.0\n",
      "The testing RMSE for AdaBoostClassifier(n_estimators=100) is: 0.0\n"
     ]
    }
   ],
   "source": [
    "x4,y4 = rmse_score(ada, X_train, X_test, y_train, y_test)"
   ]
  },
  {
   "cell_type": "code",
   "execution_count": 127,
   "id": "2eb568a5",
   "metadata": {},
   "outputs": [
    {
     "name": "stdout",
     "output_type": "stream",
     "text": [
      "The training RMSE for BaggingClassifier(base_estimator=DecisionTreeClassifier(), n_estimators=100,\n",
      "                  random_state=6021) is: 0.0\n",
      "The testing RMSE for BaggingClassifier(base_estimator=DecisionTreeClassifier(), n_estimators=100,\n",
      "                  random_state=6021) is: 0.0\n"
     ]
    }
   ],
   "source": [
    "x5,y5 = rmse_score(bg, X_train, X_test, y_train, y_test)"
   ]
  },
  {
   "cell_type": "markdown",
   "id": "8b86e8e0",
   "metadata": {},
   "source": [
    "Using the best model, classify the following new observations to either Admitted or not admitted:"
   ]
  },
  {
   "cell_type": "code",
   "execution_count": 101,
   "id": "714f9c54",
   "metadata": {},
   "outputs": [],
   "source": [
    "#new data\n",
    "new_candidates = {'gmat': [730,690,720],\n",
    "                  'gpa': [3.7,2.3,3.3],\n",
    "                  'work_experience': [4,2,8]\n",
    "                  }"
   ]
  },
  {
   "cell_type": "code",
   "execution_count": 129,
   "id": "827a382f",
   "metadata": {},
   "outputs": [
    {
     "name": "stdout",
     "output_type": "stream",
     "text": [
      "   gmat  gpa  work_experience\n",
      "0   730  3.7                4\n",
      "1   690  2.3                2\n",
      "2   720  3.3                8\n"
     ]
    }
   ],
   "source": [
    "#new data frame for the new data\n",
    "df2 = pd.DataFrame(new_candidates,columns= ['gmat', 'gpa','work_experience'])\n",
    "y_pred=dt.predict(df2)\n",
    "\n",
    "print (df2)\n"
   ]
  },
  {
   "cell_type": "code",
   "execution_count": 130,
   "id": "3b91d4be",
   "metadata": {},
   "outputs": [
    {
     "name": "stdout",
     "output_type": "stream",
     "text": [
      "[1 0 1]\n"
     ]
    }
   ],
   "source": [
    "print (y_pred)\n"
   ]
  },
  {
   "cell_type": "markdown",
   "id": "8e9498ef",
   "metadata": {},
   "source": [
    "Q3. Develop 3-Mean cluster model of the test data set for the 3 independent variables (gmat, gpa, and \n",
    "years of experience). Write down the three final center value print the clusters with centers."
   ]
  },
  {
   "cell_type": "code",
   "execution_count": 104,
   "id": "d0615ca5",
   "metadata": {},
   "outputs": [
    {
     "name": "stdout",
     "output_type": "stream",
     "text": [
      "[1 1 0 1 0 1 0 1 1 0 2 0 1 0 1 2 2 0 2 2 2 2 2 2 2 0 0 2 0 0 0 2 0 0 0 0 0\n",
      " 2 2 0]\n"
     ]
    }
   ],
   "source": [
    "#Import required module\n",
    "from sklearn.cluster import KMeans\n",
    "#Initialize the class object\n",
    "kmeans = KMeans(n_clusters=3, n_init=10, max_iter=300)\n",
    "#predict the labels of clusters.\n",
    "label = kmeans.fit_predict(X)\n",
    "print(label)\n"
   ]
  },
  {
   "cell_type": "code",
   "execution_count": 105,
   "id": "473f156c",
   "metadata": {},
   "outputs": [
    {
     "data": {
      "text/plain": [
       "array([[670.        ,   3.23333333,   3.83333333],\n",
       "       [738.75      ,   3.6125    ,   4.5       ],\n",
       "       [585.        ,   2.62142857,   2.28571429]])"
      ]
     },
     "execution_count": 105,
     "metadata": {},
     "output_type": "execute_result"
    }
   ],
   "source": [
    " #three final center value\n",
    "kmeans.cluster_centers_"
   ]
  },
  {
   "cell_type": "code",
   "execution_count": 106,
   "id": "f78ca84b",
   "metadata": {},
   "outputs": [
    {
     "data": {
      "image/png": "[encoded data removed]",
      "text/plain": [
       "<Figure size 432x288 with 1 Axes>"
      ]
     },
     "metadata": {
      "needs_background": "light"
     },
     "output_type": "display_data"
    }
   ],
   "source": [
    "#printing the clusters with centers\n",
    "import matplotlib.pyplot as plt\n",
    " \n",
    "#filter rows of original data\n",
    "filtered_label0 = X[label == 0]\n",
    "filtered_label1 = X[label == 1]\n",
    "filtered_label2 = X[label == 2]\n",
    " \n",
    "\n",
    "#plotting the results\n",
    "plt.scatter(filtered_label0, filtered_label0)\n",
    "plt.scatter(filtered_label1, filtered_label1, color = 'purple')\n",
    "plt.scatter(filtered_label2, filtered_label2, color = 'black')\n",
    "plt.show()"
   ]
  },
  {
   "cell_type": "markdown",
   "id": "0a011b9f",
   "metadata": {},
   "source": [
    "Q4. Develop 3-nearest-neighbors cluster model of the test data set for the 3 independent variables\n",
    "(gmat, gpa, and years of experience). Using the test data, construct confusion matrix and accuracy of the model."
   ]
  },
  {
   "cell_type": "code",
   "execution_count": 107,
   "id": "4ecbb2b6",
   "metadata": {},
   "outputs": [
    {
     "name": "stdout",
     "output_type": "stream",
     "text": [
      "Accuracy:  1.0\n"
     ]
    }
   ],
   "source": [
    "from sklearn.neighbors import KNeighborsClassifier\n",
    "classifier = KNeighborsClassifier(n_neighbors = 3)  # number of neighbour group\n",
    "classifier.fit(X_train, y_train)\n",
    "y_pred=ada.predict(X_test)\n",
    "print('Accuracy: ',metrics.accuracy_score(y_test, y_pred))"
   ]
  },
  {
   "cell_type": "code",
   "execution_count": 108,
   "id": "142c8c06",
   "metadata": {},
   "outputs": [
    {
     "data": {
      "text/plain": [
       "<AxesSubplot:xlabel='Predicted', ylabel='Actual'>"
      ]
     },
     "execution_count": 108,
     "metadata": {},
     "output_type": "execute_result"
    },
    {
     "data": {
      "image/png": "[encoded data removed]",
      "text/plain": [
       "<Figure size 432x288 with 2 Axes>"
      ]
     },
     "metadata": {
      "needs_background": "light"
     },
     "output_type": "display_data"
    }
   ],
   "source": [
    "confusion_matrix= pd.crosstab(y_test,y_pred,rownames=['Actual'], colnames=['Predicted'])\n",
    "sn.heatmap(confusion_matrix,annot=True)\n"
   ]
  },
  {
   "cell_type": "markdown",
   "id": "d732024f",
   "metadata": {},
   "source": [
    "Q5. Finally, write a report based on the above results."
   ]
  },
  {
   "cell_type": "markdown",
   "id": "5d8ff08f",
   "metadata": {},
   "source": [
    "# Report"
   ]
  },
  {
   "cell_type": "markdown",
   "id": "33ba6798",
   "metadata": {},
   "source": [
    "Here I have tried to determine whether candidates would get admitted to a prestigious university based on the three independent variables:\n",
    "\n",
    "· GMAT score\n",
    "\n",
    "· GPA\n",
    "\n",
    "· Years of work experience\n",
    "\n",
    "The dependent variable “admitted” represents whether a person gets admitted with two possible outcomes\n",
    "\n",
    "· Admitted (coded as ‘1’)\n",
    "\n",
    "and\n",
    "\n",
    "· Rejected (coded as ‘0’).\n",
    "\n",
    "Data Preprocessing\n",
    "\n",
    "After importing the required data processing libraries, I have dropped the unnecessary columns.\n",
    "\n",
    "Data Scaling\n",
    "\n",
    "Then I used the StandardScaler function to remove the mean and scale each feature/variable to unit variance.\n",
    "\n",
    "Data Splitting\n",
    "\n",
    "Then, according to the assignment guideline, I have split the dataset to Test and Train with a 25:75 ratio.\n",
    "\n",
    "After that, I Printed the first three observations of training data.\n",
    "\n",
    "Model Generation\n",
    "\n",
    "Next to the assignment guideline, I developed classification models by Logistic Regression, Decision Tree, Bagging, Ada Bost, and Random Forest using the training data set.\n",
    "\n",
    "Model Accuracy\n",
    "\n",
    "I found out the Accuracy of prediction from the experiment using my developed models. All my models have 100% accurate predictions for the dependent variable “admitted.” \n",
    "\n",
    "I also evaluate all the model by checking their RMSE error. Except Logistic Regression model rest of the models showes 0 RMSE score for both traing and testing set.\n",
    "\n",
    "So, based on the data, except Logistic Regression all of the four models developed using Decision Tree, Bagging, Ada Bost, and Random Forest are best for this problem.\n",
    "\n",
    "For this reason, I have used Logistic Regression and classified the following observations to either be “admitted” or “not_admitted.”\n",
    "\n",
    "| gmat | gpa | Years of experience | admitted |\n",
    "\n",
    "| 730 | 3.7 | 4 | 1 |\n",
    "\n",
    "| 690 | 2.3 | 2 | 0 |\n",
    "\n",
    "| 720 | 3.3 | 8 | 1 |\n",
    "\n",
    "K-Means apply (K=3)\n",
    "\n",
    "Then I developed 3-Mean cluster model of the test data set for the 3 independent variables (gmat, gpa, and years of experience). After I wrote down the three final center value.\n",
    "\n",
    "3 Nearest Neighbour Apply\n",
    "\n",
    "Then I developed 3-Nearest Neighbour model of the test data set for the 3 independent variables (gmat, gpa, and years of experience)\n",
    "\n",
    "Confusion Matrix\n",
    "\n",
    "After that, I displayed the confusion matrix and Accuracy of the model.\n",
    "\n",
    "Summary\n",
    "\n",
    "From the above experiment, I found all the implemented model accuracy to be 1 (100% Accurate). The data quantity being low & using the random state with my ID gives this result. If I use a different Random State, the Accuracy of the model decreases in a little ratio (Negligible)."
   ]
  },
  {
   "cell_type": "code",
   "execution_count": null,
   "id": "e0181f2e",
   "metadata": {},
   "outputs": [],
   "source": []
  }
 ],
 "metadata": {
  "kernelspec": {
   "display_name": "Python 3",
   "language": "python",
   "name": "python3"
  },
  "language_info": {
   "codemirror_mode": {
    "name": "ipython",
    "version": 3
   },
   "file_extension": ".py",
   "mimetype": "text/x-python",
   "name": "python",
   "nbconvert_exporter": "python",
   "pygments_lexer": "ipython3",
   "version": "3.8.8"
  }
 },
 "nbformat": 4,
 "nbformat_minor": 5
}
